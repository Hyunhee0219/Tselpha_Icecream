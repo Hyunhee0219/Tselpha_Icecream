{
 "cells": [
  {
   "cell_type": "markdown",
   "id": "c0591cec",
   "metadata": {},
   "source": [
    "### - 데이터 수집"
   ]
  },
  {
   "cell_type": "markdown",
   "id": "a85c41af",
   "metadata": {},
   "source": [
    "#### # 최근 6개월 후기(제목, 시간, 별점, 날짜, 후기)"
   ]
  },
  {
   "cell_type": "code",
   "execution_count": 1,
   "id": "96036bea",
   "metadata": {},
   "outputs": [
    {
     "name": "stdout",
     "output_type": "stream",
     "text": [
      "현재 페이지: 1\n",
      "현재 페이지: 2\n",
      "현재 페이지: 3\n",
      "현재 페이지: 4\n",
      "현재 페이지: 5\n",
      "현재 페이지: 6\n",
      "현재 페이지: 7\n",
      "현재 페이지: 8\n",
      "현재 페이지: 9\n",
      "현재 페이지: 10\n",
      "현재 페이지: 11\n",
      "현재 페이지: 12\n",
      "현재 페이지: 13\n",
      "현재 페이지: 14\n",
      "현재 페이지: 15\n",
      "6개월 이내의 후기가 아닙니다: 2023.12.19\n",
      "                                    제목  시간 별점          날짜  \\\n",
      "0        과학저술가 정인경, 이지유와 함께하는 신나는 과학수다  15  5  2024.06.16   \n",
      "1             쉽게 배우고 활용하는 교실 속 손그림 그리기  15  5  2024.06.15   \n",
      "2    어린이 생활세계로 열어가는 사회 교과서 이야기 (5~6학년)  10  4  2024.06.15   \n",
      "3                    교사를 위한 교실 밖 여행인문학  15  5  2024.06.15   \n",
      "4                          초등 고학년 탐구생활  15  5  2024.06.15   \n",
      "..                                 ...  .. ..         ...   \n",
      "142           English Grammar in Use 2  30  5  2023.12.23   \n",
      "143                  세상에서 제일 쉬운 과학 이야기  30  5  2023.12.22   \n",
      "144  어린이 생활세계로 열어가는 사회 교과서 이야기 (5~6학년)  10  5  2023.12.22   \n",
      "145           손그림과 파워포인트로 교실 속 콘텐츠 만들기  30  5  2023.12.21   \n",
      "146                메이슨의 Travel English  30  5  2023.12.21   \n",
      "\n",
      "                                      본문  \n",
      "0     가벼운 대화로도 깊이 있게 생각할 거리를 주는 연수였습니다.…  \n",
      "1     손으로 끄적거리는 걸 좋아하는 편이지만,\\n안타깝게도 예술적…  \n",
      "2     오랫만에 고학년을 담임해서 \\n사회과 지도가 만만치 않아서 …  \n",
      "3     여행을 잘 다니지 않는 방안퉁수형 인간인지라 여행지를 보면 …  \n",
      "4     10여년 만에 하는 고학년 두렵기만 했습니다. 지금은 어느 …  \n",
      "..                                   ...  \n",
      "142  이지경선생님은 예전부터 문법으로 유명하다고 들었는데..\\n티셀…  \n",
      "143   어려운 과학 이야기를 이해하기 쉽게 풀어서 설명해주시어 재미…  \n",
      "144   짧은 시간의 연수지만 알차고 도움이 많이 되었습니다.감사합니…  \n",
      "145   동료와 함께 그림을 그리며 함께 그리는 시간이되어 정말 재미…  \n",
      "146   미국 여행 앞두고 신청한 연수였는데 공항에서부터 가서 물건 …  \n",
      "\n",
      "[147 rows x 5 columns]\n"
     ]
    }
   ],
   "source": [
    "from selenium import webdriver\n",
    "from selenium.webdriver.common.by import By\n",
    "from selenium.webdriver.support.ui import WebDriverWait\n",
    "from selenium.webdriver.support import expected_conditions as EC\n",
    "import pandas as pd\n",
    "import time\n",
    "from datetime import datetime, timedelta\n",
    "# Chrome WebDriver 경로 설정 (본인 환경에 맞게 수정 필요)\n",
    "driver = webdriver.Chrome()\n",
    "# 웹 페이지 로드\n",
    "driver.get('https://edu.tsherpa.co.kr/LectureInfo/LectureReviews2')\n",
    "# 데이터를 저장할 리스트 초기화\n",
    "titles = []\n",
    "times = []\n",
    "ratings = []\n",
    "dates = []\n",
    "contents = []\n",
    "# 오늘 날짜 기준으로 6개월 전 날짜 계산\n",
    "today = datetime.now()\n",
    "six_months_ago = today - timedelta(days=180)\n",
    "page = 1\n",
    "continue_crawling = True\n",
    "while page <= 315 and continue_crawling:\n",
    "    try:\n",
    "        # 페이지 버튼의 XPath 계산\n",
    "        if page % 10 == 1:\n",
    "            page_xpath = '//*[@id=\"mainForm\"]/div[3]/strong/a'\n",
    "        else:\n",
    "            page_in_group = (page - 1) % 10 + 2\n",
    "            page_xpath = f'//*[@id=\"mainForm\"]/div[3]/a[{page_in_group}]'\n",
    "        # 페이지 버튼 클릭하여 해당 페이지로 이동\n",
    "        page_button = WebDriverWait(driver, 30).until(\n",
    "            EC.element_to_be_clickable((By.XPATH, page_xpath))\n",
    "        )\n",
    "        page_button.click()\n",
    "        # 현재 페이지 번호 출력\n",
    "        print(f\"현재 페이지: {page}\")\n",
    "        # 각 페이지의 10개 요소 순회\n",
    "        for row in range(1, 11):\n",
    "            try:\n",
    "                # 날짜 추출\n",
    "                date_xpath = f'//*[@id=\"mainForm\"]/table/tbody/tr[{row}]/td[3]'\n",
    "                date_element = WebDriverWait(driver, 10).until(\n",
    "                    EC.presence_of_element_located((By.XPATH, date_xpath))\n",
    "                )\n",
    "                date_text = date_element.text.strip().split('\\n')[-1]\n",
    "                review_date = datetime.strptime(date_text, '%Y.%m.%d')\n",
    "                # 6개월 이내의 후기만 크롤링\n",
    "                if review_date >= six_months_ago:\n",
    "                    dates.append(date_text)\n",
    "                    # 제목 추출\n",
    "                    title_xpath = f'//*[@id=\"mainForm\"]/table/tbody/tr[{row}]/td[2]/a'\n",
    "                    title_element = WebDriverWait(driver, 10).until(\n",
    "                        EC.presence_of_element_located((By.XPATH, title_xpath))\n",
    "                    )\n",
    "                    title = title_element.text.split('<br>')[0].strip()\n",
    "                    title = title.split('시간 ')[1].split('\\n\\n')[0]\n",
    "                    titles.append(title)\n",
    "                    # 본문 추출\n",
    "                    content_xpath = f'//*[@id=\"mainForm\"]/table/tbody/tr[{row}]/td[2]/a'\n",
    "                    content_element = WebDriverWait(driver, 10).until(\n",
    "                        EC.presence_of_element_located((By.XPATH, content_xpath))\n",
    "                    )\n",
    "                    content_html = content_element.get_attribute('innerHTML')\n",
    "                    content = content_html.split('<br>\\n')[2].strip().split('<img')[0].strip()\n",
    "                    contents.append(content)\n",
    "                    # 시간 추출\n",
    "                    time_xpath = f'//*[@id=\"mainForm\"]/table/tbody/tr[{row}]/td[2]/a/span'\n",
    "                    time_element = WebDriverWait(driver, 10).until(\n",
    "                        EC.presence_of_element_located((By.XPATH, time_xpath))\n",
    "                    )\n",
    "                    time = time_element.text.strip().replace('시간','')\n",
    "                    times.append(time)\n",
    "                    # 별점(평점) 추출\n",
    "                    rating_xpath = f'//*[@id=\"mainForm\"]/table/tbody/tr[{row}]/td[3]/img'\n",
    "                    rating_element = WebDriverWait(driver, 10).until(\n",
    "                        EC.presence_of_element_located((By.XPATH, rating_xpath))\n",
    "                    )\n",
    "                    rating_alt = rating_element.get_attribute('alt')\n",
    "                    rating_alt = rating_element.get_attribute('alt').replace('점', '')  # '점' 제거\n",
    "                    ratings.append(rating_alt)\n",
    "                else:\n",
    "                    print(f\"6개월 이내의 후기가 아닙니다: {date_text}\")\n",
    "                    continue_crawling = False\n",
    "                    break\n",
    "            except Exception as e:\n",
    "                print(f\"페이지 데이터 추출 중 오류 발생 (행 {row}):\", e)\n",
    "                continue\n",
    "        # 다음 페이지 번호로 이동\n",
    "        if page % 10 == 0 and page <= 310 and continue_crawling:  # 페이지 그룹의 마지막 페이지이고 310 페이지 이하인 경우\n",
    "            next_page_button_xpath = '//*[@id=\"mainForm\"]/div[3]/a[12]'\n",
    "            next_page_button = WebDriverWait(driver, 30).until(\n",
    "                EC.element_to_be_clickable((By.XPATH, next_page_button_xpath))\n",
    "            )\n",
    "            next_page_button.click()\n",
    "        page += 1\n",
    "    except Exception as e:\n",
    "        print(\"전체 프로세스 중 오류 발생:\", e)\n",
    "        break\n",
    "# 결과를 데이터프레임으로 변환\n",
    "result_df = pd.DataFrame({\n",
    "    '제목': titles,\n",
    "    '시간': times,\n",
    "    '별점': ratings,\n",
    "    '날짜': dates,\n",
    "    '본문': contents\n",
    "})\n",
    "# 결과 출력\n",
    "print(result_df)\n",
    "# 크롬 드라이버 종료\n",
    "driver.quit()"
   ]
  },
  {
   "cell_type": "code",
   "execution_count": 2,
   "id": "1cb8c421",
   "metadata": {},
   "outputs": [
    {
     "data": {
      "text/html": [
       "<div>\n",
       "<style scoped>\n",
       "    .dataframe tbody tr th:only-of-type {\n",
       "        vertical-align: middle;\n",
       "    }\n",
       "\n",
       "    .dataframe tbody tr th {\n",
       "        vertical-align: top;\n",
       "    }\n",
       "\n",
       "    .dataframe thead th {\n",
       "        text-align: right;\n",
       "    }\n",
       "</style>\n",
       "<table border=\"1\" class=\"dataframe\">\n",
       "  <thead>\n",
       "    <tr style=\"text-align: right;\">\n",
       "      <th></th>\n",
       "      <th>제목</th>\n",
       "      <th>시간</th>\n",
       "      <th>별점</th>\n",
       "      <th>날짜</th>\n",
       "      <th>본문</th>\n",
       "    </tr>\n",
       "  </thead>\n",
       "  <tbody>\n",
       "    <tr>\n",
       "      <th>0</th>\n",
       "      <td>과학저술가 정인경, 이지유와 함께하는 신나는 과학수다</td>\n",
       "      <td>15</td>\n",
       "      <td>5</td>\n",
       "      <td>2024.06.16</td>\n",
       "      <td>가벼운 대화로도 깊이 있게 생각할 거리를 주는 연수였습니다.…</td>\n",
       "    </tr>\n",
       "    <tr>\n",
       "      <th>1</th>\n",
       "      <td>쉽게 배우고 활용하는 교실 속 손그림 그리기</td>\n",
       "      <td>15</td>\n",
       "      <td>5</td>\n",
       "      <td>2024.06.15</td>\n",
       "      <td>손으로 끄적거리는 걸 좋아하는 편이지만,\\n안타깝게도 예술적…</td>\n",
       "    </tr>\n",
       "    <tr>\n",
       "      <th>2</th>\n",
       "      <td>어린이 생활세계로 열어가는 사회 교과서 이야기 (5~6학년)</td>\n",
       "      <td>10</td>\n",
       "      <td>4</td>\n",
       "      <td>2024.06.15</td>\n",
       "      <td>오랫만에 고학년을 담임해서 \\n사회과 지도가 만만치 않아서 …</td>\n",
       "    </tr>\n",
       "    <tr>\n",
       "      <th>3</th>\n",
       "      <td>교사를 위한 교실 밖 여행인문학</td>\n",
       "      <td>15</td>\n",
       "      <td>5</td>\n",
       "      <td>2024.06.15</td>\n",
       "      <td>여행을 잘 다니지 않는 방안퉁수형 인간인지라 여행지를 보면 …</td>\n",
       "    </tr>\n",
       "    <tr>\n",
       "      <th>4</th>\n",
       "      <td>초등 고학년 탐구생활</td>\n",
       "      <td>15</td>\n",
       "      <td>5</td>\n",
       "      <td>2024.06.15</td>\n",
       "      <td>10여년 만에 하는 고학년 두렵기만 했습니다. 지금은 어느 …</td>\n",
       "    </tr>\n",
       "    <tr>\n",
       "      <th>...</th>\n",
       "      <td>...</td>\n",
       "      <td>...</td>\n",
       "      <td>...</td>\n",
       "      <td>...</td>\n",
       "      <td>...</td>\n",
       "    </tr>\n",
       "    <tr>\n",
       "      <th>142</th>\n",
       "      <td>English Grammar in Use 2</td>\n",
       "      <td>30</td>\n",
       "      <td>5</td>\n",
       "      <td>2023.12.23</td>\n",
       "      <td>이지경선생님은 예전부터 문법으로 유명하다고 들었는데..\\n티셀…</td>\n",
       "    </tr>\n",
       "    <tr>\n",
       "      <th>143</th>\n",
       "      <td>세상에서 제일 쉬운 과학 이야기</td>\n",
       "      <td>30</td>\n",
       "      <td>5</td>\n",
       "      <td>2023.12.22</td>\n",
       "      <td>어려운 과학 이야기를 이해하기 쉽게 풀어서 설명해주시어 재미…</td>\n",
       "    </tr>\n",
       "    <tr>\n",
       "      <th>144</th>\n",
       "      <td>어린이 생활세계로 열어가는 사회 교과서 이야기 (5~6학년)</td>\n",
       "      <td>10</td>\n",
       "      <td>5</td>\n",
       "      <td>2023.12.22</td>\n",
       "      <td>짧은 시간의 연수지만 알차고 도움이 많이 되었습니다.감사합니…</td>\n",
       "    </tr>\n",
       "    <tr>\n",
       "      <th>145</th>\n",
       "      <td>손그림과 파워포인트로 교실 속 콘텐츠 만들기</td>\n",
       "      <td>30</td>\n",
       "      <td>5</td>\n",
       "      <td>2023.12.21</td>\n",
       "      <td>동료와 함께 그림을 그리며 함께 그리는 시간이되어 정말 재미…</td>\n",
       "    </tr>\n",
       "    <tr>\n",
       "      <th>146</th>\n",
       "      <td>메이슨의 Travel English</td>\n",
       "      <td>30</td>\n",
       "      <td>5</td>\n",
       "      <td>2023.12.21</td>\n",
       "      <td>미국 여행 앞두고 신청한 연수였는데 공항에서부터 가서 물건 …</td>\n",
       "    </tr>\n",
       "  </tbody>\n",
       "</table>\n",
       "<p>147 rows × 5 columns</p>\n",
       "</div>"
      ],
      "text/plain": [
       "                                    제목  시간 별점          날짜  \\\n",
       "0        과학저술가 정인경, 이지유와 함께하는 신나는 과학수다  15  5  2024.06.16   \n",
       "1             쉽게 배우고 활용하는 교실 속 손그림 그리기  15  5  2024.06.15   \n",
       "2    어린이 생활세계로 열어가는 사회 교과서 이야기 (5~6학년)  10  4  2024.06.15   \n",
       "3                    교사를 위한 교실 밖 여행인문학  15  5  2024.06.15   \n",
       "4                          초등 고학년 탐구생활  15  5  2024.06.15   \n",
       "..                                 ...  .. ..         ...   \n",
       "142           English Grammar in Use 2  30  5  2023.12.23   \n",
       "143                  세상에서 제일 쉬운 과학 이야기  30  5  2023.12.22   \n",
       "144  어린이 생활세계로 열어가는 사회 교과서 이야기 (5~6학년)  10  5  2023.12.22   \n",
       "145           손그림과 파워포인트로 교실 속 콘텐츠 만들기  30  5  2023.12.21   \n",
       "146                메이슨의 Travel English  30  5  2023.12.21   \n",
       "\n",
       "                                      본문  \n",
       "0     가벼운 대화로도 깊이 있게 생각할 거리를 주는 연수였습니다.…  \n",
       "1     손으로 끄적거리는 걸 좋아하는 편이지만,\\n안타깝게도 예술적…  \n",
       "2     오랫만에 고학년을 담임해서 \\n사회과 지도가 만만치 않아서 …  \n",
       "3     여행을 잘 다니지 않는 방안퉁수형 인간인지라 여행지를 보면 …  \n",
       "4     10여년 만에 하는 고학년 두렵기만 했습니다. 지금은 어느 …  \n",
       "..                                   ...  \n",
       "142  이지경선생님은 예전부터 문법으로 유명하다고 들었는데..\\n티셀…  \n",
       "143   어려운 과학 이야기를 이해하기 쉽게 풀어서 설명해주시어 재미…  \n",
       "144   짧은 시간의 연수지만 알차고 도움이 많이 되었습니다.감사합니…  \n",
       "145   동료와 함께 그림을 그리며 함께 그리는 시간이되어 정말 재미…  \n",
       "146   미국 여행 앞두고 신청한 연수였는데 공항에서부터 가서 물건 …  \n",
       "\n",
       "[147 rows x 5 columns]"
      ]
     },
     "execution_count": 2,
     "metadata": {},
     "output_type": "execute_result"
    }
   ],
   "source": [
    "result_df"
   ]
  },
  {
   "cell_type": "markdown",
   "id": "d730896a",
   "metadata": {},
   "source": [
    "#### # 직무연수 목록(제목, 연수 분야, 가격, 시간, 대상)"
   ]
  },
  {
   "cell_type": "code",
   "execution_count": 4,
   "id": "7d71b27a",
   "metadata": {},
   "outputs": [
    {
     "name": "stdout",
     "output_type": "stream",
     "text": [
      "     연수 분야                             제목  시간     가격              대상\n",
      "0     교과수업                 교사가 알고싶은 독립운동사  20      0              전체\n",
      "1    교과서연수    실패 없는 과학 교과서 실험 (3~4학년 1학기)  10      0              초등\n",
      "2   ICT정보화    쉽게 시작할 수 있는 노션과 ZOOM 활용 꿀팁!  30  70000              전체\n",
      "3     인문교양           학생들과 함께 나누는 기후변화 이야기  30  70000              전체\n",
      "4   ICT정보화  학급경영, 수업, 업무 - 노션으로 한 방에 해결하기  15  40000  초등 중등 교육전문직 일반\n",
      "..     ...                            ...  ..    ...             ...\n",
      "76    교과수업                 수업을 살리는 미술 레시피  30  70000        유치 초등 일반\n",
      "77    교과수업                 수업을 살리는 꿀팁 레시피  30  70000        초등 교육전문직\n",
      "78    자기계발                    나만의 여행책 만들기  30  70000              전체\n",
      "79    교과수업                 수업을 살리는 놀이 레시피  30  70000     초등 교육전문직 일반\n",
      "80    교과수업                교과수업에 활용하는 진로교육  30  70000     초등 중등 교육전문직\n",
      "\n",
      "[81 rows x 5 columns]\n"
     ]
    }
   ],
   "source": [
    "from selenium import webdriver\n",
    "from selenium.webdriver.common.by import By\n",
    "from selenium.webdriver.support.ui import WebDriverWait\n",
    "from selenium.webdriver.support import expected_conditions as EC\n",
    "from selenium.common.exceptions import TimeoutException, NoSuchElementException, WebDriverException\n",
    "import pandas as pd\n",
    "\n",
    "# 웹 드라이버 초기화\n",
    "driver = webdriver.Chrome()\n",
    "\n",
    "try:\n",
    "    # 페이지 접속\n",
    "    driver.get('https://edu.tsherpa.co.kr/Product/List/')\n",
    "    \n",
    "    # 데이터 저장을 위한 리스트 초기화\n",
    "    titles = []\n",
    "    times = []\n",
    "    peoples = []\n",
    "    pays = []\n",
    "    fields = []\n",
    "    \n",
    "    # 각 요소에 대한 데이터를 추출\n",
    "    for i in range(1, 82):  # 1부터 81까지\n",
    "        try:\n",
    "            field = WebDriverWait(driver, 10).until(\n",
    "                EC.presence_of_element_located((By.XPATH, f'//*[@id=\"mainForm\"]/div[3]/div/ul/li[{i}]/div[1]'))\n",
    "            ).text\n",
    "            fields.append(field)\n",
    "        except (TimeoutException, NoSuchElementException):\n",
    "            fields.append(float('nan'))\n",
    "        \n",
    "        try:\n",
    "            title = WebDriverWait(driver, 10).until(\n",
    "                EC.presence_of_element_located((By.XPATH, f'//*[@id=\"mainForm\"]/div[3]/div/ul/li[{i}]/div[3]/p[2]/a'))\n",
    "            ).text\n",
    "            titles.append(title)\n",
    "        except (TimeoutException, NoSuchElementException):\n",
    "            titles.append(float('nan'))\n",
    "        \n",
    "        try:\n",
    "            time = WebDriverWait(driver, 10).until(\n",
    "                EC.presence_of_element_located((By.XPATH, f'//*[@id=\"mainForm\"]/div[3]/div/ul/li[{i}]/div[3]/p[1]/span[1]'))\n",
    "            ).text.replace('시간', '')  # '시간' 제거\n",
    "            times.append(time)\n",
    "        except (TimeoutException, NoSuchElementException):\n",
    "            times.append(float('nan'))\n",
    "        \n",
    "        try:\n",
    "            price_elem = WebDriverWait(driver, 10).until(\n",
    "                EC.presence_of_element_located((By.XPATH, f'//*[@id=\"mainForm\"]/div[3]/div/ul/li[{i}]/div[4]/p[1]'))\n",
    "            )\n",
    "            price_text = price_elem.text.strip()\n",
    "            if \"100%할인\\n0 원\" in price_text:\n",
    "                price = \"0\"  # Set to \"0\" if 100% discount\n",
    "            else:\n",
    "                price = price_text.replace('원', '').replace(',', '').strip()  # '원' 및 ',' 제거\n",
    "            pays.append(price)\n",
    "        except (TimeoutException, NoSuchElementException):\n",
    "            pays.append(float('nan'))\n",
    "        \n",
    "        try:\n",
    "            target = WebDriverWait(driver, 10).until(\n",
    "                EC.presence_of_element_located((By.XPATH, f'//*[@id=\"mainForm\"]/div[3]/div/ul/li[{i}]/div[3]/div/p[2]'))\n",
    "            ).text\n",
    "            peoples.append(target)\n",
    "        except (TimeoutException, NoSuchElementException):\n",
    "            peoples.append(float('nan'))\n",
    "\n",
    "    # 데이터 프레임 생성\n",
    "    df = pd.DataFrame({\n",
    "        '연수 분야': fields,\n",
    "        '제목': titles,\n",
    "        '시간': times,\n",
    "        '가격': pays,\n",
    "        '대상': peoples\n",
    "    })\n",
    "\n",
    "    # 결과 출력\n",
    "    print(df)\n",
    "\n",
    "except WebDriverException as e:\n",
    "    print(\"웹드라이버 오류:\", e)\n",
    "\n",
    "finally:\n",
    "    driver.quit()\n"
   ]
  },
  {
   "cell_type": "code",
   "execution_count": 22,
   "id": "511c0479",
   "metadata": {},
   "outputs": [
    {
     "data": {
      "text/html": [
       "<div>\n",
       "<style scoped>\n",
       "    .dataframe tbody tr th:only-of-type {\n",
       "        vertical-align: middle;\n",
       "    }\n",
       "\n",
       "    .dataframe tbody tr th {\n",
       "        vertical-align: top;\n",
       "    }\n",
       "\n",
       "    .dataframe thead th {\n",
       "        text-align: right;\n",
       "    }\n",
       "</style>\n",
       "<table border=\"1\" class=\"dataframe\">\n",
       "  <thead>\n",
       "    <tr style=\"text-align: right;\">\n",
       "      <th></th>\n",
       "      <th>연수 분야</th>\n",
       "      <th>제목</th>\n",
       "      <th>시간</th>\n",
       "      <th>가격</th>\n",
       "      <th>대상</th>\n",
       "    </tr>\n",
       "  </thead>\n",
       "  <tbody>\n",
       "    <tr>\n",
       "      <th>0</th>\n",
       "      <td>교과수업</td>\n",
       "      <td>교사가 알고싶은 독립운동사</td>\n",
       "      <td>20</td>\n",
       "      <td>0</td>\n",
       "      <td>전체</td>\n",
       "    </tr>\n",
       "    <tr>\n",
       "      <th>1</th>\n",
       "      <td>교과서연수</td>\n",
       "      <td>실패 없는 과학 교과서 실험 (3~4학년 1학기)</td>\n",
       "      <td>10</td>\n",
       "      <td>0</td>\n",
       "      <td>초등</td>\n",
       "    </tr>\n",
       "    <tr>\n",
       "      <th>2</th>\n",
       "      <td>ICT정보화</td>\n",
       "      <td>쉽게 시작할 수 있는 노션과 ZOOM 활용 꿀팁!</td>\n",
       "      <td>30</td>\n",
       "      <td>70000</td>\n",
       "      <td>전체</td>\n",
       "    </tr>\n",
       "    <tr>\n",
       "      <th>3</th>\n",
       "      <td>인문교양</td>\n",
       "      <td>학생들과 함께 나누는 기후변화 이야기</td>\n",
       "      <td>30</td>\n",
       "      <td>70000</td>\n",
       "      <td>전체</td>\n",
       "    </tr>\n",
       "    <tr>\n",
       "      <th>4</th>\n",
       "      <td>ICT정보화</td>\n",
       "      <td>학급경영, 수업, 업무 - 노션으로 한 방에 해결하기</td>\n",
       "      <td>15</td>\n",
       "      <td>40000</td>\n",
       "      <td>초등 중등 교육전문직 일반</td>\n",
       "    </tr>\n",
       "    <tr>\n",
       "      <th>...</th>\n",
       "      <td>...</td>\n",
       "      <td>...</td>\n",
       "      <td>...</td>\n",
       "      <td>...</td>\n",
       "      <td>...</td>\n",
       "    </tr>\n",
       "    <tr>\n",
       "      <th>76</th>\n",
       "      <td>교과수업</td>\n",
       "      <td>수업을 살리는 미술 레시피</td>\n",
       "      <td>30</td>\n",
       "      <td>70000</td>\n",
       "      <td>유치 초등 일반</td>\n",
       "    </tr>\n",
       "    <tr>\n",
       "      <th>77</th>\n",
       "      <td>교과수업</td>\n",
       "      <td>수업을 살리는 꿀팁 레시피</td>\n",
       "      <td>30</td>\n",
       "      <td>70000</td>\n",
       "      <td>초등 교육전문직</td>\n",
       "    </tr>\n",
       "    <tr>\n",
       "      <th>78</th>\n",
       "      <td>자기계발</td>\n",
       "      <td>나만의 여행책 만들기</td>\n",
       "      <td>30</td>\n",
       "      <td>70000</td>\n",
       "      <td>전체</td>\n",
       "    </tr>\n",
       "    <tr>\n",
       "      <th>79</th>\n",
       "      <td>교과수업</td>\n",
       "      <td>수업을 살리는 놀이 레시피</td>\n",
       "      <td>30</td>\n",
       "      <td>70000</td>\n",
       "      <td>초등 교육전문직 일반</td>\n",
       "    </tr>\n",
       "    <tr>\n",
       "      <th>80</th>\n",
       "      <td>교과수업</td>\n",
       "      <td>교과수업에 활용하는 진로교육</td>\n",
       "      <td>30</td>\n",
       "      <td>70000</td>\n",
       "      <td>초등 중등 교육전문직</td>\n",
       "    </tr>\n",
       "  </tbody>\n",
       "</table>\n",
       "<p>81 rows × 5 columns</p>\n",
       "</div>"
      ],
      "text/plain": [
       "     연수 분야                             제목  시간     가격              대상\n",
       "0     교과수업                 교사가 알고싶은 독립운동사  20      0              전체\n",
       "1    교과서연수    실패 없는 과학 교과서 실험 (3~4학년 1학기)  10      0              초등\n",
       "2   ICT정보화    쉽게 시작할 수 있는 노션과 ZOOM 활용 꿀팁!  30  70000              전체\n",
       "3     인문교양           학생들과 함께 나누는 기후변화 이야기  30  70000              전체\n",
       "4   ICT정보화  학급경영, 수업, 업무 - 노션으로 한 방에 해결하기  15  40000  초등 중등 교육전문직 일반\n",
       "..     ...                            ...  ..    ...             ...\n",
       "76    교과수업                 수업을 살리는 미술 레시피  30  70000        유치 초등 일반\n",
       "77    교과수업                 수업을 살리는 꿀팁 레시피  30  70000        초등 교육전문직\n",
       "78    자기계발                    나만의 여행책 만들기  30  70000              전체\n",
       "79    교과수업                 수업을 살리는 놀이 레시피  30  70000     초등 교육전문직 일반\n",
       "80    교과수업                교과수업에 활용하는 진로교육  30  70000     초등 중등 교육전문직\n",
       "\n",
       "[81 rows x 5 columns]"
      ]
     },
     "execution_count": 22,
     "metadata": {},
     "output_type": "execute_result"
    }
   ],
   "source": [
    "pd.reset_option('display.max_rows')\n",
    "df"
   ]
  },
  {
   "cell_type": "markdown",
   "id": "97e91b6a",
   "metadata": {},
   "source": [
    "#### # 최근 6개월동안의 후기 최종 데이터(제목, 연수 분야, 시간, 후기, 별점, 날짜, 가격, 대상)"
   ]
  },
  {
   "cell_type": "code",
   "execution_count": 6,
   "id": "5967343d",
   "metadata": {},
   "outputs": [],
   "source": [
    "fin_res = pd.merge(result_df, df, left_on='제목', right_on='제목')"
   ]
  },
  {
   "cell_type": "code",
   "execution_count": 7,
   "id": "ed427732",
   "metadata": {},
   "outputs": [],
   "source": [
    "fin_res = fin_res.drop(columns=['시간_y']).rename(columns={'시간_x':'시간'})"
   ]
  },
  {
   "cell_type": "code",
   "execution_count": 8,
   "id": "60914018",
   "metadata": {},
   "outputs": [
    {
     "data": {
      "text/html": [
       "<div>\n",
       "<style scoped>\n",
       "    .dataframe tbody tr th:only-of-type {\n",
       "        vertical-align: middle;\n",
       "    }\n",
       "\n",
       "    .dataframe tbody tr th {\n",
       "        vertical-align: top;\n",
       "    }\n",
       "\n",
       "    .dataframe thead th {\n",
       "        text-align: right;\n",
       "    }\n",
       "</style>\n",
       "<table border=\"1\" class=\"dataframe\">\n",
       "  <thead>\n",
       "    <tr style=\"text-align: right;\">\n",
       "      <th></th>\n",
       "      <th>제목</th>\n",
       "      <th>시간</th>\n",
       "      <th>별점</th>\n",
       "      <th>날짜</th>\n",
       "      <th>본문</th>\n",
       "      <th>연수 분야</th>\n",
       "      <th>가격</th>\n",
       "      <th>대상</th>\n",
       "    </tr>\n",
       "  </thead>\n",
       "  <tbody>\n",
       "    <tr>\n",
       "      <th>0</th>\n",
       "      <td>과학저술가 정인경, 이지유와 함께하는 신나는 과학수다</td>\n",
       "      <td>15</td>\n",
       "      <td>5</td>\n",
       "      <td>2024.06.16</td>\n",
       "      <td>가벼운 대화로도 깊이 있게 생각할 거리를 주는 연수였습니다.…</td>\n",
       "      <td>자기계발</td>\n",
       "      <td>40000</td>\n",
       "      <td>전체</td>\n",
       "    </tr>\n",
       "    <tr>\n",
       "      <th>1</th>\n",
       "      <td>쉽게 배우고 활용하는 교실 속 손그림 그리기</td>\n",
       "      <td>15</td>\n",
       "      <td>5</td>\n",
       "      <td>2024.06.15</td>\n",
       "      <td>손으로 끄적거리는 걸 좋아하는 편이지만,\\n안타깝게도 예술적…</td>\n",
       "      <td>ICT정보화</td>\n",
       "      <td>40000</td>\n",
       "      <td>전체</td>\n",
       "    </tr>\n",
       "    <tr>\n",
       "      <th>2</th>\n",
       "      <td>쉽게 배우고 활용하는 교실 속 손그림 그리기</td>\n",
       "      <td>15</td>\n",
       "      <td>5</td>\n",
       "      <td>2024.05.09</td>\n",
       "      <td>늘 그림을 잘 그리고 싶었던 시절이 오래전부터 있었습니다. …</td>\n",
       "      <td>ICT정보화</td>\n",
       "      <td>40000</td>\n",
       "      <td>전체</td>\n",
       "    </tr>\n",
       "    <tr>\n",
       "      <th>3</th>\n",
       "      <td>쉽게 배우고 활용하는 교실 속 손그림 그리기</td>\n",
       "      <td>15</td>\n",
       "      <td>5</td>\n",
       "      <td>2024.04.25</td>\n",
       "      <td>활동지를 만들거나, 게시판을 꾸밀 때 직접 그린 손그림으로 …</td>\n",
       "      <td>ICT정보화</td>\n",
       "      <td>40000</td>\n",
       "      <td>전체</td>\n",
       "    </tr>\n",
       "    <tr>\n",
       "      <th>4</th>\n",
       "      <td>쉽게 배우고 활용하는 교실 속 손그림 그리기</td>\n",
       "      <td>15</td>\n",
       "      <td>5</td>\n",
       "      <td>2024.04.23</td>\n",
       "      <td>제목과 같이 정말 쉽게 배우고 활용할 수 있는 손그림 수업이…</td>\n",
       "      <td>ICT정보화</td>\n",
       "      <td>40000</td>\n",
       "      <td>전체</td>\n",
       "    </tr>\n",
       "    <tr>\n",
       "      <th>...</th>\n",
       "      <td>...</td>\n",
       "      <td>...</td>\n",
       "      <td>...</td>\n",
       "      <td>...</td>\n",
       "      <td>...</td>\n",
       "      <td>...</td>\n",
       "      <td>...</td>\n",
       "      <td>...</td>\n",
       "    </tr>\n",
       "    <tr>\n",
       "      <th>136</th>\n",
       "      <td>학급경영, 수업, 업무 - 노션으로 한 방에 해결하기</td>\n",
       "      <td>15</td>\n",
       "      <td>5</td>\n",
       "      <td>2023.12.26</td>\n",
       "      <td>목소리가 편안하고 설명이 명료해서 듣기 편했어요.\\n두 선생…</td>\n",
       "      <td>ICT정보화</td>\n",
       "      <td>40000</td>\n",
       "      <td>초등 중등 교육전문직 일반</td>\n",
       "    </tr>\n",
       "    <tr>\n",
       "      <th>137</th>\n",
       "      <td>학급경영, 수업, 업무 - 노션으로 한 방에 해결하기</td>\n",
       "      <td>15</td>\n",
       "      <td>4</td>\n",
       "      <td>2023.12.25</td>\n",
       "      <td>너무나 많은 앱들이 있어 사용하기가 버거웠는데, 이제 노션으…</td>\n",
       "      <td>ICT정보화</td>\n",
       "      <td>40000</td>\n",
       "      <td>초등 중등 교육전문직 일반</td>\n",
       "    </tr>\n",
       "    <tr>\n",
       "      <th>138</th>\n",
       "      <td>학급경영, 수업, 업무 - 노션으로 한 방에 해결하기</td>\n",
       "      <td>15</td>\n",
       "      <td>5</td>\n",
       "      <td>2023.12.25</td>\n",
       "      <td>업무에도 하나씩 활용해 보니 효율성이 좋아졌습니다.</td>\n",
       "      <td>ICT정보화</td>\n",
       "      <td>40000</td>\n",
       "      <td>초등 중등 교육전문직 일반</td>\n",
       "    </tr>\n",
       "    <tr>\n",
       "      <th>139</th>\n",
       "      <td>나만의 여행책 만들기</td>\n",
       "      <td>30</td>\n",
       "      <td>5</td>\n",
       "      <td>2024.01.19</td>\n",
       "      <td>세계 여행을 다녀온 것 같은 기분이 드는 연수입니다.\\n사진…</td>\n",
       "      <td>자기계발</td>\n",
       "      <td>70000</td>\n",
       "      <td>전체</td>\n",
       "    </tr>\n",
       "    <tr>\n",
       "      <th>140</th>\n",
       "      <td>독립운동 현장읽기 - 의병전쟁</td>\n",
       "      <td>15</td>\n",
       "      <td>5</td>\n",
       "      <td>2023.12.24</td>\n",
       "      <td>너무 많은 희생이 있었는데 그동안 많은 관심을 받지 못한 부…</td>\n",
       "      <td>자기계발</td>\n",
       "      <td>0</td>\n",
       "      <td>전체</td>\n",
       "    </tr>\n",
       "  </tbody>\n",
       "</table>\n",
       "<p>141 rows × 8 columns</p>\n",
       "</div>"
      ],
      "text/plain": [
       "                                제목  시간 별점          날짜  \\\n",
       "0    과학저술가 정인경, 이지유와 함께하는 신나는 과학수다  15  5  2024.06.16   \n",
       "1         쉽게 배우고 활용하는 교실 속 손그림 그리기  15  5  2024.06.15   \n",
       "2         쉽게 배우고 활용하는 교실 속 손그림 그리기  15  5  2024.05.09   \n",
       "3         쉽게 배우고 활용하는 교실 속 손그림 그리기  15  5  2024.04.25   \n",
       "4         쉽게 배우고 활용하는 교실 속 손그림 그리기  15  5  2024.04.23   \n",
       "..                             ...  .. ..         ...   \n",
       "136  학급경영, 수업, 업무 - 노션으로 한 방에 해결하기  15  5  2023.12.26   \n",
       "137  학급경영, 수업, 업무 - 노션으로 한 방에 해결하기  15  4  2023.12.25   \n",
       "138  학급경영, 수업, 업무 - 노션으로 한 방에 해결하기  15  5  2023.12.25   \n",
       "139                    나만의 여행책 만들기  30  5  2024.01.19   \n",
       "140               독립운동 현장읽기 - 의병전쟁  15  5  2023.12.24   \n",
       "\n",
       "                                     본문   연수 분야     가격              대상  \n",
       "0    가벼운 대화로도 깊이 있게 생각할 거리를 주는 연수였습니다.…    자기계발  40000              전체  \n",
       "1    손으로 끄적거리는 걸 좋아하는 편이지만,\\n안타깝게도 예술적…  ICT정보화  40000              전체  \n",
       "2    늘 그림을 잘 그리고 싶었던 시절이 오래전부터 있었습니다. …  ICT정보화  40000              전체  \n",
       "3    활동지를 만들거나, 게시판을 꾸밀 때 직접 그린 손그림으로 …  ICT정보화  40000              전체  \n",
       "4    제목과 같이 정말 쉽게 배우고 활용할 수 있는 손그림 수업이…  ICT정보화  40000              전체  \n",
       "..                                  ...     ...    ...             ...  \n",
       "136  목소리가 편안하고 설명이 명료해서 듣기 편했어요.\\n두 선생…  ICT정보화  40000  초등 중등 교육전문직 일반  \n",
       "137  너무나 많은 앱들이 있어 사용하기가 버거웠는데, 이제 노션으…  ICT정보화  40000  초등 중등 교육전문직 일반  \n",
       "138        업무에도 하나씩 활용해 보니 효율성이 좋아졌습니다.  ICT정보화  40000  초등 중등 교육전문직 일반  \n",
       "139  세계 여행을 다녀온 것 같은 기분이 드는 연수입니다.\\n사진…    자기계발  70000              전체  \n",
       "140  너무 많은 희생이 있었는데 그동안 많은 관심을 받지 못한 부…    자기계발      0              전체  \n",
       "\n",
       "[141 rows x 8 columns]"
      ]
     },
     "execution_count": 8,
     "metadata": {},
     "output_type": "execute_result"
    }
   ],
   "source": [
    "fin_res"
   ]
  },
  {
   "cell_type": "code",
   "execution_count": 10,
   "id": "11d66874",
   "metadata": {},
   "outputs": [],
   "source": [
    "# 최근 6개월 후기 csv 파일로 저장\n",
    "fin_res.to_csv('./T_review.csv', index=False, encoding='utf-8-sig')"
   ]
  },
  {
   "cell_type": "markdown",
   "id": "dfc61ebe",
   "metadata": {},
   "source": [
    "---"
   ]
  },
  {
   "cell_type": "markdown",
   "id": "db688b35",
   "metadata": {},
   "source": [
    "### - 기초 분석"
   ]
  },
  {
   "cell_type": "markdown",
   "id": "b3554fb1",
   "metadata": {},
   "source": [
    "#### # 연수 과정별 수강후기 개수"
   ]
  },
  {
   "cell_type": "code",
   "execution_count": 11,
   "id": "07205ac5",
   "metadata": {},
   "outputs": [],
   "source": [
    "title_counts = fin_res['제목'].value_counts().reset_index()\n",
    "title_counts.columns = ['제목', '수강후기 개수']"
   ]
  },
  {
   "cell_type": "code",
   "execution_count": 23,
   "id": "1f4e970b",
   "metadata": {
    "scrolled": true
   },
   "outputs": [
    {
     "data": {
      "text/html": [
       "<div>\n",
       "<style scoped>\n",
       "    .dataframe tbody tr th:only-of-type {\n",
       "        vertical-align: middle;\n",
       "    }\n",
       "\n",
       "    .dataframe tbody tr th {\n",
       "        vertical-align: top;\n",
       "    }\n",
       "\n",
       "    .dataframe thead th {\n",
       "        text-align: right;\n",
       "    }\n",
       "</style>\n",
       "<table border=\"1\" class=\"dataframe\">\n",
       "  <thead>\n",
       "    <tr style=\"text-align: right;\">\n",
       "      <th></th>\n",
       "      <th>제목</th>\n",
       "      <th>수강후기 개수</th>\n",
       "    </tr>\n",
       "  </thead>\n",
       "  <tbody>\n",
       "    <tr>\n",
       "      <th>0</th>\n",
       "      <td>쉽게 시작할 수 있는 노션과 ZOOM 활용 꿀팁!</td>\n",
       "      <td>8</td>\n",
       "    </tr>\n",
       "    <tr>\n",
       "      <th>1</th>\n",
       "      <td>세상에서 제일 쉬운 과학 이야기</td>\n",
       "      <td>6</td>\n",
       "    </tr>\n",
       "    <tr>\n",
       "      <th>2</th>\n",
       "      <td>쉽게 배우고 활용하는 교실 속 손그림 그리기</td>\n",
       "      <td>6</td>\n",
       "    </tr>\n",
       "    <tr>\n",
       "      <th>3</th>\n",
       "      <td>교사가 알고싶은 독립운동사</td>\n",
       "      <td>6</td>\n",
       "    </tr>\n",
       "    <tr>\n",
       "      <th>4</th>\n",
       "      <td>학급경영, 수업, 업무 - 노션으로 한 방에 해결하기</td>\n",
       "      <td>6</td>\n",
       "    </tr>\n",
       "    <tr>\n",
       "      <th>5</th>\n",
       "      <td>지리와 함께하는 인문학 티타임</td>\n",
       "      <td>6</td>\n",
       "    </tr>\n",
       "    <tr>\n",
       "      <th>6</th>\n",
       "      <td>손그림과 파워포인트로 교실 속 콘텐츠 만들기</td>\n",
       "      <td>5</td>\n",
       "    </tr>\n",
       "    <tr>\n",
       "      <th>7</th>\n",
       "      <td>메이슨의 Travel English</td>\n",
       "      <td>5</td>\n",
       "    </tr>\n",
       "    <tr>\n",
       "      <th>8</th>\n",
       "      <td>기후 변화 이야기, 교실에 오다</td>\n",
       "      <td>5</td>\n",
       "    </tr>\n",
       "    <tr>\n",
       "      <th>9</th>\n",
       "      <td>행복한 학급 만들기, 학생과 교사 자존감 수업</td>\n",
       "      <td>4</td>\n",
       "    </tr>\n",
       "    <tr>\n",
       "      <th>10</th>\n",
       "      <td>수업을 살리는 체육 레시피</td>\n",
       "      <td>4</td>\n",
       "    </tr>\n",
       "    <tr>\n",
       "      <th>11</th>\n",
       "      <td>학생들과 함께 나누는 기후변화 이야기</td>\n",
       "      <td>4</td>\n",
       "    </tr>\n",
       "    <tr>\n",
       "      <th>12</th>\n",
       "      <td>수업을 살리는 놀이 레시피</td>\n",
       "      <td>3</td>\n",
       "    </tr>\n",
       "    <tr>\n",
       "      <th>13</th>\n",
       "      <td>나도 할 수 있다! 현장연구와 SPSS</td>\n",
       "      <td>3</td>\n",
       "    </tr>\n",
       "    <tr>\n",
       "      <th>14</th>\n",
       "      <td>초등학생 탐구생활</td>\n",
       "      <td>3</td>\n",
       "    </tr>\n",
       "    <tr>\n",
       "      <th>15</th>\n",
       "      <td>성호쌤과 함께하는 랜선 박물관 여행</td>\n",
       "      <td>3</td>\n",
       "    </tr>\n",
       "    <tr>\n",
       "      <th>16</th>\n",
       "      <td>그림검사와 다양한 기법으로 만나는 미술치료</td>\n",
       "      <td>3</td>\n",
       "    </tr>\n",
       "    <tr>\n",
       "      <th>17</th>\n",
       "      <td>교사를 위한 교실 밖 여행인문학</td>\n",
       "      <td>3</td>\n",
       "    </tr>\n",
       "    <tr>\n",
       "      <th>18</th>\n",
       "      <td>어린이 생활세계로 열어가는 사회 교과서 이야기 (5~6학년)</td>\n",
       "      <td>3</td>\n",
       "    </tr>\n",
       "    <tr>\n",
       "      <th>19</th>\n",
       "      <td>교과수업에 활용하는 진로교육</td>\n",
       "      <td>3</td>\n",
       "    </tr>\n",
       "    <tr>\n",
       "      <th>20</th>\n",
       "      <td>저자가 알려주는 수학 교과서 100% 활용하기 (초등 3~4학년)</td>\n",
       "      <td>2</td>\n",
       "    </tr>\n",
       "    <tr>\n",
       "      <th>21</th>\n",
       "      <td>메이슨의 패턴잉글리쉬</td>\n",
       "      <td>2</td>\n",
       "    </tr>\n",
       "    <tr>\n",
       "      <th>22</th>\n",
       "      <td>파워포인트로 끝내는 교실 콘텐츠 창작 비법 노트</td>\n",
       "      <td>2</td>\n",
       "    </tr>\n",
       "    <tr>\n",
       "      <th>23</th>\n",
       "      <td>인성교육 연구보고서 작성법</td>\n",
       "      <td>2</td>\n",
       "    </tr>\n",
       "    <tr>\n",
       "      <th>24</th>\n",
       "      <td>하루 20분, 컬쳐 리스닝 픽업</td>\n",
       "      <td>2</td>\n",
       "    </tr>\n",
       "    <tr>\n",
       "      <th>25</th>\n",
       "      <td>English Grammar in Use 2</td>\n",
       "      <td>2</td>\n",
       "    </tr>\n",
       "    <tr>\n",
       "      <th>26</th>\n",
       "      <td>하루 20분, 상황별 생활영어회화</td>\n",
       "      <td>2</td>\n",
       "    </tr>\n",
       "    <tr>\n",
       "      <th>27</th>\n",
       "      <td>기초영어 회화 핵심표현 Real Speaking</td>\n",
       "      <td>2</td>\n",
       "    </tr>\n",
       "    <tr>\n",
       "      <th>28</th>\n",
       "      <td>재테크보다 중요한 나만의 재무설계</td>\n",
       "      <td>2</td>\n",
       "    </tr>\n",
       "    <tr>\n",
       "      <th>29</th>\n",
       "      <td>초등 저학년 남학생 탐구생활</td>\n",
       "      <td>2</td>\n",
       "    </tr>\n",
       "    <tr>\n",
       "      <th>30</th>\n",
       "      <td>하루 20분, 상황별 생활영어회화 2</td>\n",
       "      <td>2</td>\n",
       "    </tr>\n",
       "    <tr>\n",
       "      <th>31</th>\n",
       "      <td>7인의 전문의와 함께하는 메디컬 콘서트</td>\n",
       "      <td>2</td>\n",
       "    </tr>\n",
       "    <tr>\n",
       "      <th>32</th>\n",
       "      <td>수업을 살리는 미술 레시피</td>\n",
       "      <td>2</td>\n",
       "    </tr>\n",
       "    <tr>\n",
       "      <th>33</th>\n",
       "      <td>나이와 신분을 초월한 독립운동, 그 현장을 읽다</td>\n",
       "      <td>2</td>\n",
       "    </tr>\n",
       "    <tr>\n",
       "      <th>34</th>\n",
       "      <td>왕초보를 위한 캘리그래피</td>\n",
       "      <td>2</td>\n",
       "    </tr>\n",
       "    <tr>\n",
       "      <th>35</th>\n",
       "      <td>초등 고학년 탐구생활</td>\n",
       "      <td>2</td>\n",
       "    </tr>\n",
       "    <tr>\n",
       "      <th>36</th>\n",
       "      <td>신병주 교수의 왕으로 산다는 것</td>\n",
       "      <td>1</td>\n",
       "    </tr>\n",
       "    <tr>\n",
       "      <th>37</th>\n",
       "      <td>통통한 과학이야기 1</td>\n",
       "      <td>1</td>\n",
       "    </tr>\n",
       "    <tr>\n",
       "      <th>38</th>\n",
       "      <td>아이의 마음을 읽는 다양한 미술치료 기법</td>\n",
       "      <td>1</td>\n",
       "    </tr>\n",
       "    <tr>\n",
       "      <th>39</th>\n",
       "      <td>수업을 살리는 꿀팁 레시피</td>\n",
       "      <td>1</td>\n",
       "    </tr>\n",
       "    <tr>\n",
       "      <th>40</th>\n",
       "      <td>나만의 여행책 만들기</td>\n",
       "      <td>1</td>\n",
       "    </tr>\n",
       "    <tr>\n",
       "      <th>41</th>\n",
       "      <td>메디컬 콘서트 2탄 - 여성 건강 프로젝트</td>\n",
       "      <td>1</td>\n",
       "    </tr>\n",
       "    <tr>\n",
       "      <th>42</th>\n",
       "      <td>과학저술가 정인경, 이지유와 함께하는 신나는 과학수다</td>\n",
       "      <td>1</td>\n",
       "    </tr>\n",
       "    <tr>\n",
       "      <th>43</th>\n",
       "      <td>교과서 속 세계문화유산</td>\n",
       "      <td>1</td>\n",
       "    </tr>\n",
       "    <tr>\n",
       "      <th>44</th>\n",
       "      <td>기초영어 회화 핵심표현 Real Speaking 2</td>\n",
       "      <td>1</td>\n",
       "    </tr>\n",
       "    <tr>\n",
       "      <th>45</th>\n",
       "      <td>강의의 품격</td>\n",
       "      <td>1</td>\n",
       "    </tr>\n",
       "    <tr>\n",
       "      <th>46</th>\n",
       "      <td>교사 자존감 수업</td>\n",
       "      <td>1</td>\n",
       "    </tr>\n",
       "    <tr>\n",
       "      <th>47</th>\n",
       "      <td>온작품 읽기와 그림을 활용한 깊이 있는 수업</td>\n",
       "      <td>1</td>\n",
       "    </tr>\n",
       "    <tr>\n",
       "      <th>48</th>\n",
       "      <td>메디컬 콘서트 1탄 - 현대인의 만성 질병</td>\n",
       "      <td>1</td>\n",
       "    </tr>\n",
       "    <tr>\n",
       "      <th>49</th>\n",
       "      <td>당장 따라 할 수 있는 사계절 학급운영+이벤트</td>\n",
       "      <td>1</td>\n",
       "    </tr>\n",
       "    <tr>\n",
       "      <th>50</th>\n",
       "      <td>기초영어 회화 핵심표현 Real Speaking 1</td>\n",
       "      <td>1</td>\n",
       "    </tr>\n",
       "    <tr>\n",
       "      <th>51</th>\n",
       "      <td>기후변화 이야기</td>\n",
       "      <td>1</td>\n",
       "    </tr>\n",
       "    <tr>\n",
       "      <th>52</th>\n",
       "      <td>이구동성, 마음을 다루는 미술활동</td>\n",
       "      <td>1</td>\n",
       "    </tr>\n",
       "    <tr>\n",
       "      <th>53</th>\n",
       "      <td>정훈쌤의 뚝딱 칼림바</td>\n",
       "      <td>1</td>\n",
       "    </tr>\n",
       "    <tr>\n",
       "      <th>54</th>\n",
       "      <td>같이 읽고 함께 나누는 독서수업방법</td>\n",
       "      <td>1</td>\n",
       "    </tr>\n",
       "    <tr>\n",
       "      <th>55</th>\n",
       "      <td>독립운동 현장읽기 - 의병전쟁</td>\n",
       "      <td>1</td>\n",
       "    </tr>\n",
       "  </tbody>\n",
       "</table>\n",
       "</div>"
      ],
      "text/plain": [
       "                                      제목  수강후기 개수\n",
       "0            쉽게 시작할 수 있는 노션과 ZOOM 활용 꿀팁!        8\n",
       "1                      세상에서 제일 쉬운 과학 이야기        6\n",
       "2               쉽게 배우고 활용하는 교실 속 손그림 그리기        6\n",
       "3                         교사가 알고싶은 독립운동사        6\n",
       "4          학급경영, 수업, 업무 - 노션으로 한 방에 해결하기        6\n",
       "5                       지리와 함께하는 인문학 티타임        6\n",
       "6               손그림과 파워포인트로 교실 속 콘텐츠 만들기        5\n",
       "7                    메이슨의 Travel English        5\n",
       "8                      기후 변화 이야기, 교실에 오다        5\n",
       "9              행복한 학급 만들기, 학생과 교사 자존감 수업        4\n",
       "10                        수업을 살리는 체육 레시피        4\n",
       "11                  학생들과 함께 나누는 기후변화 이야기        4\n",
       "12                        수업을 살리는 놀이 레시피        3\n",
       "13                 나도 할 수 있다! 현장연구와 SPSS        3\n",
       "14                             초등학생 탐구생활        3\n",
       "15                   성호쌤과 함께하는 랜선 박물관 여행        3\n",
       "16               그림검사와 다양한 기법으로 만나는 미술치료        3\n",
       "17                     교사를 위한 교실 밖 여행인문학        3\n",
       "18     어린이 생활세계로 열어가는 사회 교과서 이야기 (5~6학년)        3\n",
       "19                       교과수업에 활용하는 진로교육        3\n",
       "20  저자가 알려주는 수학 교과서 100% 활용하기 (초등 3~4학년)        2\n",
       "21                           메이슨의 패턴잉글리쉬        2\n",
       "22            파워포인트로 끝내는 교실 콘텐츠 창작 비법 노트        2\n",
       "23                        인성교육 연구보고서 작성법        2\n",
       "24                     하루 20분, 컬쳐 리스닝 픽업        2\n",
       "25              English Grammar in Use 2        2\n",
       "26                    하루 20분, 상황별 생활영어회화        2\n",
       "27            기초영어 회화 핵심표현 Real Speaking        2\n",
       "28                    재테크보다 중요한 나만의 재무설계        2\n",
       "29                       초등 저학년 남학생 탐구생활        2\n",
       "30                  하루 20분, 상황별 생활영어회화 2        2\n",
       "31                 7인의 전문의와 함께하는 메디컬 콘서트        2\n",
       "32                        수업을 살리는 미술 레시피        2\n",
       "33            나이와 신분을 초월한 독립운동, 그 현장을 읽다        2\n",
       "34                         왕초보를 위한 캘리그래피        2\n",
       "35                           초등 고학년 탐구생활        2\n",
       "36                     신병주 교수의 왕으로 산다는 것        1\n",
       "37                           통통한 과학이야기 1        1\n",
       "38                아이의 마음을 읽는 다양한 미술치료 기법        1\n",
       "39                        수업을 살리는 꿀팁 레시피        1\n",
       "40                           나만의 여행책 만들기        1\n",
       "41               메디컬 콘서트 2탄 - 여성 건강 프로젝트        1\n",
       "42         과학저술가 정인경, 이지유와 함께하는 신나는 과학수다        1\n",
       "43                          교과서 속 세계문화유산        1\n",
       "44          기초영어 회화 핵심표현 Real Speaking 2        1\n",
       "45                                강의의 품격        1\n",
       "46                             교사 자존감 수업        1\n",
       "47              온작품 읽기와 그림을 활용한 깊이 있는 수업        1\n",
       "48               메디컬 콘서트 1탄 - 현대인의 만성 질병        1\n",
       "49             당장 따라 할 수 있는 사계절 학급운영+이벤트        1\n",
       "50          기초영어 회화 핵심표현 Real Speaking 1        1\n",
       "51                              기후변화 이야기        1\n",
       "52                    이구동성, 마음을 다루는 미술활동        1\n",
       "53                           정훈쌤의 뚝딱 칼림바        1\n",
       "54                   같이 읽고 함께 나누는 독서수업방법        1\n",
       "55                      독립운동 현장읽기 - 의병전쟁        1"
      ]
     },
     "execution_count": 23,
     "metadata": {},
     "output_type": "execute_result"
    }
   ],
   "source": [
    "title_counts"
   ]
  },
  {
   "cell_type": "markdown",
   "id": "98b326ea",
   "metadata": {},
   "source": [
    "#### # 연수 분야별 수강후기 개수"
   ]
  },
  {
   "cell_type": "code",
   "execution_count": 25,
   "id": "82ac8497",
   "metadata": {},
   "outputs": [
    {
     "data": {
      "text/html": [
       "<div>\n",
       "<style scoped>\n",
       "    .dataframe tbody tr th:only-of-type {\n",
       "        vertical-align: middle;\n",
       "    }\n",
       "\n",
       "    .dataframe tbody tr th {\n",
       "        vertical-align: top;\n",
       "    }\n",
       "\n",
       "    .dataframe thead th {\n",
       "        text-align: right;\n",
       "    }\n",
       "</style>\n",
       "<table border=\"1\" class=\"dataframe\">\n",
       "  <thead>\n",
       "    <tr style=\"text-align: right;\">\n",
       "      <th></th>\n",
       "      <th>연수 분야</th>\n",
       "      <th>후기 개수</th>\n",
       "    </tr>\n",
       "  </thead>\n",
       "  <tbody>\n",
       "    <tr>\n",
       "      <th>0</th>\n",
       "      <td>자기계발</td>\n",
       "      <td>43</td>\n",
       "    </tr>\n",
       "    <tr>\n",
       "      <th>1</th>\n",
       "      <td>ICT정보화</td>\n",
       "      <td>27</td>\n",
       "    </tr>\n",
       "    <tr>\n",
       "      <th>2</th>\n",
       "      <td>교과수업</td>\n",
       "      <td>26</td>\n",
       "    </tr>\n",
       "    <tr>\n",
       "      <th>3</th>\n",
       "      <td>어학</td>\n",
       "      <td>19</td>\n",
       "    </tr>\n",
       "    <tr>\n",
       "      <th>4</th>\n",
       "      <td>인문교양</td>\n",
       "      <td>12</td>\n",
       "    </tr>\n",
       "    <tr>\n",
       "      <th>5</th>\n",
       "      <td>생활지도</td>\n",
       "      <td>7</td>\n",
       "    </tr>\n",
       "    <tr>\n",
       "      <th>6</th>\n",
       "      <td>교과서연수</td>\n",
       "      <td>5</td>\n",
       "    </tr>\n",
       "    <tr>\n",
       "      <th>7</th>\n",
       "      <td>학습지도</td>\n",
       "      <td>1</td>\n",
       "    </tr>\n",
       "    <tr>\n",
       "      <th>8</th>\n",
       "      <td>학급경영</td>\n",
       "      <td>1</td>\n",
       "    </tr>\n",
       "  </tbody>\n",
       "</table>\n",
       "</div>"
      ],
      "text/plain": [
       "    연수 분야  후기 개수\n",
       "0    자기계발     43\n",
       "1  ICT정보화     27\n",
       "2    교과수업     26\n",
       "3      어학     19\n",
       "4    인문교양     12\n",
       "5    생활지도      7\n",
       "6   교과서연수      5\n",
       "7    학습지도      1\n",
       "8    학급경영      1"
      ]
     },
     "execution_count": 25,
     "metadata": {},
     "output_type": "execute_result"
    }
   ],
   "source": [
    "field_counts = fin_res['연수 분야'].value_counts().reset_index()\n",
    "field_counts.columns = ['연수 분야', '후기 개수']\n",
    "\n",
    "field_counts"
   ]
  },
  {
   "cell_type": "markdown",
   "id": "d6fe943b-11cf-4c93-8d11-657166553393",
   "metadata": {},
   "source": [
    "### 별점 분석"
   ]
  },
  {
   "cell_type": "code",
   "execution_count": 26,
   "id": "0a639010-f907-4b95-924a-b89a7a5530b6",
   "metadata": {},
   "outputs": [],
   "source": [
    "import plotly.express as px"
   ]
  },
  {
   "cell_type": "code",
   "execution_count": 27,
   "id": "71fa624f-9cf4-4322-a1c8-20f1911742c3",
   "metadata": {},
   "outputs": [
    {
     "data": {
      "text/html": [
       "<div>\n",
       "<style scoped>\n",
       "    .dataframe tbody tr th:only-of-type {\n",
       "        vertical-align: middle;\n",
       "    }\n",
       "\n",
       "    .dataframe tbody tr th {\n",
       "        vertical-align: top;\n",
       "    }\n",
       "\n",
       "    .dataframe thead th {\n",
       "        text-align: right;\n",
       "    }\n",
       "</style>\n",
       "<table border=\"1\" class=\"dataframe\">\n",
       "  <thead>\n",
       "    <tr style=\"text-align: right;\">\n",
       "      <th></th>\n",
       "      <th>제목</th>\n",
       "      <th>시간</th>\n",
       "      <th>날짜</th>\n",
       "      <th>본문</th>\n",
       "      <th>연수 분야</th>\n",
       "      <th>가격</th>\n",
       "      <th>대상</th>\n",
       "    </tr>\n",
       "    <tr>\n",
       "      <th>별점</th>\n",
       "      <th></th>\n",
       "      <th></th>\n",
       "      <th></th>\n",
       "      <th></th>\n",
       "      <th></th>\n",
       "      <th></th>\n",
       "      <th></th>\n",
       "    </tr>\n",
       "  </thead>\n",
       "  <tbody>\n",
       "    <tr>\n",
       "      <th>1</th>\n",
       "      <td>3</td>\n",
       "      <td>3</td>\n",
       "      <td>3</td>\n",
       "      <td>3</td>\n",
       "      <td>3</td>\n",
       "      <td>3</td>\n",
       "      <td>3</td>\n",
       "    </tr>\n",
       "    <tr>\n",
       "      <th>3</th>\n",
       "      <td>6</td>\n",
       "      <td>6</td>\n",
       "      <td>6</td>\n",
       "      <td>6</td>\n",
       "      <td>6</td>\n",
       "      <td>6</td>\n",
       "      <td>6</td>\n",
       "    </tr>\n",
       "    <tr>\n",
       "      <th>4</th>\n",
       "      <td>13</td>\n",
       "      <td>13</td>\n",
       "      <td>13</td>\n",
       "      <td>13</td>\n",
       "      <td>13</td>\n",
       "      <td>13</td>\n",
       "      <td>13</td>\n",
       "    </tr>\n",
       "    <tr>\n",
       "      <th>5</th>\n",
       "      <td>119</td>\n",
       "      <td>119</td>\n",
       "      <td>119</td>\n",
       "      <td>119</td>\n",
       "      <td>119</td>\n",
       "      <td>119</td>\n",
       "      <td>119</td>\n",
       "    </tr>\n",
       "  </tbody>\n",
       "</table>\n",
       "</div>"
      ],
      "text/plain": [
       "     제목   시간   날짜   본문  연수 분야   가격   대상\n",
       "별점                                     \n",
       "1     3    3    3    3      3    3    3\n",
       "3     6    6    6    6      6    6    6\n",
       "4    13   13   13   13     13   13   13\n",
       "5   119  119  119  119    119  119  119"
      ]
     },
     "execution_count": 27,
     "metadata": {},
     "output_type": "execute_result"
    }
   ],
   "source": [
    "star = fin_res.groupby('별점').count()\n",
    "star"
   ]
  },
  {
   "cell_type": "code",
   "execution_count": 28,
   "id": "fd444fe6-8b58-4a63-8794-739bff8f2c25",
   "metadata": {},
   "outputs": [
    {
     "data": {
      "application/vnd.plotly.v1+json": {
       "config": {
        "plotlyServerURL": "https://plot.ly"
       },
       "data": [
        {
         "domain": {
          "x": [
           0,
           1
          ],
          "y": [
           0,
           1
          ]
         },
         "hovertemplate": "label=%{label}<br>value=%{value}<extra></extra>",
         "labels": [
          "1",
          "3",
          "4",
          "5"
         ],
         "legendgroup": "",
         "name": "",
         "showlegend": true,
         "type": "pie",
         "values": [
          3,
          6,
          13,
          119
         ]
        }
       ],
       "layout": {
        "legend": {
         "tracegroupgap": 0
        },
        "template": {
         "data": {
          "bar": [
           {
            "error_x": {
             "color": "#2a3f5f"
            },
            "error_y": {
             "color": "#2a3f5f"
            },
            "marker": {
             "line": {
              "color": "#E5ECF6",
              "width": 0.5
             },
             "pattern": {
              "fillmode": "overlay",
              "size": 10,
              "solidity": 0.2
             }
            },
            "type": "bar"
           }
          ],
          "barpolar": [
           {
            "marker": {
             "line": {
              "color": "#E5ECF6",
              "width": 0.5
             },
             "pattern": {
              "fillmode": "overlay",
              "size": 10,
              "solidity": 0.2
             }
            },
            "type": "barpolar"
           }
          ],
          "carpet": [
           {
            "aaxis": {
             "endlinecolor": "#2a3f5f",
             "gridcolor": "white",
             "linecolor": "white",
             "minorgridcolor": "white",
             "startlinecolor": "#2a3f5f"
            },
            "baxis": {
             "endlinecolor": "#2a3f5f",
             "gridcolor": "white",
             "linecolor": "white",
             "minorgridcolor": "white",
             "startlinecolor": "#2a3f5f"
            },
            "type": "carpet"
           }
          ],
          "choropleth": [
           {
            "colorbar": {
             "outlinewidth": 0,
             "ticks": ""
            },
            "type": "choropleth"
           }
          ],
          "contour": [
           {
            "colorbar": {
             "outlinewidth": 0,
             "ticks": ""
            },
            "colorscale": [
             [
              0,
              "#0d0887"
             ],
             [
              0.1111111111111111,
              "#46039f"
             ],
             [
              0.2222222222222222,
              "#7201a8"
             ],
             [
              0.3333333333333333,
              "#9c179e"
             ],
             [
              0.4444444444444444,
              "#bd3786"
             ],
             [
              0.5555555555555556,
              "#d8576b"
             ],
             [
              0.6666666666666666,
              "#ed7953"
             ],
             [
              0.7777777777777778,
              "#fb9f3a"
             ],
             [
              0.8888888888888888,
              "#fdca26"
             ],
             [
              1,
              "#f0f921"
             ]
            ],
            "type": "contour"
           }
          ],
          "contourcarpet": [
           {
            "colorbar": {
             "outlinewidth": 0,
             "ticks": ""
            },
            "type": "contourcarpet"
           }
          ],
          "heatmap": [
           {
            "colorbar": {
             "outlinewidth": 0,
             "ticks": ""
            },
            "colorscale": [
             [
              0,
              "#0d0887"
             ],
             [
              0.1111111111111111,
              "#46039f"
             ],
             [
              0.2222222222222222,
              "#7201a8"
             ],
             [
              0.3333333333333333,
              "#9c179e"
             ],
             [
              0.4444444444444444,
              "#bd3786"
             ],
             [
              0.5555555555555556,
              "#d8576b"
             ],
             [
              0.6666666666666666,
              "#ed7953"
             ],
             [
              0.7777777777777778,
              "#fb9f3a"
             ],
             [
              0.8888888888888888,
              "#fdca26"
             ],
             [
              1,
              "#f0f921"
             ]
            ],
            "type": "heatmap"
           }
          ],
          "heatmapgl": [
           {
            "colorbar": {
             "outlinewidth": 0,
             "ticks": ""
            },
            "colorscale": [
             [
              0,
              "#0d0887"
             ],
             [
              0.1111111111111111,
              "#46039f"
             ],
             [
              0.2222222222222222,
              "#7201a8"
             ],
             [
              0.3333333333333333,
              "#9c179e"
             ],
             [
              0.4444444444444444,
              "#bd3786"
             ],
             [
              0.5555555555555556,
              "#d8576b"
             ],
             [
              0.6666666666666666,
              "#ed7953"
             ],
             [
              0.7777777777777778,
              "#fb9f3a"
             ],
             [
              0.8888888888888888,
              "#fdca26"
             ],
             [
              1,
              "#f0f921"
             ]
            ],
            "type": "heatmapgl"
           }
          ],
          "histogram": [
           {
            "marker": {
             "pattern": {
              "fillmode": "overlay",
              "size": 10,
              "solidity": 0.2
             }
            },
            "type": "histogram"
           }
          ],
          "histogram2d": [
           {
            "colorbar": {
             "outlinewidth": 0,
             "ticks": ""
            },
            "colorscale": [
             [
              0,
              "#0d0887"
             ],
             [
              0.1111111111111111,
              "#46039f"
             ],
             [
              0.2222222222222222,
              "#7201a8"
             ],
             [
              0.3333333333333333,
              "#9c179e"
             ],
             [
              0.4444444444444444,
              "#bd3786"
             ],
             [
              0.5555555555555556,
              "#d8576b"
             ],
             [
              0.6666666666666666,
              "#ed7953"
             ],
             [
              0.7777777777777778,
              "#fb9f3a"
             ],
             [
              0.8888888888888888,
              "#fdca26"
             ],
             [
              1,
              "#f0f921"
             ]
            ],
            "type": "histogram2d"
           }
          ],
          "histogram2dcontour": [
           {
            "colorbar": {
             "outlinewidth": 0,
             "ticks": ""
            },
            "colorscale": [
             [
              0,
              "#0d0887"
             ],
             [
              0.1111111111111111,
              "#46039f"
             ],
             [
              0.2222222222222222,
              "#7201a8"
             ],
             [
              0.3333333333333333,
              "#9c179e"
             ],
             [
              0.4444444444444444,
              "#bd3786"
             ],
             [
              0.5555555555555556,
              "#d8576b"
             ],
             [
              0.6666666666666666,
              "#ed7953"
             ],
             [
              0.7777777777777778,
              "#fb9f3a"
             ],
             [
              0.8888888888888888,
              "#fdca26"
             ],
             [
              1,
              "#f0f921"
             ]
            ],
            "type": "histogram2dcontour"
           }
          ],
          "mesh3d": [
           {
            "colorbar": {
             "outlinewidth": 0,
             "ticks": ""
            },
            "type": "mesh3d"
           }
          ],
          "parcoords": [
           {
            "line": {
             "colorbar": {
              "outlinewidth": 0,
              "ticks": ""
             }
            },
            "type": "parcoords"
           }
          ],
          "pie": [
           {
            "automargin": true,
            "type": "pie"
           }
          ],
          "scatter": [
           {
            "fillpattern": {
             "fillmode": "overlay",
             "size": 10,
             "solidity": 0.2
            },
            "type": "scatter"
           }
          ],
          "scatter3d": [
           {
            "line": {
             "colorbar": {
              "outlinewidth": 0,
              "ticks": ""
             }
            },
            "marker": {
             "colorbar": {
              "outlinewidth": 0,
              "ticks": ""
             }
            },
            "type": "scatter3d"
           }
          ],
          "scattercarpet": [
           {
            "marker": {
             "colorbar": {
              "outlinewidth": 0,
              "ticks": ""
             }
            },
            "type": "scattercarpet"
           }
          ],
          "scattergeo": [
           {
            "marker": {
             "colorbar": {
              "outlinewidth": 0,
              "ticks": ""
             }
            },
            "type": "scattergeo"
           }
          ],
          "scattergl": [
           {
            "marker": {
             "colorbar": {
              "outlinewidth": 0,
              "ticks": ""
             }
            },
            "type": "scattergl"
           }
          ],
          "scattermapbox": [
           {
            "marker": {
             "colorbar": {
              "outlinewidth": 0,
              "ticks": ""
             }
            },
            "type": "scattermapbox"
           }
          ],
          "scatterpolar": [
           {
            "marker": {
             "colorbar": {
              "outlinewidth": 0,
              "ticks": ""
             }
            },
            "type": "scatterpolar"
           }
          ],
          "scatterpolargl": [
           {
            "marker": {
             "colorbar": {
              "outlinewidth": 0,
              "ticks": ""
             }
            },
            "type": "scatterpolargl"
           }
          ],
          "scatterternary": [
           {
            "marker": {
             "colorbar": {
              "outlinewidth": 0,
              "ticks": ""
             }
            },
            "type": "scatterternary"
           }
          ],
          "surface": [
           {
            "colorbar": {
             "outlinewidth": 0,
             "ticks": ""
            },
            "colorscale": [
             [
              0,
              "#0d0887"
             ],
             [
              0.1111111111111111,
              "#46039f"
             ],
             [
              0.2222222222222222,
              "#7201a8"
             ],
             [
              0.3333333333333333,
              "#9c179e"
             ],
             [
              0.4444444444444444,
              "#bd3786"
             ],
             [
              0.5555555555555556,
              "#d8576b"
             ],
             [
              0.6666666666666666,
              "#ed7953"
             ],
             [
              0.7777777777777778,
              "#fb9f3a"
             ],
             [
              0.8888888888888888,
              "#fdca26"
             ],
             [
              1,
              "#f0f921"
             ]
            ],
            "type": "surface"
           }
          ],
          "table": [
           {
            "cells": {
             "fill": {
              "color": "#EBF0F8"
             },
             "line": {
              "color": "white"
             }
            },
            "header": {
             "fill": {
              "color": "#C8D4E3"
             },
             "line": {
              "color": "white"
             }
            },
            "type": "table"
           }
          ]
         },
         "layout": {
          "annotationdefaults": {
           "arrowcolor": "#2a3f5f",
           "arrowhead": 0,
           "arrowwidth": 1
          },
          "autotypenumbers": "strict",
          "coloraxis": {
           "colorbar": {
            "outlinewidth": 0,
            "ticks": ""
           }
          },
          "colorscale": {
           "diverging": [
            [
             0,
             "#8e0152"
            ],
            [
             0.1,
             "#c51b7d"
            ],
            [
             0.2,
             "#de77ae"
            ],
            [
             0.3,
             "#f1b6da"
            ],
            [
             0.4,
             "#fde0ef"
            ],
            [
             0.5,
             "#f7f7f7"
            ],
            [
             0.6,
             "#e6f5d0"
            ],
            [
             0.7,
             "#b8e186"
            ],
            [
             0.8,
             "#7fbc41"
            ],
            [
             0.9,
             "#4d9221"
            ],
            [
             1,
             "#276419"
            ]
           ],
           "sequential": [
            [
             0,
             "#0d0887"
            ],
            [
             0.1111111111111111,
             "#46039f"
            ],
            [
             0.2222222222222222,
             "#7201a8"
            ],
            [
             0.3333333333333333,
             "#9c179e"
            ],
            [
             0.4444444444444444,
             "#bd3786"
            ],
            [
             0.5555555555555556,
             "#d8576b"
            ],
            [
             0.6666666666666666,
             "#ed7953"
            ],
            [
             0.7777777777777778,
             "#fb9f3a"
            ],
            [
             0.8888888888888888,
             "#fdca26"
            ],
            [
             1,
             "#f0f921"
            ]
           ],
           "sequentialminus": [
            [
             0,
             "#0d0887"
            ],
            [
             0.1111111111111111,
             "#46039f"
            ],
            [
             0.2222222222222222,
             "#7201a8"
            ],
            [
             0.3333333333333333,
             "#9c179e"
            ],
            [
             0.4444444444444444,
             "#bd3786"
            ],
            [
             0.5555555555555556,
             "#d8576b"
            ],
            [
             0.6666666666666666,
             "#ed7953"
            ],
            [
             0.7777777777777778,
             "#fb9f3a"
            ],
            [
             0.8888888888888888,
             "#fdca26"
            ],
            [
             1,
             "#f0f921"
            ]
           ]
          },
          "colorway": [
           "#636efa",
           "#EF553B",
           "#00cc96",
           "#ab63fa",
           "#FFA15A",
           "#19d3f3",
           "#FF6692",
           "#B6E880",
           "#FF97FF",
           "#FECB52"
          ],
          "font": {
           "color": "#2a3f5f"
          },
          "geo": {
           "bgcolor": "white",
           "lakecolor": "white",
           "landcolor": "#E5ECF6",
           "showlakes": true,
           "showland": true,
           "subunitcolor": "white"
          },
          "hoverlabel": {
           "align": "left"
          },
          "hovermode": "closest",
          "mapbox": {
           "style": "light"
          },
          "paper_bgcolor": "white",
          "plot_bgcolor": "#E5ECF6",
          "polar": {
           "angularaxis": {
            "gridcolor": "white",
            "linecolor": "white",
            "ticks": ""
           },
           "bgcolor": "#E5ECF6",
           "radialaxis": {
            "gridcolor": "white",
            "linecolor": "white",
            "ticks": ""
           }
          },
          "scene": {
           "xaxis": {
            "backgroundcolor": "#E5ECF6",
            "gridcolor": "white",
            "gridwidth": 2,
            "linecolor": "white",
            "showbackground": true,
            "ticks": "",
            "zerolinecolor": "white"
           },
           "yaxis": {
            "backgroundcolor": "#E5ECF6",
            "gridcolor": "white",
            "gridwidth": 2,
            "linecolor": "white",
            "showbackground": true,
            "ticks": "",
            "zerolinecolor": "white"
           },
           "zaxis": {
            "backgroundcolor": "#E5ECF6",
            "gridcolor": "white",
            "gridwidth": 2,
            "linecolor": "white",
            "showbackground": true,
            "ticks": "",
            "zerolinecolor": "white"
           }
          },
          "shapedefaults": {
           "line": {
            "color": "#2a3f5f"
           }
          },
          "ternary": {
           "aaxis": {
            "gridcolor": "white",
            "linecolor": "white",
            "ticks": ""
           },
           "baxis": {
            "gridcolor": "white",
            "linecolor": "white",
            "ticks": ""
           },
           "bgcolor": "#E5ECF6",
           "caxis": {
            "gridcolor": "white",
            "linecolor": "white",
            "ticks": ""
           }
          },
          "title": {
           "x": 0.05
          },
          "xaxis": {
           "automargin": true,
           "gridcolor": "white",
           "linecolor": "white",
           "ticks": "",
           "title": {
            "standoff": 15
           },
           "zerolinecolor": "white",
           "zerolinewidth": 2
          },
          "yaxis": {
           "automargin": true,
           "gridcolor": "white",
           "linecolor": "white",
           "ticks": "",
           "title": {
            "standoff": 15
           },
           "zerolinecolor": "white",
           "zerolinewidth": 2
          }
         }
        },
        "title": {
         "text": "T셀파 후기 별점 점유율"
        }
       }
      },
      "text/html": [
       "<div>                            <div id=\"fd1a867c-b93e-4dcd-8c3d-c2d705ac0d20\" class=\"plotly-graph-div\" style=\"height:525px; width:100%;\"></div>            <script type=\"text/javascript\">                require([\"plotly\"], function(Plotly) {                    window.PLOTLYENV=window.PLOTLYENV || {};                                    if (document.getElementById(\"fd1a867c-b93e-4dcd-8c3d-c2d705ac0d20\")) {                    Plotly.newPlot(                        \"fd1a867c-b93e-4dcd-8c3d-c2d705ac0d20\",                        [{\"domain\":{\"x\":[0.0,1.0],\"y\":[0.0,1.0]},\"hovertemplate\":\"label=%{label}<br>value=%{value}<extra></extra>\",\"labels\":[\"1\",\"3\",\"4\",\"5\"],\"legendgroup\":\"\",\"name\":\"\",\"showlegend\":true,\"values\":[3,6,13,119],\"type\":\"pie\"}],                        {\"template\":{\"data\":{\"histogram2dcontour\":[{\"type\":\"histogram2dcontour\",\"colorbar\":{\"outlinewidth\":0,\"ticks\":\"\"},\"colorscale\":[[0.0,\"#0d0887\"],[0.1111111111111111,\"#46039f\"],[0.2222222222222222,\"#7201a8\"],[0.3333333333333333,\"#9c179e\"],[0.4444444444444444,\"#bd3786\"],[0.5555555555555556,\"#d8576b\"],[0.6666666666666666,\"#ed7953\"],[0.7777777777777778,\"#fb9f3a\"],[0.8888888888888888,\"#fdca26\"],[1.0,\"#f0f921\"]]}],\"choropleth\":[{\"type\":\"choropleth\",\"colorbar\":{\"outlinewidth\":0,\"ticks\":\"\"}}],\"histogram2d\":[{\"type\":\"histogram2d\",\"colorbar\":{\"outlinewidth\":0,\"ticks\":\"\"},\"colorscale\":[[0.0,\"#0d0887\"],[0.1111111111111111,\"#46039f\"],[0.2222222222222222,\"#7201a8\"],[0.3333333333333333,\"#9c179e\"],[0.4444444444444444,\"#bd3786\"],[0.5555555555555556,\"#d8576b\"],[0.6666666666666666,\"#ed7953\"],[0.7777777777777778,\"#fb9f3a\"],[0.8888888888888888,\"#fdca26\"],[1.0,\"#f0f921\"]]}],\"heatmap\":[{\"type\":\"heatmap\",\"colorbar\":{\"outlinewidth\":0,\"ticks\":\"\"},\"colorscale\":[[0.0,\"#0d0887\"],[0.1111111111111111,\"#46039f\"],[0.2222222222222222,\"#7201a8\"],[0.3333333333333333,\"#9c179e\"],[0.4444444444444444,\"#bd3786\"],[0.5555555555555556,\"#d8576b\"],[0.6666666666666666,\"#ed7953\"],[0.7777777777777778,\"#fb9f3a\"],[0.8888888888888888,\"#fdca26\"],[1.0,\"#f0f921\"]]}],\"heatmapgl\":[{\"type\":\"heatmapgl\",\"colorbar\":{\"outlinewidth\":0,\"ticks\":\"\"},\"colorscale\":[[0.0,\"#0d0887\"],[0.1111111111111111,\"#46039f\"],[0.2222222222222222,\"#7201a8\"],[0.3333333333333333,\"#9c179e\"],[0.4444444444444444,\"#bd3786\"],[0.5555555555555556,\"#d8576b\"],[0.6666666666666666,\"#ed7953\"],[0.7777777777777778,\"#fb9f3a\"],[0.8888888888888888,\"#fdca26\"],[1.0,\"#f0f921\"]]}],\"contourcarpet\":[{\"type\":\"contourcarpet\",\"colorbar\":{\"outlinewidth\":0,\"ticks\":\"\"}}],\"contour\":[{\"type\":\"contour\",\"colorbar\":{\"outlinewidth\":0,\"ticks\":\"\"},\"colorscale\":[[0.0,\"#0d0887\"],[0.1111111111111111,\"#46039f\"],[0.2222222222222222,\"#7201a8\"],[0.3333333333333333,\"#9c179e\"],[0.4444444444444444,\"#bd3786\"],[0.5555555555555556,\"#d8576b\"],[0.6666666666666666,\"#ed7953\"],[0.7777777777777778,\"#fb9f3a\"],[0.8888888888888888,\"#fdca26\"],[1.0,\"#f0f921\"]]}],\"surface\":[{\"type\":\"surface\",\"colorbar\":{\"outlinewidth\":0,\"ticks\":\"\"},\"colorscale\":[[0.0,\"#0d0887\"],[0.1111111111111111,\"#46039f\"],[0.2222222222222222,\"#7201a8\"],[0.3333333333333333,\"#9c179e\"],[0.4444444444444444,\"#bd3786\"],[0.5555555555555556,\"#d8576b\"],[0.6666666666666666,\"#ed7953\"],[0.7777777777777778,\"#fb9f3a\"],[0.8888888888888888,\"#fdca26\"],[1.0,\"#f0f921\"]]}],\"mesh3d\":[{\"type\":\"mesh3d\",\"colorbar\":{\"outlinewidth\":0,\"ticks\":\"\"}}],\"scatter\":[{\"fillpattern\":{\"fillmode\":\"overlay\",\"size\":10,\"solidity\":0.2},\"type\":\"scatter\"}],\"parcoords\":[{\"type\":\"parcoords\",\"line\":{\"colorbar\":{\"outlinewidth\":0,\"ticks\":\"\"}}}],\"scatterpolargl\":[{\"type\":\"scatterpolargl\",\"marker\":{\"colorbar\":{\"outlinewidth\":0,\"ticks\":\"\"}}}],\"bar\":[{\"error_x\":{\"color\":\"#2a3f5f\"},\"error_y\":{\"color\":\"#2a3f5f\"},\"marker\":{\"line\":{\"color\":\"#E5ECF6\",\"width\":0.5},\"pattern\":{\"fillmode\":\"overlay\",\"size\":10,\"solidity\":0.2}},\"type\":\"bar\"}],\"scattergeo\":[{\"type\":\"scattergeo\",\"marker\":{\"colorbar\":{\"outlinewidth\":0,\"ticks\":\"\"}}}],\"scatterpolar\":[{\"type\":\"scatterpolar\",\"marker\":{\"colorbar\":{\"outlinewidth\":0,\"ticks\":\"\"}}}],\"histogram\":[{\"marker\":{\"pattern\":{\"fillmode\":\"overlay\",\"size\":10,\"solidity\":0.2}},\"type\":\"histogram\"}],\"scattergl\":[{\"type\":\"scattergl\",\"marker\":{\"colorbar\":{\"outlinewidth\":0,\"ticks\":\"\"}}}],\"scatter3d\":[{\"type\":\"scatter3d\",\"line\":{\"colorbar\":{\"outlinewidth\":0,\"ticks\":\"\"}},\"marker\":{\"colorbar\":{\"outlinewidth\":0,\"ticks\":\"\"}}}],\"scattermapbox\":[{\"type\":\"scattermapbox\",\"marker\":{\"colorbar\":{\"outlinewidth\":0,\"ticks\":\"\"}}}],\"scatterternary\":[{\"type\":\"scatterternary\",\"marker\":{\"colorbar\":{\"outlinewidth\":0,\"ticks\":\"\"}}}],\"scattercarpet\":[{\"type\":\"scattercarpet\",\"marker\":{\"colorbar\":{\"outlinewidth\":0,\"ticks\":\"\"}}}],\"carpet\":[{\"aaxis\":{\"endlinecolor\":\"#2a3f5f\",\"gridcolor\":\"white\",\"linecolor\":\"white\",\"minorgridcolor\":\"white\",\"startlinecolor\":\"#2a3f5f\"},\"baxis\":{\"endlinecolor\":\"#2a3f5f\",\"gridcolor\":\"white\",\"linecolor\":\"white\",\"minorgridcolor\":\"white\",\"startlinecolor\":\"#2a3f5f\"},\"type\":\"carpet\"}],\"table\":[{\"cells\":{\"fill\":{\"color\":\"#EBF0F8\"},\"line\":{\"color\":\"white\"}},\"header\":{\"fill\":{\"color\":\"#C8D4E3\"},\"line\":{\"color\":\"white\"}},\"type\":\"table\"}],\"barpolar\":[{\"marker\":{\"line\":{\"color\":\"#E5ECF6\",\"width\":0.5},\"pattern\":{\"fillmode\":\"overlay\",\"size\":10,\"solidity\":0.2}},\"type\":\"barpolar\"}],\"pie\":[{\"automargin\":true,\"type\":\"pie\"}]},\"layout\":{\"autotypenumbers\":\"strict\",\"colorway\":[\"#636efa\",\"#EF553B\",\"#00cc96\",\"#ab63fa\",\"#FFA15A\",\"#19d3f3\",\"#FF6692\",\"#B6E880\",\"#FF97FF\",\"#FECB52\"],\"font\":{\"color\":\"#2a3f5f\"},\"hovermode\":\"closest\",\"hoverlabel\":{\"align\":\"left\"},\"paper_bgcolor\":\"white\",\"plot_bgcolor\":\"#E5ECF6\",\"polar\":{\"bgcolor\":\"#E5ECF6\",\"angularaxis\":{\"gridcolor\":\"white\",\"linecolor\":\"white\",\"ticks\":\"\"},\"radialaxis\":{\"gridcolor\":\"white\",\"linecolor\":\"white\",\"ticks\":\"\"}},\"ternary\":{\"bgcolor\":\"#E5ECF6\",\"aaxis\":{\"gridcolor\":\"white\",\"linecolor\":\"white\",\"ticks\":\"\"},\"baxis\":{\"gridcolor\":\"white\",\"linecolor\":\"white\",\"ticks\":\"\"},\"caxis\":{\"gridcolor\":\"white\",\"linecolor\":\"white\",\"ticks\":\"\"}},\"coloraxis\":{\"colorbar\":{\"outlinewidth\":0,\"ticks\":\"\"}},\"colorscale\":{\"sequential\":[[0.0,\"#0d0887\"],[0.1111111111111111,\"#46039f\"],[0.2222222222222222,\"#7201a8\"],[0.3333333333333333,\"#9c179e\"],[0.4444444444444444,\"#bd3786\"],[0.5555555555555556,\"#d8576b\"],[0.6666666666666666,\"#ed7953\"],[0.7777777777777778,\"#fb9f3a\"],[0.8888888888888888,\"#fdca26\"],[1.0,\"#f0f921\"]],\"sequentialminus\":[[0.0,\"#0d0887\"],[0.1111111111111111,\"#46039f\"],[0.2222222222222222,\"#7201a8\"],[0.3333333333333333,\"#9c179e\"],[0.4444444444444444,\"#bd3786\"],[0.5555555555555556,\"#d8576b\"],[0.6666666666666666,\"#ed7953\"],[0.7777777777777778,\"#fb9f3a\"],[0.8888888888888888,\"#fdca26\"],[1.0,\"#f0f921\"]],\"diverging\":[[0,\"#8e0152\"],[0.1,\"#c51b7d\"],[0.2,\"#de77ae\"],[0.3,\"#f1b6da\"],[0.4,\"#fde0ef\"],[0.5,\"#f7f7f7\"],[0.6,\"#e6f5d0\"],[0.7,\"#b8e186\"],[0.8,\"#7fbc41\"],[0.9,\"#4d9221\"],[1,\"#276419\"]]},\"xaxis\":{\"gridcolor\":\"white\",\"linecolor\":\"white\",\"ticks\":\"\",\"title\":{\"standoff\":15},\"zerolinecolor\":\"white\",\"automargin\":true,\"zerolinewidth\":2},\"yaxis\":{\"gridcolor\":\"white\",\"linecolor\":\"white\",\"ticks\":\"\",\"title\":{\"standoff\":15},\"zerolinecolor\":\"white\",\"automargin\":true,\"zerolinewidth\":2},\"scene\":{\"xaxis\":{\"backgroundcolor\":\"#E5ECF6\",\"gridcolor\":\"white\",\"linecolor\":\"white\",\"showbackground\":true,\"ticks\":\"\",\"zerolinecolor\":\"white\",\"gridwidth\":2},\"yaxis\":{\"backgroundcolor\":\"#E5ECF6\",\"gridcolor\":\"white\",\"linecolor\":\"white\",\"showbackground\":true,\"ticks\":\"\",\"zerolinecolor\":\"white\",\"gridwidth\":2},\"zaxis\":{\"backgroundcolor\":\"#E5ECF6\",\"gridcolor\":\"white\",\"linecolor\":\"white\",\"showbackground\":true,\"ticks\":\"\",\"zerolinecolor\":\"white\",\"gridwidth\":2}},\"shapedefaults\":{\"line\":{\"color\":\"#2a3f5f\"}},\"annotationdefaults\":{\"arrowcolor\":\"#2a3f5f\",\"arrowhead\":0,\"arrowwidth\":1},\"geo\":{\"bgcolor\":\"white\",\"landcolor\":\"#E5ECF6\",\"subunitcolor\":\"white\",\"showland\":true,\"showlakes\":true,\"lakecolor\":\"white\"},\"title\":{\"x\":0.05},\"mapbox\":{\"style\":\"light\"}}},\"legend\":{\"tracegroupgap\":0},\"title\":{\"text\":\"T\\uc140\\ud30c \\ud6c4\\uae30 \\ubcc4\\uc810 \\uc810\\uc720\\uc728\"}},                        {\"responsive\": true}                    ).then(function(){\n",
       "                            \n",
       "var gd = document.getElementById('fd1a867c-b93e-4dcd-8c3d-c2d705ac0d20');\n",
       "var x = new MutationObserver(function (mutations, observer) {{\n",
       "        var display = window.getComputedStyle(gd).display;\n",
       "        if (!display || display === 'none') {{\n",
       "            console.log([gd, 'removed!']);\n",
       "            Plotly.purge(gd);\n",
       "            observer.disconnect();\n",
       "        }}\n",
       "}});\n",
       "\n",
       "// Listen for the removal of the full notebook cells\n",
       "var notebookContainer = gd.closest('#notebook-container');\n",
       "if (notebookContainer) {{\n",
       "    x.observe(notebookContainer, {childList: true});\n",
       "}}\n",
       "\n",
       "// Listen for the clearing of the current output cell\n",
       "var outputEl = gd.closest('.output');\n",
       "if (outputEl) {{\n",
       "    x.observe(outputEl, {childList: true});\n",
       "}}\n",
       "\n",
       "                        })                };                });            </script>        </div>"
      ]
     },
     "metadata": {},
     "output_type": "display_data"
    }
   ],
   "source": [
    "px.pie(values=star['제목'], names=star.index,title='T셀파 후기 별점 점유율')"
   ]
  },
  {
   "cell_type": "code",
   "execution_count": 31,
   "id": "68147aab-1c1d-45fa-856a-ee51373f8b3d",
   "metadata": {},
   "outputs": [
    {
     "data": {
      "text/html": [
       "<div>\n",
       "<style scoped>\n",
       "    .dataframe tbody tr th:only-of-type {\n",
       "        vertical-align: middle;\n",
       "    }\n",
       "\n",
       "    .dataframe tbody tr th {\n",
       "        vertical-align: top;\n",
       "    }\n",
       "\n",
       "    .dataframe thead th {\n",
       "        text-align: right;\n",
       "    }\n",
       "</style>\n",
       "<table border=\"1\" class=\"dataframe\">\n",
       "  <thead>\n",
       "    <tr style=\"text-align: right;\">\n",
       "      <th></th>\n",
       "      <th>제목</th>\n",
       "      <th>시간</th>\n",
       "      <th>별점</th>\n",
       "      <th>날짜</th>\n",
       "      <th>본문</th>\n",
       "      <th>연수 분야</th>\n",
       "      <th>가격</th>\n",
       "      <th>대상</th>\n",
       "    </tr>\n",
       "  </thead>\n",
       "  <tbody>\n",
       "    <tr>\n",
       "      <th>30</th>\n",
       "      <td>손그림과 파워포인트로 교실 속 콘텐츠 만들기</td>\n",
       "      <td>30</td>\n",
       "      <td>1</td>\n",
       "      <td>2024.04.22</td>\n",
       "      <td>너무 어려워요</td>\n",
       "      <td>ICT정보화</td>\n",
       "      <td>70000</td>\n",
       "      <td>전체</td>\n",
       "    </tr>\n",
       "    <tr>\n",
       "      <th>63</th>\n",
       "      <td>지리와 함께하는 인문학 티타임</td>\n",
       "      <td>30</td>\n",
       "      <td>1</td>\n",
       "      <td>2024.04.12</td>\n",
       "      <td>연수 후기가 좋아서 신청했는데 첫 강의부터 너무나 티나게 진…</td>\n",
       "      <td>자기계발</td>\n",
       "      <td>70000</td>\n",
       "      <td>전체</td>\n",
       "    </tr>\n",
       "    <tr>\n",
       "      <th>110</th>\n",
       "      <td>하루 20분, 컬쳐 리스닝 픽업</td>\n",
       "      <td>15</td>\n",
       "      <td>1</td>\n",
       "      <td>2024.04.23</td>\n",
       "      <td>좋은 후기들이 많지만 솔직히 이해되지 않네요.\\n교안도 없고…</td>\n",
       "      <td>어학</td>\n",
       "      <td>40000</td>\n",
       "      <td>전체</td>\n",
       "    </tr>\n",
       "  </tbody>\n",
       "</table>\n",
       "</div>"
      ],
      "text/plain": [
       "                           제목  시간 별점          날짜  \\\n",
       "30   손그림과 파워포인트로 교실 속 콘텐츠 만들기  30  1  2024.04.22   \n",
       "63           지리와 함께하는 인문학 티타임  30  1  2024.04.12   \n",
       "110         하루 20분, 컬쳐 리스닝 픽업  15  1  2024.04.23   \n",
       "\n",
       "                                     본문   연수 분야     가격  대상  \n",
       "30                              너무 어려워요  ICT정보화  70000  전체  \n",
       "63   연수 후기가 좋아서 신청했는데 첫 강의부터 너무나 티나게 진…    자기계발  70000  전체  \n",
       "110  좋은 후기들이 많지만 솔직히 이해되지 않네요.\\n교안도 없고…      어학  40000  전체  "
      ]
     },
     "execution_count": 31,
     "metadata": {},
     "output_type": "execute_result"
    }
   ],
   "source": [
    "star = fin_res[fin_res['별점']=='1']\n",
    "star"
   ]
  },
  {
   "cell_type": "markdown",
   "id": "29fb4847-30b6-4870-8540-a0079e9e0304",
   "metadata": {},
   "source": [
    "### 강좌 시간대가 15차시인 강의의 가격대 분포"
   ]
  },
  {
   "cell_type": "code",
   "execution_count": 36,
   "id": "987b26bc-cf80-4a86-a96b-f6f6c45af0fd",
   "metadata": {
    "scrolled": true
   },
   "outputs": [
    {
     "data": {
      "text/html": [
       "<div>\n",
       "<style scoped>\n",
       "    .dataframe tbody tr th:only-of-type {\n",
       "        vertical-align: middle;\n",
       "    }\n",
       "\n",
       "    .dataframe tbody tr th {\n",
       "        vertical-align: top;\n",
       "    }\n",
       "\n",
       "    .dataframe thead th {\n",
       "        text-align: right;\n",
       "    }\n",
       "</style>\n",
       "<table border=\"1\" class=\"dataframe\">\n",
       "  <thead>\n",
       "    <tr style=\"text-align: right;\">\n",
       "      <th></th>\n",
       "      <th>제목</th>\n",
       "      <th>시간</th>\n",
       "      <th>별점</th>\n",
       "      <th>날짜</th>\n",
       "      <th>본문</th>\n",
       "      <th>연수 분야</th>\n",
       "      <th>가격</th>\n",
       "      <th>대상</th>\n",
       "    </tr>\n",
       "  </thead>\n",
       "  <tbody>\n",
       "    <tr>\n",
       "      <th>0</th>\n",
       "      <td>과학저술가 정인경, 이지유와 함께하는 신나는 과학수다</td>\n",
       "      <td>15</td>\n",
       "      <td>5</td>\n",
       "      <td>2024.06.16</td>\n",
       "      <td>가벼운 대화로도 깊이 있게 생각할 거리를 주는 연수였습니다.…</td>\n",
       "      <td>자기계발</td>\n",
       "      <td>40000</td>\n",
       "      <td>전체</td>\n",
       "    </tr>\n",
       "    <tr>\n",
       "      <th>1</th>\n",
       "      <td>쉽게 배우고 활용하는 교실 속 손그림 그리기</td>\n",
       "      <td>15</td>\n",
       "      <td>5</td>\n",
       "      <td>2024.06.15</td>\n",
       "      <td>손으로 끄적거리는 걸 좋아하는 편이지만,\\n안타깝게도 예술적…</td>\n",
       "      <td>ICT정보화</td>\n",
       "      <td>40000</td>\n",
       "      <td>전체</td>\n",
       "    </tr>\n",
       "    <tr>\n",
       "      <th>2</th>\n",
       "      <td>쉽게 배우고 활용하는 교실 속 손그림 그리기</td>\n",
       "      <td>15</td>\n",
       "      <td>5</td>\n",
       "      <td>2024.05.09</td>\n",
       "      <td>늘 그림을 잘 그리고 싶었던 시절이 오래전부터 있었습니다. …</td>\n",
       "      <td>ICT정보화</td>\n",
       "      <td>40000</td>\n",
       "      <td>전체</td>\n",
       "    </tr>\n",
       "    <tr>\n",
       "      <th>3</th>\n",
       "      <td>쉽게 배우고 활용하는 교실 속 손그림 그리기</td>\n",
       "      <td>15</td>\n",
       "      <td>5</td>\n",
       "      <td>2024.04.25</td>\n",
       "      <td>활동지를 만들거나, 게시판을 꾸밀 때 직접 그린 손그림으로 …</td>\n",
       "      <td>ICT정보화</td>\n",
       "      <td>40000</td>\n",
       "      <td>전체</td>\n",
       "    </tr>\n",
       "    <tr>\n",
       "      <th>4</th>\n",
       "      <td>쉽게 배우고 활용하는 교실 속 손그림 그리기</td>\n",
       "      <td>15</td>\n",
       "      <td>5</td>\n",
       "      <td>2024.04.23</td>\n",
       "      <td>제목과 같이 정말 쉽게 배우고 활용할 수 있는 손그림 수업이…</td>\n",
       "      <td>ICT정보화</td>\n",
       "      <td>40000</td>\n",
       "      <td>전체</td>\n",
       "    </tr>\n",
       "    <tr>\n",
       "      <th>5</th>\n",
       "      <td>쉽게 배우고 활용하는 교실 속 손그림 그리기</td>\n",
       "      <td>15</td>\n",
       "      <td>5</td>\n",
       "      <td>2024.01.17</td>\n",
       "      <td>칠판에 판서를 할때 글보다 그림이 더 효과적이고 특히 사회 …</td>\n",
       "      <td>ICT정보화</td>\n",
       "      <td>40000</td>\n",
       "      <td>전체</td>\n",
       "    </tr>\n",
       "    <tr>\n",
       "      <th>6</th>\n",
       "      <td>쉽게 배우고 활용하는 교실 속 손그림 그리기</td>\n",
       "      <td>15</td>\n",
       "      <td>4</td>\n",
       "      <td>2024.01.13</td>\n",
       "      <td>쉽고 재미있게 손 그림을 그릴 수 있도록 도움이 되는 연수였…</td>\n",
       "      <td>ICT정보화</td>\n",
       "      <td>40000</td>\n",
       "      <td>전체</td>\n",
       "    </tr>\n",
       "    <tr>\n",
       "      <th>10</th>\n",
       "      <td>교사를 위한 교실 밖 여행인문학</td>\n",
       "      <td>15</td>\n",
       "      <td>5</td>\n",
       "      <td>2024.06.15</td>\n",
       "      <td>여행을 잘 다니지 않는 방안퉁수형 인간인지라 여행지를 보면 …</td>\n",
       "      <td>인문교양</td>\n",
       "      <td>40000</td>\n",
       "      <td>전체</td>\n",
       "    </tr>\n",
       "    <tr>\n",
       "      <th>11</th>\n",
       "      <td>교사를 위한 교실 밖 여행인문학</td>\n",
       "      <td>15</td>\n",
       "      <td>5</td>\n",
       "      <td>2024.06.10</td>\n",
       "      <td>저는 여행에 관심이 많은 교사입니다. 학기중 바쁜 일정으로 …</td>\n",
       "      <td>인문교양</td>\n",
       "      <td>40000</td>\n",
       "      <td>전체</td>\n",
       "    </tr>\n",
       "    <tr>\n",
       "      <th>12</th>\n",
       "      <td>교사를 위한 교실 밖 여행인문학</td>\n",
       "      <td>15</td>\n",
       "      <td>4</td>\n",
       "      <td>2023.12.26</td>\n",
       "      <td>여행은 답답한 일상에서 오는 스트레스를 해소해 줍니다. 그러…</td>\n",
       "      <td>인문교양</td>\n",
       "      <td>40000</td>\n",
       "      <td>전체</td>\n",
       "    </tr>\n",
       "    <tr>\n",
       "      <th>13</th>\n",
       "      <td>초등 고학년 탐구생활</td>\n",
       "      <td>15</td>\n",
       "      <td>5</td>\n",
       "      <td>2024.06.15</td>\n",
       "      <td>10여년 만에 하는 고학년 두렵기만 했습니다. 지금은 어느 …</td>\n",
       "      <td>생활지도</td>\n",
       "      <td>40000</td>\n",
       "      <td>초등</td>\n",
       "    </tr>\n",
       "    <tr>\n",
       "      <th>14</th>\n",
       "      <td>초등 고학년 탐구생활</td>\n",
       "      <td>15</td>\n",
       "      <td>5</td>\n",
       "      <td>2024.05.14</td>\n",
       "      <td>고학년 학생지도에 실질적인 도움이 되는 내용으로만 구성되어 …</td>\n",
       "      <td>생활지도</td>\n",
       "      <td>40000</td>\n",
       "      <td>초등</td>\n",
       "    </tr>\n",
       "    <tr>\n",
       "      <th>19</th>\n",
       "      <td>왕초보를 위한 캘리그래피</td>\n",
       "      <td>15</td>\n",
       "      <td>5</td>\n",
       "      <td>2024.06.10</td>\n",
       "      <td>미술시간에 아이들과 캘리그라피 해봤었는데,이렇게 자세히 알려…</td>\n",
       "      <td>자기계발</td>\n",
       "      <td>40000</td>\n",
       "      <td>전체</td>\n",
       "    </tr>\n",
       "    <tr>\n",
       "      <th>20</th>\n",
       "      <td>왕초보를 위한 캘리그래피</td>\n",
       "      <td>15</td>\n",
       "      <td>4</td>\n",
       "      <td>2024.02.22</td>\n",
       "      <td>화면에서 같이 배우시는 선생님과 함께 천천히 따라하고 열심히…</td>\n",
       "      <td>자기계발</td>\n",
       "      <td>40000</td>\n",
       "      <td>전체</td>\n",
       "    </tr>\n",
       "    <tr>\n",
       "      <th>25</th>\n",
       "      <td>정훈쌤의 뚝딱 칼림바</td>\n",
       "      <td>15</td>\n",
       "      <td>5</td>\n",
       "      <td>2024.06.04</td>\n",
       "      <td>제가 제작년 음악선생님과 칼림바 동아리를 하면서 이 악기의 …</td>\n",
       "      <td>자기계발</td>\n",
       "      <td>40000</td>\n",
       "      <td>전체</td>\n",
       "    </tr>\n",
       "    <tr>\n",
       "      <th>26</th>\n",
       "      <td>이구동성, 마음을 다루는 미술활동</td>\n",
       "      <td>15</td>\n",
       "      <td>5</td>\n",
       "      <td>2024.06.04</td>\n",
       "      <td>활동 내용의 구체적인 사례가 도움이 많이 되었습니다. 다양…</td>\n",
       "      <td>자기계발</td>\n",
       "      <td>40000</td>\n",
       "      <td>전체</td>\n",
       "    </tr>\n",
       "    <tr>\n",
       "      <th>37</th>\n",
       "      <td>기후변화 이야기</td>\n",
       "      <td>15</td>\n",
       "      <td>5</td>\n",
       "      <td>2024.05.27</td>\n",
       "      <td>알면 알수록 위기가 느껴지면서 불안감이 높아지는 내용입니다.…</td>\n",
       "      <td>자기계발</td>\n",
       "      <td>40000</td>\n",
       "      <td>전체</td>\n",
       "    </tr>\n",
       "    <tr>\n",
       "      <th>38</th>\n",
       "      <td>기초영어 회화 핵심표현 Real Speaking 1</td>\n",
       "      <td>15</td>\n",
       "      <td>5</td>\n",
       "      <td>2024.05.27</td>\n",
       "      <td>연수가 아주 유익합니다. 티셀파 연수원 영어연수들을 들으며\\n…</td>\n",
       "      <td>어학</td>\n",
       "      <td>40000</td>\n",
       "      <td>전체</td>\n",
       "    </tr>\n",
       "    <tr>\n",
       "      <th>39</th>\n",
       "      <td>당장 따라 할 수 있는 사계절 학급운영+이벤트</td>\n",
       "      <td>15</td>\n",
       "      <td>5</td>\n",
       "      <td>2024.05.25</td>\n",
       "      <td>학급경영의 여러 노하우를 전수받아 당장해보고 싶어졌어요~~</td>\n",
       "      <td>학급경영</td>\n",
       "      <td>40000</td>\n",
       "      <td>전체</td>\n",
       "    </tr>\n",
       "    <tr>\n",
       "      <th>40</th>\n",
       "      <td>하루 20분, 상황별 생활영어회화 2</td>\n",
       "      <td>15</td>\n",
       "      <td>5</td>\n",
       "      <td>2024.05.23</td>\n",
       "      <td>상황별 생활영어 1편 듣고 또 듣습니다. 연수 내용이 알차서…</td>\n",
       "      <td>어학</td>\n",
       "      <td>40000</td>\n",
       "      <td>전체</td>\n",
       "    </tr>\n",
       "    <tr>\n",
       "      <th>41</th>\n",
       "      <td>하루 20분, 상황별 생활영어회화 2</td>\n",
       "      <td>15</td>\n",
       "      <td>5</td>\n",
       "      <td>2024.04.11</td>\n",
       "      <td>실생활에서 활용 가능한 영어회화를 쉽고 재미있게 공부할 수 …</td>\n",
       "      <td>어학</td>\n",
       "      <td>40000</td>\n",
       "      <td>전체</td>\n",
       "    </tr>\n",
       "    <tr>\n",
       "      <th>42</th>\n",
       "      <td>메디컬 콘서트 1탄 - 현대인의 만성 질병</td>\n",
       "      <td>15</td>\n",
       "      <td>5</td>\n",
       "      <td>2024.05.23</td>\n",
       "      <td>나를 잘 돌보는 것의 중요성을 알았어요!</td>\n",
       "      <td>인문교양</td>\n",
       "      <td>40000</td>\n",
       "      <td>전체</td>\n",
       "    </tr>\n",
       "    <tr>\n",
       "      <th>43</th>\n",
       "      <td>온작품 읽기와 그림을 활용한 깊이 있는 수업</td>\n",
       "      <td>15</td>\n",
       "      <td>5</td>\n",
       "      <td>2024.05.23</td>\n",
       "      <td>온작품 읽기 활용수업에 자신감이 생겼어요!</td>\n",
       "      <td>교과수업</td>\n",
       "      <td>40000</td>\n",
       "      <td>전체</td>\n",
       "    </tr>\n",
       "    <tr>\n",
       "      <th>44</th>\n",
       "      <td>초등 저학년 남학생 탐구생활</td>\n",
       "      <td>15</td>\n",
       "      <td>5</td>\n",
       "      <td>2024.05.23</td>\n",
       "      <td>이제 남학생을 더 잘 이해하고 그에 맞게 지도할 수 있을 것…</td>\n",
       "      <td>생활지도</td>\n",
       "      <td>40000</td>\n",
       "      <td>유치 초등</td>\n",
       "    </tr>\n",
       "    <tr>\n",
       "      <th>45</th>\n",
       "      <td>초등 저학년 남학생 탐구생활</td>\n",
       "      <td>15</td>\n",
       "      <td>5</td>\n",
       "      <td>2024.04.17</td>\n",
       "      <td>저학년 학생들의 행동과 특성을 이해하는데 도움이 되었습니다.</td>\n",
       "      <td>생활지도</td>\n",
       "      <td>40000</td>\n",
       "      <td>유치 초등</td>\n",
       "    </tr>\n",
       "    <tr>\n",
       "      <th>46</th>\n",
       "      <td>교사 자존감 수업</td>\n",
       "      <td>15</td>\n",
       "      <td>5</td>\n",
       "      <td>2024.05.23</td>\n",
       "      <td>자존감이 떨어질 때마다 복습해서 듣고 싶은 강의였습니다. 교…</td>\n",
       "      <td>자기계발</td>\n",
       "      <td>40000</td>\n",
       "      <td>전체</td>\n",
       "    </tr>\n",
       "    <tr>\n",
       "      <th>58</th>\n",
       "      <td>하루 20분, 상황별 생활영어회화</td>\n",
       "      <td>15</td>\n",
       "      <td>5</td>\n",
       "      <td>2024.05.20</td>\n",
       "      <td>선생님 감사합니다. 생활영어 실력이 쑥쑥 자라나는 너무 좋은…</td>\n",
       "      <td>어학</td>\n",
       "      <td>40000</td>\n",
       "      <td>전체</td>\n",
       "    </tr>\n",
       "    <tr>\n",
       "      <th>59</th>\n",
       "      <td>하루 20분, 상황별 생활영어회화</td>\n",
       "      <td>15</td>\n",
       "      <td>5</td>\n",
       "      <td>2024.04.05</td>\n",
       "      <td>국외 여행지에서 서툰 영어 표현을 보완하고자 본 연수를 선택…</td>\n",
       "      <td>어학</td>\n",
       "      <td>40000</td>\n",
       "      <td>전체</td>\n",
       "    </tr>\n",
       "    <tr>\n",
       "      <th>98</th>\n",
       "      <td>기초영어 회화 핵심표현 Real Speaking 2</td>\n",
       "      <td>15</td>\n",
       "      <td>5</td>\n",
       "      <td>2024.05.08</td>\n",
       "      <td>영어를 놓은지가 꽤 되었는데...연수받느라 힘들었지만 유익햇…</td>\n",
       "      <td>어학</td>\n",
       "      <td>40000</td>\n",
       "      <td>전체</td>\n",
       "    </tr>\n",
       "    <tr>\n",
       "      <th>99</th>\n",
       "      <td>파워포인트로 끝내는 교실 콘텐츠 창작 비법 노트</td>\n",
       "      <td>15</td>\n",
       "      <td>5</td>\n",
       "      <td>2024.05.08</td>\n",
       "      <td>다양한 자료들을 파워포인트로도 만들 수 있음을 이 연수를 통…</td>\n",
       "      <td>ICT정보화</td>\n",
       "      <td>40000</td>\n",
       "      <td>전체</td>\n",
       "    </tr>\n",
       "    <tr>\n",
       "      <th>100</th>\n",
       "      <td>파워포인트로 끝내는 교실 콘텐츠 창작 비법 노트</td>\n",
       "      <td>15</td>\n",
       "      <td>5</td>\n",
       "      <td>2024.04.21</td>\n",
       "      <td>수업할 때 파워포인트 활용을 하는데, 연수 듣고 보니 파워포…</td>\n",
       "      <td>ICT정보화</td>\n",
       "      <td>40000</td>\n",
       "      <td>전체</td>\n",
       "    </tr>\n",
       "    <tr>\n",
       "      <th>107</th>\n",
       "      <td>인성교육 연구보고서 작성법</td>\n",
       "      <td>15</td>\n",
       "      <td>5</td>\n",
       "      <td>2024.05.01</td>\n",
       "      <td>연구보고서를 어떻게 써야하고 진행해야 하는지 처음 시도를 두…</td>\n",
       "      <td>자기계발</td>\n",
       "      <td>40000</td>\n",
       "      <td>유치 초등 중등 교육전문직</td>\n",
       "    </tr>\n",
       "    <tr>\n",
       "      <th>108</th>\n",
       "      <td>인성교육 연구보고서 작성법</td>\n",
       "      <td>15</td>\n",
       "      <td>5</td>\n",
       "      <td>2024.04.16</td>\n",
       "      <td>아무도 알려주지 않는 세밀한 것까지 알려주는 강의 좋았습니다…</td>\n",
       "      <td>자기계발</td>\n",
       "      <td>40000</td>\n",
       "      <td>유치 초등 중등 교육전문직</td>\n",
       "    </tr>\n",
       "    <tr>\n",
       "      <th>109</th>\n",
       "      <td>하루 20분, 컬쳐 리스닝 픽업</td>\n",
       "      <td>15</td>\n",
       "      <td>3</td>\n",
       "      <td>2024.04.30</td>\n",
       "      <td>기본적으로 리스닝이 꽤 잘 되는 상태의 사람이 우리나라 문화…</td>\n",
       "      <td>어학</td>\n",
       "      <td>40000</td>\n",
       "      <td>전체</td>\n",
       "    </tr>\n",
       "    <tr>\n",
       "      <th>110</th>\n",
       "      <td>하루 20분, 컬쳐 리스닝 픽업</td>\n",
       "      <td>15</td>\n",
       "      <td>1</td>\n",
       "      <td>2024.04.23</td>\n",
       "      <td>좋은 후기들이 많지만 솔직히 이해되지 않네요.\\n교안도 없고…</td>\n",
       "      <td>어학</td>\n",
       "      <td>40000</td>\n",
       "      <td>전체</td>\n",
       "    </tr>\n",
       "    <tr>\n",
       "      <th>112</th>\n",
       "      <td>재테크보다 중요한 나만의 재무설계</td>\n",
       "      <td>15</td>\n",
       "      <td>5</td>\n",
       "      <td>2024.04.29</td>\n",
       "      <td>인생에 꼭 필요한 재무설계! \\n다양한 개념들을 알 수 있어…</td>\n",
       "      <td>자기계발</td>\n",
       "      <td>40000</td>\n",
       "      <td>전체</td>\n",
       "    </tr>\n",
       "    <tr>\n",
       "      <th>113</th>\n",
       "      <td>재테크보다 중요한 나만의 재무설계</td>\n",
       "      <td>15</td>\n",
       "      <td>5</td>\n",
       "      <td>2024.04.15</td>\n",
       "      <td>교과서 자료 받으러 들어왔다가 \\n우연히 연수가 있다는 걸 …</td>\n",
       "      <td>자기계발</td>\n",
       "      <td>40000</td>\n",
       "      <td>전체</td>\n",
       "    </tr>\n",
       "    <tr>\n",
       "      <th>114</th>\n",
       "      <td>메디컬 콘서트 2탄 - 여성 건강 프로젝트</td>\n",
       "      <td>15</td>\n",
       "      <td>5</td>\n",
       "      <td>2024.04.29</td>\n",
       "      <td>여성이 겪는 다양한 건강상의 상식과 정보를 알게 되어 매우 …</td>\n",
       "      <td>인문교양</td>\n",
       "      <td>40000</td>\n",
       "      <td>전체</td>\n",
       "    </tr>\n",
       "    <tr>\n",
       "      <th>116</th>\n",
       "      <td>기후 변화 이야기, 교실에 오다</td>\n",
       "      <td>15</td>\n",
       "      <td>5</td>\n",
       "      <td>2024.04.25</td>\n",
       "      <td>아이들과 함께 환경프로젝트를 운영하고 있는데 큰 도움을 받았…</td>\n",
       "      <td>교과수업</td>\n",
       "      <td>40000</td>\n",
       "      <td>전체</td>\n",
       "    </tr>\n",
       "    <tr>\n",
       "      <th>117</th>\n",
       "      <td>기후 변화 이야기, 교실에 오다</td>\n",
       "      <td>15</td>\n",
       "      <td>5</td>\n",
       "      <td>2024.04.23</td>\n",
       "      <td>생태환경 교육에 활용하면 좋을 것 같습니다</td>\n",
       "      <td>교과수업</td>\n",
       "      <td>40000</td>\n",
       "      <td>전체</td>\n",
       "    </tr>\n",
       "    <tr>\n",
       "      <th>118</th>\n",
       "      <td>기후 변화 이야기, 교실에 오다</td>\n",
       "      <td>15</td>\n",
       "      <td>5</td>\n",
       "      <td>2024.04.19</td>\n",
       "      <td>환경교육 업무 담당자로서 연수를 들었는데, 유익하고 많은 생…</td>\n",
       "      <td>교과수업</td>\n",
       "      <td>40000</td>\n",
       "      <td>전체</td>\n",
       "    </tr>\n",
       "    <tr>\n",
       "      <th>119</th>\n",
       "      <td>기후 변화 이야기, 교실에 오다</td>\n",
       "      <td>15</td>\n",
       "      <td>5</td>\n",
       "      <td>2024.04.18</td>\n",
       "      <td>올해 학교에서 생태교육을 주제로 전문적학습공동체를 운영하여 …</td>\n",
       "      <td>교과수업</td>\n",
       "      <td>40000</td>\n",
       "      <td>전체</td>\n",
       "    </tr>\n",
       "    <tr>\n",
       "      <th>120</th>\n",
       "      <td>기후 변화 이야기, 교실에 오다</td>\n",
       "      <td>15</td>\n",
       "      <td>5</td>\n",
       "      <td>2024.04.15</td>\n",
       "      <td>교사 뿐만 아니라 학생들도 같이 보면 좋을 자료였던 것 같습…</td>\n",
       "      <td>교과수업</td>\n",
       "      <td>40000</td>\n",
       "      <td>전체</td>\n",
       "    </tr>\n",
       "    <tr>\n",
       "      <th>129</th>\n",
       "      <td>통통한 과학이야기 1</td>\n",
       "      <td>15</td>\n",
       "      <td>5</td>\n",
       "      <td>2024.03.29</td>\n",
       "      <td>과학의 역사와 많은 과학자들.. 그리고 그들의 재미난 연구를…</td>\n",
       "      <td>자기계발</td>\n",
       "      <td>40000</td>\n",
       "      <td>전체</td>\n",
       "    </tr>\n",
       "    <tr>\n",
       "      <th>130</th>\n",
       "      <td>아이의 마음을 읽는 다양한 미술치료 기법</td>\n",
       "      <td>15</td>\n",
       "      <td>5</td>\n",
       "      <td>2024.03.29</td>\n",
       "      <td>제가 작년부터 아이들과의 관계, 상담, 치료에 굉장히 관심이…</td>\n",
       "      <td>자기계발</td>\n",
       "      <td>40000</td>\n",
       "      <td>유치 초등 중등</td>\n",
       "    </tr>\n",
       "    <tr>\n",
       "      <th>133</th>\n",
       "      <td>학급경영, 수업, 업무 - 노션으로 한 방에 해결하기</td>\n",
       "      <td>15</td>\n",
       "      <td>3</td>\n",
       "      <td>2024.01.23</td>\n",
       "      <td>가을에 연수를 듣고, 간단한 기능만 활용했다가 아무래도 학기…</td>\n",
       "      <td>ICT정보화</td>\n",
       "      <td>40000</td>\n",
       "      <td>초등 중등 교육전문직 일반</td>\n",
       "    </tr>\n",
       "    <tr>\n",
       "      <th>134</th>\n",
       "      <td>학급경영, 수업, 업무 - 노션으로 한 방에 해결하기</td>\n",
       "      <td>15</td>\n",
       "      <td>4</td>\n",
       "      <td>2024.01.10</td>\n",
       "      <td>노션이라는 새로운 도구를 알게 되어서 좋았습니다. 노션에 익…</td>\n",
       "      <td>ICT정보화</td>\n",
       "      <td>40000</td>\n",
       "      <td>초등 중등 교육전문직 일반</td>\n",
       "    </tr>\n",
       "    <tr>\n",
       "      <th>135</th>\n",
       "      <td>학급경영, 수업, 업무 - 노션으로 한 방에 해결하기</td>\n",
       "      <td>15</td>\n",
       "      <td>4</td>\n",
       "      <td>2023.12.30</td>\n",
       "      <td>노션이 다양한 방면에서 활용이 많이 되고, 실제 업무에도 적…</td>\n",
       "      <td>ICT정보화</td>\n",
       "      <td>40000</td>\n",
       "      <td>초등 중등 교육전문직 일반</td>\n",
       "    </tr>\n",
       "    <tr>\n",
       "      <th>136</th>\n",
       "      <td>학급경영, 수업, 업무 - 노션으로 한 방에 해결하기</td>\n",
       "      <td>15</td>\n",
       "      <td>5</td>\n",
       "      <td>2023.12.26</td>\n",
       "      <td>목소리가 편안하고 설명이 명료해서 듣기 편했어요.\\n두 선생…</td>\n",
       "      <td>ICT정보화</td>\n",
       "      <td>40000</td>\n",
       "      <td>초등 중등 교육전문직 일반</td>\n",
       "    </tr>\n",
       "    <tr>\n",
       "      <th>137</th>\n",
       "      <td>학급경영, 수업, 업무 - 노션으로 한 방에 해결하기</td>\n",
       "      <td>15</td>\n",
       "      <td>4</td>\n",
       "      <td>2023.12.25</td>\n",
       "      <td>너무나 많은 앱들이 있어 사용하기가 버거웠는데, 이제 노션으…</td>\n",
       "      <td>ICT정보화</td>\n",
       "      <td>40000</td>\n",
       "      <td>초등 중등 교육전문직 일반</td>\n",
       "    </tr>\n",
       "    <tr>\n",
       "      <th>138</th>\n",
       "      <td>학급경영, 수업, 업무 - 노션으로 한 방에 해결하기</td>\n",
       "      <td>15</td>\n",
       "      <td>5</td>\n",
       "      <td>2023.12.25</td>\n",
       "      <td>업무에도 하나씩 활용해 보니 효율성이 좋아졌습니다.</td>\n",
       "      <td>ICT정보화</td>\n",
       "      <td>40000</td>\n",
       "      <td>초등 중등 교육전문직 일반</td>\n",
       "    </tr>\n",
       "    <tr>\n",
       "      <th>140</th>\n",
       "      <td>독립운동 현장읽기 - 의병전쟁</td>\n",
       "      <td>15</td>\n",
       "      <td>5</td>\n",
       "      <td>2023.12.24</td>\n",
       "      <td>너무 많은 희생이 있었는데 그동안 많은 관심을 받지 못한 부…</td>\n",
       "      <td>자기계발</td>\n",
       "      <td>0</td>\n",
       "      <td>전체</td>\n",
       "    </tr>\n",
       "  </tbody>\n",
       "</table>\n",
       "</div>"
      ],
      "text/plain": [
       "                                제목  시간 별점          날짜  \\\n",
       "0    과학저술가 정인경, 이지유와 함께하는 신나는 과학수다  15  5  2024.06.16   \n",
       "1         쉽게 배우고 활용하는 교실 속 손그림 그리기  15  5  2024.06.15   \n",
       "2         쉽게 배우고 활용하는 교실 속 손그림 그리기  15  5  2024.05.09   \n",
       "3         쉽게 배우고 활용하는 교실 속 손그림 그리기  15  5  2024.04.25   \n",
       "4         쉽게 배우고 활용하는 교실 속 손그림 그리기  15  5  2024.04.23   \n",
       "5         쉽게 배우고 활용하는 교실 속 손그림 그리기  15  5  2024.01.17   \n",
       "6         쉽게 배우고 활용하는 교실 속 손그림 그리기  15  4  2024.01.13   \n",
       "10               교사를 위한 교실 밖 여행인문학  15  5  2024.06.15   \n",
       "11               교사를 위한 교실 밖 여행인문학  15  5  2024.06.10   \n",
       "12               교사를 위한 교실 밖 여행인문학  15  4  2023.12.26   \n",
       "13                     초등 고학년 탐구생활  15  5  2024.06.15   \n",
       "14                     초등 고학년 탐구생활  15  5  2024.05.14   \n",
       "19                   왕초보를 위한 캘리그래피  15  5  2024.06.10   \n",
       "20                   왕초보를 위한 캘리그래피  15  4  2024.02.22   \n",
       "25                     정훈쌤의 뚝딱 칼림바  15  5  2024.06.04   \n",
       "26              이구동성, 마음을 다루는 미술활동  15  5  2024.06.04   \n",
       "37                        기후변화 이야기  15  5  2024.05.27   \n",
       "38    기초영어 회화 핵심표현 Real Speaking 1  15  5  2024.05.27   \n",
       "39       당장 따라 할 수 있는 사계절 학급운영+이벤트  15  5  2024.05.25   \n",
       "40            하루 20분, 상황별 생활영어회화 2  15  5  2024.05.23   \n",
       "41            하루 20분, 상황별 생활영어회화 2  15  5  2024.04.11   \n",
       "42         메디컬 콘서트 1탄 - 현대인의 만성 질병  15  5  2024.05.23   \n",
       "43        온작품 읽기와 그림을 활용한 깊이 있는 수업  15  5  2024.05.23   \n",
       "44                 초등 저학년 남학생 탐구생활  15  5  2024.05.23   \n",
       "45                 초등 저학년 남학생 탐구생활  15  5  2024.04.17   \n",
       "46                       교사 자존감 수업  15  5  2024.05.23   \n",
       "58              하루 20분, 상황별 생활영어회화  15  5  2024.05.20   \n",
       "59              하루 20분, 상황별 생활영어회화  15  5  2024.04.05   \n",
       "98    기초영어 회화 핵심표현 Real Speaking 2  15  5  2024.05.08   \n",
       "99      파워포인트로 끝내는 교실 콘텐츠 창작 비법 노트  15  5  2024.05.08   \n",
       "100     파워포인트로 끝내는 교실 콘텐츠 창작 비법 노트  15  5  2024.04.21   \n",
       "107                 인성교육 연구보고서 작성법  15  5  2024.05.01   \n",
       "108                 인성교육 연구보고서 작성법  15  5  2024.04.16   \n",
       "109              하루 20분, 컬쳐 리스닝 픽업  15  3  2024.04.30   \n",
       "110              하루 20분, 컬쳐 리스닝 픽업  15  1  2024.04.23   \n",
       "112             재테크보다 중요한 나만의 재무설계  15  5  2024.04.29   \n",
       "113             재테크보다 중요한 나만의 재무설계  15  5  2024.04.15   \n",
       "114        메디컬 콘서트 2탄 - 여성 건강 프로젝트  15  5  2024.04.29   \n",
       "116              기후 변화 이야기, 교실에 오다  15  5  2024.04.25   \n",
       "117              기후 변화 이야기, 교실에 오다  15  5  2024.04.23   \n",
       "118              기후 변화 이야기, 교실에 오다  15  5  2024.04.19   \n",
       "119              기후 변화 이야기, 교실에 오다  15  5  2024.04.18   \n",
       "120              기후 변화 이야기, 교실에 오다  15  5  2024.04.15   \n",
       "129                    통통한 과학이야기 1  15  5  2024.03.29   \n",
       "130         아이의 마음을 읽는 다양한 미술치료 기법  15  5  2024.03.29   \n",
       "133  학급경영, 수업, 업무 - 노션으로 한 방에 해결하기  15  3  2024.01.23   \n",
       "134  학급경영, 수업, 업무 - 노션으로 한 방에 해결하기  15  4  2024.01.10   \n",
       "135  학급경영, 수업, 업무 - 노션으로 한 방에 해결하기  15  4  2023.12.30   \n",
       "136  학급경영, 수업, 업무 - 노션으로 한 방에 해결하기  15  5  2023.12.26   \n",
       "137  학급경영, 수업, 업무 - 노션으로 한 방에 해결하기  15  4  2023.12.25   \n",
       "138  학급경영, 수업, 업무 - 노션으로 한 방에 해결하기  15  5  2023.12.25   \n",
       "140               독립운동 현장읽기 - 의병전쟁  15  5  2023.12.24   \n",
       "\n",
       "                                      본문   연수 분야     가격              대상  \n",
       "0     가벼운 대화로도 깊이 있게 생각할 거리를 주는 연수였습니다.…    자기계발  40000              전체  \n",
       "1     손으로 끄적거리는 걸 좋아하는 편이지만,\\n안타깝게도 예술적…  ICT정보화  40000              전체  \n",
       "2     늘 그림을 잘 그리고 싶었던 시절이 오래전부터 있었습니다. …  ICT정보화  40000              전체  \n",
       "3     활동지를 만들거나, 게시판을 꾸밀 때 직접 그린 손그림으로 …  ICT정보화  40000              전체  \n",
       "4     제목과 같이 정말 쉽게 배우고 활용할 수 있는 손그림 수업이…  ICT정보화  40000              전체  \n",
       "5     칠판에 판서를 할때 글보다 그림이 더 효과적이고 특히 사회 …  ICT정보화  40000              전체  \n",
       "6     쉽고 재미있게 손 그림을 그릴 수 있도록 도움이 되는 연수였…  ICT정보화  40000              전체  \n",
       "10    여행을 잘 다니지 않는 방안퉁수형 인간인지라 여행지를 보면 …    인문교양  40000              전체  \n",
       "11    저는 여행에 관심이 많은 교사입니다. 학기중 바쁜 일정으로 …    인문교양  40000              전체  \n",
       "12    여행은 답답한 일상에서 오는 스트레스를 해소해 줍니다. 그러…    인문교양  40000              전체  \n",
       "13    10여년 만에 하는 고학년 두렵기만 했습니다. 지금은 어느 …    생활지도  40000              초등  \n",
       "14    고학년 학생지도에 실질적인 도움이 되는 내용으로만 구성되어 …    생활지도  40000              초등  \n",
       "19    미술시간에 아이들과 캘리그라피 해봤었는데,이렇게 자세히 알려…    자기계발  40000              전체  \n",
       "20    화면에서 같이 배우시는 선생님과 함께 천천히 따라하고 열심히…    자기계발  40000              전체  \n",
       "25    제가 제작년 음악선생님과 칼림바 동아리를 하면서 이 악기의 …    자기계발  40000              전체  \n",
       "26     활동 내용의 구체적인 사례가 도움이 많이 되었습니다. 다양…    자기계발  40000              전체  \n",
       "37    알면 알수록 위기가 느껴지면서 불안감이 높아지는 내용입니다.…    자기계발  40000              전체  \n",
       "38   연수가 아주 유익합니다. 티셀파 연수원 영어연수들을 들으며\\n…      어학  40000              전체  \n",
       "39      학급경영의 여러 노하우를 전수받아 당장해보고 싶어졌어요~~    학급경영  40000              전체  \n",
       "40    상황별 생활영어 1편 듣고 또 듣습니다. 연수 내용이 알차서…      어학  40000              전체  \n",
       "41    실생활에서 활용 가능한 영어회화를 쉽고 재미있게 공부할 수 …      어학  40000              전체  \n",
       "42                나를 잘 돌보는 것의 중요성을 알았어요!    인문교양  40000              전체  \n",
       "43               온작품 읽기 활용수업에 자신감이 생겼어요!    교과수업  40000              전체  \n",
       "44    이제 남학생을 더 잘 이해하고 그에 맞게 지도할 수 있을 것…    생활지도  40000           유치 초등  \n",
       "45     저학년 학생들의 행동과 특성을 이해하는데 도움이 되었습니다.    생활지도  40000           유치 초등  \n",
       "46    자존감이 떨어질 때마다 복습해서 듣고 싶은 강의였습니다. 교…    자기계발  40000              전체  \n",
       "58    선생님 감사합니다. 생활영어 실력이 쑥쑥 자라나는 너무 좋은…      어학  40000              전체  \n",
       "59    국외 여행지에서 서툰 영어 표현을 보완하고자 본 연수를 선택…      어학  40000              전체  \n",
       "98    영어를 놓은지가 꽤 되었는데...연수받느라 힘들었지만 유익햇…      어학  40000              전체  \n",
       "99    다양한 자료들을 파워포인트로도 만들 수 있음을 이 연수를 통…  ICT정보화  40000              전체  \n",
       "100   수업할 때 파워포인트 활용을 하는데, 연수 듣고 보니 파워포…  ICT정보화  40000              전체  \n",
       "107   연구보고서를 어떻게 써야하고 진행해야 하는지 처음 시도를 두…    자기계발  40000  유치 초등 중등 교육전문직  \n",
       "108   아무도 알려주지 않는 세밀한 것까지 알려주는 강의 좋았습니다…    자기계발  40000  유치 초등 중등 교육전문직  \n",
       "109   기본적으로 리스닝이 꽤 잘 되는 상태의 사람이 우리나라 문화…      어학  40000              전체  \n",
       "110   좋은 후기들이 많지만 솔직히 이해되지 않네요.\\n교안도 없고…      어학  40000              전체  \n",
       "112   인생에 꼭 필요한 재무설계! \\n다양한 개념들을 알 수 있어…    자기계발  40000              전체  \n",
       "113   교과서 자료 받으러 들어왔다가 \\n우연히 연수가 있다는 걸 …    자기계발  40000              전체  \n",
       "114   여성이 겪는 다양한 건강상의 상식과 정보를 알게 되어 매우 …    인문교양  40000              전체  \n",
       "116   아이들과 함께 환경프로젝트를 운영하고 있는데 큰 도움을 받았…    교과수업  40000              전체  \n",
       "117              생태환경 교육에 활용하면 좋을 것 같습니다    교과수업  40000              전체  \n",
       "118   환경교육 업무 담당자로서 연수를 들었는데, 유익하고 많은 생…    교과수업  40000              전체  \n",
       "119   올해 학교에서 생태교육을 주제로 전문적학습공동체를 운영하여 …    교과수업  40000              전체  \n",
       "120   교사 뿐만 아니라 학생들도 같이 보면 좋을 자료였던 것 같습…    교과수업  40000              전체  \n",
       "129   과학의 역사와 많은 과학자들.. 그리고 그들의 재미난 연구를…    자기계발  40000              전체  \n",
       "130   제가 작년부터 아이들과의 관계, 상담, 치료에 굉장히 관심이…    자기계발  40000        유치 초등 중등  \n",
       "133   가을에 연수를 듣고, 간단한 기능만 활용했다가 아무래도 학기…  ICT정보화  40000  초등 중등 교육전문직 일반  \n",
       "134   노션이라는 새로운 도구를 알게 되어서 좋았습니다. 노션에 익…  ICT정보화  40000  초등 중등 교육전문직 일반  \n",
       "135   노션이 다양한 방면에서 활용이 많이 되고, 실제 업무에도 적…  ICT정보화  40000  초등 중등 교육전문직 일반  \n",
       "136   목소리가 편안하고 설명이 명료해서 듣기 편했어요.\\n두 선생…  ICT정보화  40000  초등 중등 교육전문직 일반  \n",
       "137   너무나 많은 앱들이 있어 사용하기가 버거웠는데, 이제 노션으…  ICT정보화  40000  초등 중등 교육전문직 일반  \n",
       "138         업무에도 하나씩 활용해 보니 효율성이 좋아졌습니다.  ICT정보화  40000  초등 중등 교육전문직 일반  \n",
       "140   너무 많은 희생이 있었는데 그동안 많은 관심을 받지 못한 부…    자기계발      0              전체  "
      ]
     },
     "execution_count": 36,
     "metadata": {},
     "output_type": "execute_result"
    }
   ],
   "source": [
    "time_15 = fin_res[fin_res['시간'] == '15']\n",
    "time_15"
   ]
  },
  {
   "cell_type": "code",
   "execution_count": 40,
   "id": "1d7b6796-cf70-424e-9596-26cedf077e1a",
   "metadata": {},
   "outputs": [
    {
     "data": {
      "text/html": [
       "<div>\n",
       "<style scoped>\n",
       "    .dataframe tbody tr th:only-of-type {\n",
       "        vertical-align: middle;\n",
       "    }\n",
       "\n",
       "    .dataframe tbody tr th {\n",
       "        vertical-align: top;\n",
       "    }\n",
       "\n",
       "    .dataframe thead th {\n",
       "        text-align: right;\n",
       "    }\n",
       "</style>\n",
       "<table border=\"1\" class=\"dataframe\">\n",
       "  <thead>\n",
       "    <tr style=\"text-align: right;\">\n",
       "      <th></th>\n",
       "      <th>제목</th>\n",
       "      <th>시간</th>\n",
       "      <th>별점</th>\n",
       "      <th>날짜</th>\n",
       "      <th>본문</th>\n",
       "      <th>연수 분야</th>\n",
       "      <th>대상</th>\n",
       "    </tr>\n",
       "    <tr>\n",
       "      <th>가격</th>\n",
       "      <th></th>\n",
       "      <th></th>\n",
       "      <th></th>\n",
       "      <th></th>\n",
       "      <th></th>\n",
       "      <th></th>\n",
       "      <th></th>\n",
       "    </tr>\n",
       "  </thead>\n",
       "  <tbody>\n",
       "    <tr>\n",
       "      <th>0</th>\n",
       "      <td>1</td>\n",
       "      <td>1</td>\n",
       "      <td>1</td>\n",
       "      <td>1</td>\n",
       "      <td>1</td>\n",
       "      <td>1</td>\n",
       "      <td>1</td>\n",
       "    </tr>\n",
       "    <tr>\n",
       "      <th>40000</th>\n",
       "      <td>51</td>\n",
       "      <td>51</td>\n",
       "      <td>51</td>\n",
       "      <td>51</td>\n",
       "      <td>51</td>\n",
       "      <td>51</td>\n",
       "      <td>51</td>\n",
       "    </tr>\n",
       "  </tbody>\n",
       "</table>\n",
       "</div>"
      ],
      "text/plain": [
       "       제목  시간  별점  날짜  본문  연수 분야  대상\n",
       "가격                                  \n",
       "0       1   1   1   1   1      1   1\n",
       "40000  51  51  51  51  51     51  51"
      ]
     },
     "execution_count": 40,
     "metadata": {},
     "output_type": "execute_result"
    }
   ],
   "source": [
    "time_15_count = time_15.groupby('가격').count()\n",
    "time_15_count"
   ]
  },
  {
   "cell_type": "code",
   "execution_count": 41,
   "id": "372e0903",
   "metadata": {},
   "outputs": [
    {
     "data": {
      "application/vnd.plotly.v1+json": {
       "config": {
        "plotlyServerURL": "https://plot.ly"
       },
       "data": [
        {
         "domain": {
          "x": [
           0,
           1
          ],
          "y": [
           0,
           1
          ]
         },
         "hovertemplate": "label=%{label}<br>value=%{value}<extra></extra>",
         "labels": [
          "0",
          "40000"
         ],
         "legendgroup": "",
         "name": "",
         "showlegend": true,
         "type": "pie",
         "values": [
          1,
          51
         ]
        }
       ],
       "layout": {
        "legend": {
         "tracegroupgap": 0
        },
        "template": {
         "data": {
          "bar": [
           {
            "error_x": {
             "color": "#2a3f5f"
            },
            "error_y": {
             "color": "#2a3f5f"
            },
            "marker": {
             "line": {
              "color": "#E5ECF6",
              "width": 0.5
             },
             "pattern": {
              "fillmode": "overlay",
              "size": 10,
              "solidity": 0.2
             }
            },
            "type": "bar"
           }
          ],
          "barpolar": [
           {
            "marker": {
             "line": {
              "color": "#E5ECF6",
              "width": 0.5
             },
             "pattern": {
              "fillmode": "overlay",
              "size": 10,
              "solidity": 0.2
             }
            },
            "type": "barpolar"
           }
          ],
          "carpet": [
           {
            "aaxis": {
             "endlinecolor": "#2a3f5f",
             "gridcolor": "white",
             "linecolor": "white",
             "minorgridcolor": "white",
             "startlinecolor": "#2a3f5f"
            },
            "baxis": {
             "endlinecolor": "#2a3f5f",
             "gridcolor": "white",
             "linecolor": "white",
             "minorgridcolor": "white",
             "startlinecolor": "#2a3f5f"
            },
            "type": "carpet"
           }
          ],
          "choropleth": [
           {
            "colorbar": {
             "outlinewidth": 0,
             "ticks": ""
            },
            "type": "choropleth"
           }
          ],
          "contour": [
           {
            "colorbar": {
             "outlinewidth": 0,
             "ticks": ""
            },
            "colorscale": [
             [
              0,
              "#0d0887"
             ],
             [
              0.1111111111111111,
              "#46039f"
             ],
             [
              0.2222222222222222,
              "#7201a8"
             ],
             [
              0.3333333333333333,
              "#9c179e"
             ],
             [
              0.4444444444444444,
              "#bd3786"
             ],
             [
              0.5555555555555556,
              "#d8576b"
             ],
             [
              0.6666666666666666,
              "#ed7953"
             ],
             [
              0.7777777777777778,
              "#fb9f3a"
             ],
             [
              0.8888888888888888,
              "#fdca26"
             ],
             [
              1,
              "#f0f921"
             ]
            ],
            "type": "contour"
           }
          ],
          "contourcarpet": [
           {
            "colorbar": {
             "outlinewidth": 0,
             "ticks": ""
            },
            "type": "contourcarpet"
           }
          ],
          "heatmap": [
           {
            "colorbar": {
             "outlinewidth": 0,
             "ticks": ""
            },
            "colorscale": [
             [
              0,
              "#0d0887"
             ],
             [
              0.1111111111111111,
              "#46039f"
             ],
             [
              0.2222222222222222,
              "#7201a8"
             ],
             [
              0.3333333333333333,
              "#9c179e"
             ],
             [
              0.4444444444444444,
              "#bd3786"
             ],
             [
              0.5555555555555556,
              "#d8576b"
             ],
             [
              0.6666666666666666,
              "#ed7953"
             ],
             [
              0.7777777777777778,
              "#fb9f3a"
             ],
             [
              0.8888888888888888,
              "#fdca26"
             ],
             [
              1,
              "#f0f921"
             ]
            ],
            "type": "heatmap"
           }
          ],
          "heatmapgl": [
           {
            "colorbar": {
             "outlinewidth": 0,
             "ticks": ""
            },
            "colorscale": [
             [
              0,
              "#0d0887"
             ],
             [
              0.1111111111111111,
              "#46039f"
             ],
             [
              0.2222222222222222,
              "#7201a8"
             ],
             [
              0.3333333333333333,
              "#9c179e"
             ],
             [
              0.4444444444444444,
              "#bd3786"
             ],
             [
              0.5555555555555556,
              "#d8576b"
             ],
             [
              0.6666666666666666,
              "#ed7953"
             ],
             [
              0.7777777777777778,
              "#fb9f3a"
             ],
             [
              0.8888888888888888,
              "#fdca26"
             ],
             [
              1,
              "#f0f921"
             ]
            ],
            "type": "heatmapgl"
           }
          ],
          "histogram": [
           {
            "marker": {
             "pattern": {
              "fillmode": "overlay",
              "size": 10,
              "solidity": 0.2
             }
            },
            "type": "histogram"
           }
          ],
          "histogram2d": [
           {
            "colorbar": {
             "outlinewidth": 0,
             "ticks": ""
            },
            "colorscale": [
             [
              0,
              "#0d0887"
             ],
             [
              0.1111111111111111,
              "#46039f"
             ],
             [
              0.2222222222222222,
              "#7201a8"
             ],
             [
              0.3333333333333333,
              "#9c179e"
             ],
             [
              0.4444444444444444,
              "#bd3786"
             ],
             [
              0.5555555555555556,
              "#d8576b"
             ],
             [
              0.6666666666666666,
              "#ed7953"
             ],
             [
              0.7777777777777778,
              "#fb9f3a"
             ],
             [
              0.8888888888888888,
              "#fdca26"
             ],
             [
              1,
              "#f0f921"
             ]
            ],
            "type": "histogram2d"
           }
          ],
          "histogram2dcontour": [
           {
            "colorbar": {
             "outlinewidth": 0,
             "ticks": ""
            },
            "colorscale": [
             [
              0,
              "#0d0887"
             ],
             [
              0.1111111111111111,
              "#46039f"
             ],
             [
              0.2222222222222222,
              "#7201a8"
             ],
             [
              0.3333333333333333,
              "#9c179e"
             ],
             [
              0.4444444444444444,
              "#bd3786"
             ],
             [
              0.5555555555555556,
              "#d8576b"
             ],
             [
              0.6666666666666666,
              "#ed7953"
             ],
             [
              0.7777777777777778,
              "#fb9f3a"
             ],
             [
              0.8888888888888888,
              "#fdca26"
             ],
             [
              1,
              "#f0f921"
             ]
            ],
            "type": "histogram2dcontour"
           }
          ],
          "mesh3d": [
           {
            "colorbar": {
             "outlinewidth": 0,
             "ticks": ""
            },
            "type": "mesh3d"
           }
          ],
          "parcoords": [
           {
            "line": {
             "colorbar": {
              "outlinewidth": 0,
              "ticks": ""
             }
            },
            "type": "parcoords"
           }
          ],
          "pie": [
           {
            "automargin": true,
            "type": "pie"
           }
          ],
          "scatter": [
           {
            "fillpattern": {
             "fillmode": "overlay",
             "size": 10,
             "solidity": 0.2
            },
            "type": "scatter"
           }
          ],
          "scatter3d": [
           {
            "line": {
             "colorbar": {
              "outlinewidth": 0,
              "ticks": ""
             }
            },
            "marker": {
             "colorbar": {
              "outlinewidth": 0,
              "ticks": ""
             }
            },
            "type": "scatter3d"
           }
          ],
          "scattercarpet": [
           {
            "marker": {
             "colorbar": {
              "outlinewidth": 0,
              "ticks": ""
             }
            },
            "type": "scattercarpet"
           }
          ],
          "scattergeo": [
           {
            "marker": {
             "colorbar": {
              "outlinewidth": 0,
              "ticks": ""
             }
            },
            "type": "scattergeo"
           }
          ],
          "scattergl": [
           {
            "marker": {
             "colorbar": {
              "outlinewidth": 0,
              "ticks": ""
             }
            },
            "type": "scattergl"
           }
          ],
          "scattermapbox": [
           {
            "marker": {
             "colorbar": {
              "outlinewidth": 0,
              "ticks": ""
             }
            },
            "type": "scattermapbox"
           }
          ],
          "scatterpolar": [
           {
            "marker": {
             "colorbar": {
              "outlinewidth": 0,
              "ticks": ""
             }
            },
            "type": "scatterpolar"
           }
          ],
          "scatterpolargl": [
           {
            "marker": {
             "colorbar": {
              "outlinewidth": 0,
              "ticks": ""
             }
            },
            "type": "scatterpolargl"
           }
          ],
          "scatterternary": [
           {
            "marker": {
             "colorbar": {
              "outlinewidth": 0,
              "ticks": ""
             }
            },
            "type": "scatterternary"
           }
          ],
          "surface": [
           {
            "colorbar": {
             "outlinewidth": 0,
             "ticks": ""
            },
            "colorscale": [
             [
              0,
              "#0d0887"
             ],
             [
              0.1111111111111111,
              "#46039f"
             ],
             [
              0.2222222222222222,
              "#7201a8"
             ],
             [
              0.3333333333333333,
              "#9c179e"
             ],
             [
              0.4444444444444444,
              "#bd3786"
             ],
             [
              0.5555555555555556,
              "#d8576b"
             ],
             [
              0.6666666666666666,
              "#ed7953"
             ],
             [
              0.7777777777777778,
              "#fb9f3a"
             ],
             [
              0.8888888888888888,
              "#fdca26"
             ],
             [
              1,
              "#f0f921"
             ]
            ],
            "type": "surface"
           }
          ],
          "table": [
           {
            "cells": {
             "fill": {
              "color": "#EBF0F8"
             },
             "line": {
              "color": "white"
             }
            },
            "header": {
             "fill": {
              "color": "#C8D4E3"
             },
             "line": {
              "color": "white"
             }
            },
            "type": "table"
           }
          ]
         },
         "layout": {
          "annotationdefaults": {
           "arrowcolor": "#2a3f5f",
           "arrowhead": 0,
           "arrowwidth": 1
          },
          "autotypenumbers": "strict",
          "coloraxis": {
           "colorbar": {
            "outlinewidth": 0,
            "ticks": ""
           }
          },
          "colorscale": {
           "diverging": [
            [
             0,
             "#8e0152"
            ],
            [
             0.1,
             "#c51b7d"
            ],
            [
             0.2,
             "#de77ae"
            ],
            [
             0.3,
             "#f1b6da"
            ],
            [
             0.4,
             "#fde0ef"
            ],
            [
             0.5,
             "#f7f7f7"
            ],
            [
             0.6,
             "#e6f5d0"
            ],
            [
             0.7,
             "#b8e186"
            ],
            [
             0.8,
             "#7fbc41"
            ],
            [
             0.9,
             "#4d9221"
            ],
            [
             1,
             "#276419"
            ]
           ],
           "sequential": [
            [
             0,
             "#0d0887"
            ],
            [
             0.1111111111111111,
             "#46039f"
            ],
            [
             0.2222222222222222,
             "#7201a8"
            ],
            [
             0.3333333333333333,
             "#9c179e"
            ],
            [
             0.4444444444444444,
             "#bd3786"
            ],
            [
             0.5555555555555556,
             "#d8576b"
            ],
            [
             0.6666666666666666,
             "#ed7953"
            ],
            [
             0.7777777777777778,
             "#fb9f3a"
            ],
            [
             0.8888888888888888,
             "#fdca26"
            ],
            [
             1,
             "#f0f921"
            ]
           ],
           "sequentialminus": [
            [
             0,
             "#0d0887"
            ],
            [
             0.1111111111111111,
             "#46039f"
            ],
            [
             0.2222222222222222,
             "#7201a8"
            ],
            [
             0.3333333333333333,
             "#9c179e"
            ],
            [
             0.4444444444444444,
             "#bd3786"
            ],
            [
             0.5555555555555556,
             "#d8576b"
            ],
            [
             0.6666666666666666,
             "#ed7953"
            ],
            [
             0.7777777777777778,
             "#fb9f3a"
            ],
            [
             0.8888888888888888,
             "#fdca26"
            ],
            [
             1,
             "#f0f921"
            ]
           ]
          },
          "colorway": [
           "#636efa",
           "#EF553B",
           "#00cc96",
           "#ab63fa",
           "#FFA15A",
           "#19d3f3",
           "#FF6692",
           "#B6E880",
           "#FF97FF",
           "#FECB52"
          ],
          "font": {
           "color": "#2a3f5f"
          },
          "geo": {
           "bgcolor": "white",
           "lakecolor": "white",
           "landcolor": "#E5ECF6",
           "showlakes": true,
           "showland": true,
           "subunitcolor": "white"
          },
          "hoverlabel": {
           "align": "left"
          },
          "hovermode": "closest",
          "mapbox": {
           "style": "light"
          },
          "paper_bgcolor": "white",
          "plot_bgcolor": "#E5ECF6",
          "polar": {
           "angularaxis": {
            "gridcolor": "white",
            "linecolor": "white",
            "ticks": ""
           },
           "bgcolor": "#E5ECF6",
           "radialaxis": {
            "gridcolor": "white",
            "linecolor": "white",
            "ticks": ""
           }
          },
          "scene": {
           "xaxis": {
            "backgroundcolor": "#E5ECF6",
            "gridcolor": "white",
            "gridwidth": 2,
            "linecolor": "white",
            "showbackground": true,
            "ticks": "",
            "zerolinecolor": "white"
           },
           "yaxis": {
            "backgroundcolor": "#E5ECF6",
            "gridcolor": "white",
            "gridwidth": 2,
            "linecolor": "white",
            "showbackground": true,
            "ticks": "",
            "zerolinecolor": "white"
           },
           "zaxis": {
            "backgroundcolor": "#E5ECF6",
            "gridcolor": "white",
            "gridwidth": 2,
            "linecolor": "white",
            "showbackground": true,
            "ticks": "",
            "zerolinecolor": "white"
           }
          },
          "shapedefaults": {
           "line": {
            "color": "#2a3f5f"
           }
          },
          "ternary": {
           "aaxis": {
            "gridcolor": "white",
            "linecolor": "white",
            "ticks": ""
           },
           "baxis": {
            "gridcolor": "white",
            "linecolor": "white",
            "ticks": ""
           },
           "bgcolor": "#E5ECF6",
           "caxis": {
            "gridcolor": "white",
            "linecolor": "white",
            "ticks": ""
           }
          },
          "title": {
           "x": 0.05
          },
          "xaxis": {
           "automargin": true,
           "gridcolor": "white",
           "linecolor": "white",
           "ticks": "",
           "title": {
            "standoff": 15
           },
           "zerolinecolor": "white",
           "zerolinewidth": 2
          },
          "yaxis": {
           "automargin": true,
           "gridcolor": "white",
           "linecolor": "white",
           "ticks": "",
           "title": {
            "standoff": 15
           },
           "zerolinecolor": "white",
           "zerolinewidth": 2
          }
         }
        },
        "title": {
         "text": "T셀파 15차시 가격 점유율"
        }
       }
      },
      "text/html": [
       "<div>                            <div id=\"16e1b604-48fe-4c22-a527-7720134459b4\" class=\"plotly-graph-div\" style=\"height:525px; width:100%;\"></div>            <script type=\"text/javascript\">                require([\"plotly\"], function(Plotly) {                    window.PLOTLYENV=window.PLOTLYENV || {};                                    if (document.getElementById(\"16e1b604-48fe-4c22-a527-7720134459b4\")) {                    Plotly.newPlot(                        \"16e1b604-48fe-4c22-a527-7720134459b4\",                        [{\"domain\":{\"x\":[0.0,1.0],\"y\":[0.0,1.0]},\"hovertemplate\":\"label=%{label}<br>value=%{value}<extra></extra>\",\"labels\":[\"0\",\"40000\"],\"legendgroup\":\"\",\"name\":\"\",\"showlegend\":true,\"values\":[1,51],\"type\":\"pie\"}],                        {\"template\":{\"data\":{\"histogram2dcontour\":[{\"type\":\"histogram2dcontour\",\"colorbar\":{\"outlinewidth\":0,\"ticks\":\"\"},\"colorscale\":[[0.0,\"#0d0887\"],[0.1111111111111111,\"#46039f\"],[0.2222222222222222,\"#7201a8\"],[0.3333333333333333,\"#9c179e\"],[0.4444444444444444,\"#bd3786\"],[0.5555555555555556,\"#d8576b\"],[0.6666666666666666,\"#ed7953\"],[0.7777777777777778,\"#fb9f3a\"],[0.8888888888888888,\"#fdca26\"],[1.0,\"#f0f921\"]]}],\"choropleth\":[{\"type\":\"choropleth\",\"colorbar\":{\"outlinewidth\":0,\"ticks\":\"\"}}],\"histogram2d\":[{\"type\":\"histogram2d\",\"colorbar\":{\"outlinewidth\":0,\"ticks\":\"\"},\"colorscale\":[[0.0,\"#0d0887\"],[0.1111111111111111,\"#46039f\"],[0.2222222222222222,\"#7201a8\"],[0.3333333333333333,\"#9c179e\"],[0.4444444444444444,\"#bd3786\"],[0.5555555555555556,\"#d8576b\"],[0.6666666666666666,\"#ed7953\"],[0.7777777777777778,\"#fb9f3a\"],[0.8888888888888888,\"#fdca26\"],[1.0,\"#f0f921\"]]}],\"heatmap\":[{\"type\":\"heatmap\",\"colorbar\":{\"outlinewidth\":0,\"ticks\":\"\"},\"colorscale\":[[0.0,\"#0d0887\"],[0.1111111111111111,\"#46039f\"],[0.2222222222222222,\"#7201a8\"],[0.3333333333333333,\"#9c179e\"],[0.4444444444444444,\"#bd3786\"],[0.5555555555555556,\"#d8576b\"],[0.6666666666666666,\"#ed7953\"],[0.7777777777777778,\"#fb9f3a\"],[0.8888888888888888,\"#fdca26\"],[1.0,\"#f0f921\"]]}],\"heatmapgl\":[{\"type\":\"heatmapgl\",\"colorbar\":{\"outlinewidth\":0,\"ticks\":\"\"},\"colorscale\":[[0.0,\"#0d0887\"],[0.1111111111111111,\"#46039f\"],[0.2222222222222222,\"#7201a8\"],[0.3333333333333333,\"#9c179e\"],[0.4444444444444444,\"#bd3786\"],[0.5555555555555556,\"#d8576b\"],[0.6666666666666666,\"#ed7953\"],[0.7777777777777778,\"#fb9f3a\"],[0.8888888888888888,\"#fdca26\"],[1.0,\"#f0f921\"]]}],\"contourcarpet\":[{\"type\":\"contourcarpet\",\"colorbar\":{\"outlinewidth\":0,\"ticks\":\"\"}}],\"contour\":[{\"type\":\"contour\",\"colorbar\":{\"outlinewidth\":0,\"ticks\":\"\"},\"colorscale\":[[0.0,\"#0d0887\"],[0.1111111111111111,\"#46039f\"],[0.2222222222222222,\"#7201a8\"],[0.3333333333333333,\"#9c179e\"],[0.4444444444444444,\"#bd3786\"],[0.5555555555555556,\"#d8576b\"],[0.6666666666666666,\"#ed7953\"],[0.7777777777777778,\"#fb9f3a\"],[0.8888888888888888,\"#fdca26\"],[1.0,\"#f0f921\"]]}],\"surface\":[{\"type\":\"surface\",\"colorbar\":{\"outlinewidth\":0,\"ticks\":\"\"},\"colorscale\":[[0.0,\"#0d0887\"],[0.1111111111111111,\"#46039f\"],[0.2222222222222222,\"#7201a8\"],[0.3333333333333333,\"#9c179e\"],[0.4444444444444444,\"#bd3786\"],[0.5555555555555556,\"#d8576b\"],[0.6666666666666666,\"#ed7953\"],[0.7777777777777778,\"#fb9f3a\"],[0.8888888888888888,\"#fdca26\"],[1.0,\"#f0f921\"]]}],\"mesh3d\":[{\"type\":\"mesh3d\",\"colorbar\":{\"outlinewidth\":0,\"ticks\":\"\"}}],\"scatter\":[{\"fillpattern\":{\"fillmode\":\"overlay\",\"size\":10,\"solidity\":0.2},\"type\":\"scatter\"}],\"parcoords\":[{\"type\":\"parcoords\",\"line\":{\"colorbar\":{\"outlinewidth\":0,\"ticks\":\"\"}}}],\"scatterpolargl\":[{\"type\":\"scatterpolargl\",\"marker\":{\"colorbar\":{\"outlinewidth\":0,\"ticks\":\"\"}}}],\"bar\":[{\"error_x\":{\"color\":\"#2a3f5f\"},\"error_y\":{\"color\":\"#2a3f5f\"},\"marker\":{\"line\":{\"color\":\"#E5ECF6\",\"width\":0.5},\"pattern\":{\"fillmode\":\"overlay\",\"size\":10,\"solidity\":0.2}},\"type\":\"bar\"}],\"scattergeo\":[{\"type\":\"scattergeo\",\"marker\":{\"colorbar\":{\"outlinewidth\":0,\"ticks\":\"\"}}}],\"scatterpolar\":[{\"type\":\"scatterpolar\",\"marker\":{\"colorbar\":{\"outlinewidth\":0,\"ticks\":\"\"}}}],\"histogram\":[{\"marker\":{\"pattern\":{\"fillmode\":\"overlay\",\"size\":10,\"solidity\":0.2}},\"type\":\"histogram\"}],\"scattergl\":[{\"type\":\"scattergl\",\"marker\":{\"colorbar\":{\"outlinewidth\":0,\"ticks\":\"\"}}}],\"scatter3d\":[{\"type\":\"scatter3d\",\"line\":{\"colorbar\":{\"outlinewidth\":0,\"ticks\":\"\"}},\"marker\":{\"colorbar\":{\"outlinewidth\":0,\"ticks\":\"\"}}}],\"scattermapbox\":[{\"type\":\"scattermapbox\",\"marker\":{\"colorbar\":{\"outlinewidth\":0,\"ticks\":\"\"}}}],\"scatterternary\":[{\"type\":\"scatterternary\",\"marker\":{\"colorbar\":{\"outlinewidth\":0,\"ticks\":\"\"}}}],\"scattercarpet\":[{\"type\":\"scattercarpet\",\"marker\":{\"colorbar\":{\"outlinewidth\":0,\"ticks\":\"\"}}}],\"carpet\":[{\"aaxis\":{\"endlinecolor\":\"#2a3f5f\",\"gridcolor\":\"white\",\"linecolor\":\"white\",\"minorgridcolor\":\"white\",\"startlinecolor\":\"#2a3f5f\"},\"baxis\":{\"endlinecolor\":\"#2a3f5f\",\"gridcolor\":\"white\",\"linecolor\":\"white\",\"minorgridcolor\":\"white\",\"startlinecolor\":\"#2a3f5f\"},\"type\":\"carpet\"}],\"table\":[{\"cells\":{\"fill\":{\"color\":\"#EBF0F8\"},\"line\":{\"color\":\"white\"}},\"header\":{\"fill\":{\"color\":\"#C8D4E3\"},\"line\":{\"color\":\"white\"}},\"type\":\"table\"}],\"barpolar\":[{\"marker\":{\"line\":{\"color\":\"#E5ECF6\",\"width\":0.5},\"pattern\":{\"fillmode\":\"overlay\",\"size\":10,\"solidity\":0.2}},\"type\":\"barpolar\"}],\"pie\":[{\"automargin\":true,\"type\":\"pie\"}]},\"layout\":{\"autotypenumbers\":\"strict\",\"colorway\":[\"#636efa\",\"#EF553B\",\"#00cc96\",\"#ab63fa\",\"#FFA15A\",\"#19d3f3\",\"#FF6692\",\"#B6E880\",\"#FF97FF\",\"#FECB52\"],\"font\":{\"color\":\"#2a3f5f\"},\"hovermode\":\"closest\",\"hoverlabel\":{\"align\":\"left\"},\"paper_bgcolor\":\"white\",\"plot_bgcolor\":\"#E5ECF6\",\"polar\":{\"bgcolor\":\"#E5ECF6\",\"angularaxis\":{\"gridcolor\":\"white\",\"linecolor\":\"white\",\"ticks\":\"\"},\"radialaxis\":{\"gridcolor\":\"white\",\"linecolor\":\"white\",\"ticks\":\"\"}},\"ternary\":{\"bgcolor\":\"#E5ECF6\",\"aaxis\":{\"gridcolor\":\"white\",\"linecolor\":\"white\",\"ticks\":\"\"},\"baxis\":{\"gridcolor\":\"white\",\"linecolor\":\"white\",\"ticks\":\"\"},\"caxis\":{\"gridcolor\":\"white\",\"linecolor\":\"white\",\"ticks\":\"\"}},\"coloraxis\":{\"colorbar\":{\"outlinewidth\":0,\"ticks\":\"\"}},\"colorscale\":{\"sequential\":[[0.0,\"#0d0887\"],[0.1111111111111111,\"#46039f\"],[0.2222222222222222,\"#7201a8\"],[0.3333333333333333,\"#9c179e\"],[0.4444444444444444,\"#bd3786\"],[0.5555555555555556,\"#d8576b\"],[0.6666666666666666,\"#ed7953\"],[0.7777777777777778,\"#fb9f3a\"],[0.8888888888888888,\"#fdca26\"],[1.0,\"#f0f921\"]],\"sequentialminus\":[[0.0,\"#0d0887\"],[0.1111111111111111,\"#46039f\"],[0.2222222222222222,\"#7201a8\"],[0.3333333333333333,\"#9c179e\"],[0.4444444444444444,\"#bd3786\"],[0.5555555555555556,\"#d8576b\"],[0.6666666666666666,\"#ed7953\"],[0.7777777777777778,\"#fb9f3a\"],[0.8888888888888888,\"#fdca26\"],[1.0,\"#f0f921\"]],\"diverging\":[[0,\"#8e0152\"],[0.1,\"#c51b7d\"],[0.2,\"#de77ae\"],[0.3,\"#f1b6da\"],[0.4,\"#fde0ef\"],[0.5,\"#f7f7f7\"],[0.6,\"#e6f5d0\"],[0.7,\"#b8e186\"],[0.8,\"#7fbc41\"],[0.9,\"#4d9221\"],[1,\"#276419\"]]},\"xaxis\":{\"gridcolor\":\"white\",\"linecolor\":\"white\",\"ticks\":\"\",\"title\":{\"standoff\":15},\"zerolinecolor\":\"white\",\"automargin\":true,\"zerolinewidth\":2},\"yaxis\":{\"gridcolor\":\"white\",\"linecolor\":\"white\",\"ticks\":\"\",\"title\":{\"standoff\":15},\"zerolinecolor\":\"white\",\"automargin\":true,\"zerolinewidth\":2},\"scene\":{\"xaxis\":{\"backgroundcolor\":\"#E5ECF6\",\"gridcolor\":\"white\",\"linecolor\":\"white\",\"showbackground\":true,\"ticks\":\"\",\"zerolinecolor\":\"white\",\"gridwidth\":2},\"yaxis\":{\"backgroundcolor\":\"#E5ECF6\",\"gridcolor\":\"white\",\"linecolor\":\"white\",\"showbackground\":true,\"ticks\":\"\",\"zerolinecolor\":\"white\",\"gridwidth\":2},\"zaxis\":{\"backgroundcolor\":\"#E5ECF6\",\"gridcolor\":\"white\",\"linecolor\":\"white\",\"showbackground\":true,\"ticks\":\"\",\"zerolinecolor\":\"white\",\"gridwidth\":2}},\"shapedefaults\":{\"line\":{\"color\":\"#2a3f5f\"}},\"annotationdefaults\":{\"arrowcolor\":\"#2a3f5f\",\"arrowhead\":0,\"arrowwidth\":1},\"geo\":{\"bgcolor\":\"white\",\"landcolor\":\"#E5ECF6\",\"subunitcolor\":\"white\",\"showland\":true,\"showlakes\":true,\"lakecolor\":\"white\"},\"title\":{\"x\":0.05},\"mapbox\":{\"style\":\"light\"}}},\"legend\":{\"tracegroupgap\":0},\"title\":{\"text\":\"T\\uc140\\ud30c 15\\ucc28\\uc2dc \\uac00\\uaca9 \\uc810\\uc720\\uc728\"}},                        {\"responsive\": true}                    ).then(function(){\n",
       "                            \n",
       "var gd = document.getElementById('16e1b604-48fe-4c22-a527-7720134459b4');\n",
       "var x = new MutationObserver(function (mutations, observer) {{\n",
       "        var display = window.getComputedStyle(gd).display;\n",
       "        if (!display || display === 'none') {{\n",
       "            console.log([gd, 'removed!']);\n",
       "            Plotly.purge(gd);\n",
       "            observer.disconnect();\n",
       "        }}\n",
       "}});\n",
       "\n",
       "// Listen for the removal of the full notebook cells\n",
       "var notebookContainer = gd.closest('#notebook-container');\n",
       "if (notebookContainer) {{\n",
       "    x.observe(notebookContainer, {childList: true});\n",
       "}}\n",
       "\n",
       "// Listen for the clearing of the current output cell\n",
       "var outputEl = gd.closest('.output');\n",
       "if (outputEl) {{\n",
       "    x.observe(outputEl, {childList: true});\n",
       "}}\n",
       "\n",
       "                        })                };                });            </script>        </div>"
      ]
     },
     "metadata": {},
     "output_type": "display_data"
    }
   ],
   "source": [
    "px.pie(values=time_15_count['제목'], names=time_15_count.index, title='T셀파 15차시 가격 점유율')"
   ]
  },
  {
   "cell_type": "markdown",
   "id": "d72815e2-96c5-42fa-b25c-2c61df289981",
   "metadata": {},
   "source": [
    "### 강좌 시간대가 30차시인 강의의 가격대 분포"
   ]
  },
  {
   "cell_type": "code",
   "execution_count": 42,
   "id": "4dc56b03-b028-4c33-a8e3-49c9cba2744f",
   "metadata": {},
   "outputs": [
    {
     "data": {
      "text/html": [
       "<div>\n",
       "<style scoped>\n",
       "    .dataframe tbody tr th:only-of-type {\n",
       "        vertical-align: middle;\n",
       "    }\n",
       "\n",
       "    .dataframe tbody tr th {\n",
       "        vertical-align: top;\n",
       "    }\n",
       "\n",
       "    .dataframe thead th {\n",
       "        text-align: right;\n",
       "    }\n",
       "</style>\n",
       "<table border=\"1\" class=\"dataframe\">\n",
       "  <thead>\n",
       "    <tr style=\"text-align: right;\">\n",
       "      <th></th>\n",
       "      <th>제목</th>\n",
       "      <th>시간</th>\n",
       "      <th>별점</th>\n",
       "      <th>날짜</th>\n",
       "      <th>본문</th>\n",
       "      <th>연수 분야</th>\n",
       "      <th>가격</th>\n",
       "      <th>대상</th>\n",
       "    </tr>\n",
       "  </thead>\n",
       "  <tbody>\n",
       "    <tr>\n",
       "      <th>15</th>\n",
       "      <td>수업을 살리는 체육 레시피</td>\n",
       "      <td>30</td>\n",
       "      <td>5</td>\n",
       "      <td>2024.06.13</td>\n",
       "      <td>아이들이 정~~~말 좋아하는 체육을 더 더 즐겁게 해주기 위…</td>\n",
       "      <td>교과수업</td>\n",
       "      <td>70000</td>\n",
       "      <td>유치 초등 교육전문직 일반</td>\n",
       "    </tr>\n",
       "    <tr>\n",
       "      <th>16</th>\n",
       "      <td>수업을 살리는 체육 레시피</td>\n",
       "      <td>30</td>\n",
       "      <td>5</td>\n",
       "      <td>2024.04.09</td>\n",
       "      <td>간혹 학교에 물품이 없어서 하지 못하는 체육 활동들에 대한 …</td>\n",
       "      <td>교과수업</td>\n",
       "      <td>70000</td>\n",
       "      <td>유치 초등 교육전문직 일반</td>\n",
       "    </tr>\n",
       "    <tr>\n",
       "      <th>17</th>\n",
       "      <td>수업을 살리는 체육 레시피</td>\n",
       "      <td>30</td>\n",
       "      <td>5</td>\n",
       "      <td>2024.01.22</td>\n",
       "      <td>새학기 재미있는 체육 수업을 위해 ~</td>\n",
       "      <td>교과수업</td>\n",
       "      <td>70000</td>\n",
       "      <td>유치 초등 교육전문직 일반</td>\n",
       "    </tr>\n",
       "    <tr>\n",
       "      <th>18</th>\n",
       "      <td>수업을 살리는 체육 레시피</td>\n",
       "      <td>30</td>\n",
       "      <td>5</td>\n",
       "      <td>2024.01.16</td>\n",
       "      <td>수업하다가 학생들이 가끔 싫어하는 단원들도 있어 이로 응용해…</td>\n",
       "      <td>교과수업</td>\n",
       "      <td>70000</td>\n",
       "      <td>유치 초등 교육전문직 일반</td>\n",
       "    </tr>\n",
       "    <tr>\n",
       "      <th>21</th>\n",
       "      <td>그림검사와 다양한 기법으로 만나는 미술치료</td>\n",
       "      <td>30</td>\n",
       "      <td>5</td>\n",
       "      <td>2024.06.07</td>\n",
       "      <td>학생들이 감정이나 내면세계를 미술 활동을 통해 표현하므로 학…</td>\n",
       "      <td>자기계발</td>\n",
       "      <td>70000</td>\n",
       "      <td>전체</td>\n",
       "    </tr>\n",
       "    <tr>\n",
       "      <th>...</th>\n",
       "      <td>...</td>\n",
       "      <td>...</td>\n",
       "      <td>...</td>\n",
       "      <td>...</td>\n",
       "      <td>...</td>\n",
       "      <td>...</td>\n",
       "      <td>...</td>\n",
       "      <td>...</td>\n",
       "    </tr>\n",
       "    <tr>\n",
       "      <th>127</th>\n",
       "      <td>7인의 전문의와 함께하는 메디컬 콘서트</td>\n",
       "      <td>30</td>\n",
       "      <td>4</td>\n",
       "      <td>2024.04.05</td>\n",
       "      <td>해마다 120시간 이상의 연수를 듣는 저로서는 올해 처음으로…</td>\n",
       "      <td>인문교양</td>\n",
       "      <td>70000</td>\n",
       "      <td>전체</td>\n",
       "    </tr>\n",
       "    <tr>\n",
       "      <th>128</th>\n",
       "      <td>7인의 전문의와 함께하는 메디컬 콘서트</td>\n",
       "      <td>30</td>\n",
       "      <td>3</td>\n",
       "      <td>2024.01.13</td>\n",
       "      <td>저는 좀 아쉬웠어요.\\n좀 오래된 컨텐츠를 가져와 짜깁기인데…</td>\n",
       "      <td>인문교양</td>\n",
       "      <td>70000</td>\n",
       "      <td>전체</td>\n",
       "    </tr>\n",
       "    <tr>\n",
       "      <th>131</th>\n",
       "      <td>나이와 신분을 초월한 독립운동, 그 현장을 읽다</td>\n",
       "      <td>30</td>\n",
       "      <td>5</td>\n",
       "      <td>2024.03.10</td>\n",
       "      <td>나라가 어려울 때 진정성 있는 마음으로 나라를 지켜줄 수 있…</td>\n",
       "      <td>자기계발</td>\n",
       "      <td>0</td>\n",
       "      <td>전체</td>\n",
       "    </tr>\n",
       "    <tr>\n",
       "      <th>132</th>\n",
       "      <td>나이와 신분을 초월한 독립운동, 그 현장을 읽다</td>\n",
       "      <td>30</td>\n",
       "      <td>5</td>\n",
       "      <td>2024.01.25</td>\n",
       "      <td>독립 그 가슴뭉클한 단어에 대해 더 자세히 알 수 있었습니다…</td>\n",
       "      <td>자기계발</td>\n",
       "      <td>0</td>\n",
       "      <td>전체</td>\n",
       "    </tr>\n",
       "    <tr>\n",
       "      <th>139</th>\n",
       "      <td>나만의 여행책 만들기</td>\n",
       "      <td>30</td>\n",
       "      <td>5</td>\n",
       "      <td>2024.01.19</td>\n",
       "      <td>세계 여행을 다녀온 것 같은 기분이 드는 연수입니다.\\n사진…</td>\n",
       "      <td>자기계발</td>\n",
       "      <td>70000</td>\n",
       "      <td>전체</td>\n",
       "    </tr>\n",
       "  </tbody>\n",
       "</table>\n",
       "<p>78 rows × 8 columns</p>\n",
       "</div>"
      ],
      "text/plain": [
       "                             제목  시간 별점          날짜  \\\n",
       "15               수업을 살리는 체육 레시피  30  5  2024.06.13   \n",
       "16               수업을 살리는 체육 레시피  30  5  2024.04.09   \n",
       "17               수업을 살리는 체육 레시피  30  5  2024.01.22   \n",
       "18               수업을 살리는 체육 레시피  30  5  2024.01.16   \n",
       "21      그림검사와 다양한 기법으로 만나는 미술치료  30  5  2024.06.07   \n",
       "..                          ...  .. ..         ...   \n",
       "127       7인의 전문의와 함께하는 메디컬 콘서트  30  4  2024.04.05   \n",
       "128       7인의 전문의와 함께하는 메디컬 콘서트  30  3  2024.01.13   \n",
       "131  나이와 신분을 초월한 독립운동, 그 현장을 읽다  30  5  2024.03.10   \n",
       "132  나이와 신분을 초월한 독립운동, 그 현장을 읽다  30  5  2024.01.25   \n",
       "139                 나만의 여행책 만들기  30  5  2024.01.19   \n",
       "\n",
       "                                     본문 연수 분야     가격              대상  \n",
       "15   아이들이 정~~~말 좋아하는 체육을 더 더 즐겁게 해주기 위…  교과수업  70000  유치 초등 교육전문직 일반  \n",
       "16   간혹 학교에 물품이 없어서 하지 못하는 체육 활동들에 대한 …  교과수업  70000  유치 초등 교육전문직 일반  \n",
       "17                 새학기 재미있는 체육 수업을 위해 ~  교과수업  70000  유치 초등 교육전문직 일반  \n",
       "18   수업하다가 학생들이 가끔 싫어하는 단원들도 있어 이로 응용해…  교과수업  70000  유치 초등 교육전문직 일반  \n",
       "21   학생들이 감정이나 내면세계를 미술 활동을 통해 표현하므로 학…  자기계발  70000              전체  \n",
       "..                                  ...   ...    ...             ...  \n",
       "127  해마다 120시간 이상의 연수를 듣는 저로서는 올해 처음으로…  인문교양  70000              전체  \n",
       "128  저는 좀 아쉬웠어요.\\n좀 오래된 컨텐츠를 가져와 짜깁기인데…  인문교양  70000              전체  \n",
       "131  나라가 어려울 때 진정성 있는 마음으로 나라를 지켜줄 수 있…  자기계발      0              전체  \n",
       "132  독립 그 가슴뭉클한 단어에 대해 더 자세히 알 수 있었습니다…  자기계발      0              전체  \n",
       "139  세계 여행을 다녀온 것 같은 기분이 드는 연수입니다.\\n사진…  자기계발  70000              전체  \n",
       "\n",
       "[78 rows x 8 columns]"
      ]
     },
     "execution_count": 42,
     "metadata": {},
     "output_type": "execute_result"
    }
   ],
   "source": [
    "time_30 = fin_res[fin_res['시간'] == '30']\n",
    "time_30"
   ]
  },
  {
   "cell_type": "code",
   "execution_count": 43,
   "id": "61713dc5-d424-4d9e-8e4b-c10e34692081",
   "metadata": {},
   "outputs": [
    {
     "data": {
      "text/html": [
       "<div>\n",
       "<style scoped>\n",
       "    .dataframe tbody tr th:only-of-type {\n",
       "        vertical-align: middle;\n",
       "    }\n",
       "\n",
       "    .dataframe tbody tr th {\n",
       "        vertical-align: top;\n",
       "    }\n",
       "\n",
       "    .dataframe thead th {\n",
       "        text-align: right;\n",
       "    }\n",
       "</style>\n",
       "<table border=\"1\" class=\"dataframe\">\n",
       "  <thead>\n",
       "    <tr style=\"text-align: right;\">\n",
       "      <th></th>\n",
       "      <th>제목</th>\n",
       "      <th>시간</th>\n",
       "      <th>별점</th>\n",
       "      <th>날짜</th>\n",
       "      <th>본문</th>\n",
       "      <th>연수 분야</th>\n",
       "      <th>대상</th>\n",
       "    </tr>\n",
       "    <tr>\n",
       "      <th>가격</th>\n",
       "      <th></th>\n",
       "      <th></th>\n",
       "      <th></th>\n",
       "      <th></th>\n",
       "      <th></th>\n",
       "      <th></th>\n",
       "      <th></th>\n",
       "    </tr>\n",
       "  </thead>\n",
       "  <tbody>\n",
       "    <tr>\n",
       "      <th>0</th>\n",
       "      <td>2</td>\n",
       "      <td>2</td>\n",
       "      <td>2</td>\n",
       "      <td>2</td>\n",
       "      <td>2</td>\n",
       "      <td>2</td>\n",
       "      <td>2</td>\n",
       "    </tr>\n",
       "    <tr>\n",
       "      <th>70000</th>\n",
       "      <td>76</td>\n",
       "      <td>76</td>\n",
       "      <td>76</td>\n",
       "      <td>76</td>\n",
       "      <td>76</td>\n",
       "      <td>76</td>\n",
       "      <td>76</td>\n",
       "    </tr>\n",
       "  </tbody>\n",
       "</table>\n",
       "</div>"
      ],
      "text/plain": [
       "       제목  시간  별점  날짜  본문  연수 분야  대상\n",
       "가격                                  \n",
       "0       2   2   2   2   2      2   2\n",
       "70000  76  76  76  76  76     76  76"
      ]
     },
     "execution_count": 43,
     "metadata": {},
     "output_type": "execute_result"
    }
   ],
   "source": [
    "time_30_count = time_30.groupby('가격').count()\n",
    "time_30_count"
   ]
  },
  {
   "cell_type": "code",
   "execution_count": 45,
   "id": "1e51323f",
   "metadata": {},
   "outputs": [
    {
     "data": {
      "application/vnd.plotly.v1+json": {
       "config": {
        "plotlyServerURL": "https://plot.ly"
       },
       "data": [
        {
         "domain": {
          "x": [
           0,
           1
          ],
          "y": [
           0,
           1
          ]
         },
         "hovertemplate": "label=%{label}<br>value=%{value}<extra></extra>",
         "labels": [
          "0",
          "70000"
         ],
         "legendgroup": "",
         "name": "",
         "showlegend": true,
         "type": "pie",
         "values": [
          2,
          76
         ]
        }
       ],
       "layout": {
        "legend": {
         "tracegroupgap": 0
        },
        "template": {
         "data": {
          "bar": [
           {
            "error_x": {
             "color": "#2a3f5f"
            },
            "error_y": {
             "color": "#2a3f5f"
            },
            "marker": {
             "line": {
              "color": "#E5ECF6",
              "width": 0.5
             },
             "pattern": {
              "fillmode": "overlay",
              "size": 10,
              "solidity": 0.2
             }
            },
            "type": "bar"
           }
          ],
          "barpolar": [
           {
            "marker": {
             "line": {
              "color": "#E5ECF6",
              "width": 0.5
             },
             "pattern": {
              "fillmode": "overlay",
              "size": 10,
              "solidity": 0.2
             }
            },
            "type": "barpolar"
           }
          ],
          "carpet": [
           {
            "aaxis": {
             "endlinecolor": "#2a3f5f",
             "gridcolor": "white",
             "linecolor": "white",
             "minorgridcolor": "white",
             "startlinecolor": "#2a3f5f"
            },
            "baxis": {
             "endlinecolor": "#2a3f5f",
             "gridcolor": "white",
             "linecolor": "white",
             "minorgridcolor": "white",
             "startlinecolor": "#2a3f5f"
            },
            "type": "carpet"
           }
          ],
          "choropleth": [
           {
            "colorbar": {
             "outlinewidth": 0,
             "ticks": ""
            },
            "type": "choropleth"
           }
          ],
          "contour": [
           {
            "colorbar": {
             "outlinewidth": 0,
             "ticks": ""
            },
            "colorscale": [
             [
              0,
              "#0d0887"
             ],
             [
              0.1111111111111111,
              "#46039f"
             ],
             [
              0.2222222222222222,
              "#7201a8"
             ],
             [
              0.3333333333333333,
              "#9c179e"
             ],
             [
              0.4444444444444444,
              "#bd3786"
             ],
             [
              0.5555555555555556,
              "#d8576b"
             ],
             [
              0.6666666666666666,
              "#ed7953"
             ],
             [
              0.7777777777777778,
              "#fb9f3a"
             ],
             [
              0.8888888888888888,
              "#fdca26"
             ],
             [
              1,
              "#f0f921"
             ]
            ],
            "type": "contour"
           }
          ],
          "contourcarpet": [
           {
            "colorbar": {
             "outlinewidth": 0,
             "ticks": ""
            },
            "type": "contourcarpet"
           }
          ],
          "heatmap": [
           {
            "colorbar": {
             "outlinewidth": 0,
             "ticks": ""
            },
            "colorscale": [
             [
              0,
              "#0d0887"
             ],
             [
              0.1111111111111111,
              "#46039f"
             ],
             [
              0.2222222222222222,
              "#7201a8"
             ],
             [
              0.3333333333333333,
              "#9c179e"
             ],
             [
              0.4444444444444444,
              "#bd3786"
             ],
             [
              0.5555555555555556,
              "#d8576b"
             ],
             [
              0.6666666666666666,
              "#ed7953"
             ],
             [
              0.7777777777777778,
              "#fb9f3a"
             ],
             [
              0.8888888888888888,
              "#fdca26"
             ],
             [
              1,
              "#f0f921"
             ]
            ],
            "type": "heatmap"
           }
          ],
          "heatmapgl": [
           {
            "colorbar": {
             "outlinewidth": 0,
             "ticks": ""
            },
            "colorscale": [
             [
              0,
              "#0d0887"
             ],
             [
              0.1111111111111111,
              "#46039f"
             ],
             [
              0.2222222222222222,
              "#7201a8"
             ],
             [
              0.3333333333333333,
              "#9c179e"
             ],
             [
              0.4444444444444444,
              "#bd3786"
             ],
             [
              0.5555555555555556,
              "#d8576b"
             ],
             [
              0.6666666666666666,
              "#ed7953"
             ],
             [
              0.7777777777777778,
              "#fb9f3a"
             ],
             [
              0.8888888888888888,
              "#fdca26"
             ],
             [
              1,
              "#f0f921"
             ]
            ],
            "type": "heatmapgl"
           }
          ],
          "histogram": [
           {
            "marker": {
             "pattern": {
              "fillmode": "overlay",
              "size": 10,
              "solidity": 0.2
             }
            },
            "type": "histogram"
           }
          ],
          "histogram2d": [
           {
            "colorbar": {
             "outlinewidth": 0,
             "ticks": ""
            },
            "colorscale": [
             [
              0,
              "#0d0887"
             ],
             [
              0.1111111111111111,
              "#46039f"
             ],
             [
              0.2222222222222222,
              "#7201a8"
             ],
             [
              0.3333333333333333,
              "#9c179e"
             ],
             [
              0.4444444444444444,
              "#bd3786"
             ],
             [
              0.5555555555555556,
              "#d8576b"
             ],
             [
              0.6666666666666666,
              "#ed7953"
             ],
             [
              0.7777777777777778,
              "#fb9f3a"
             ],
             [
              0.8888888888888888,
              "#fdca26"
             ],
             [
              1,
              "#f0f921"
             ]
            ],
            "type": "histogram2d"
           }
          ],
          "histogram2dcontour": [
           {
            "colorbar": {
             "outlinewidth": 0,
             "ticks": ""
            },
            "colorscale": [
             [
              0,
              "#0d0887"
             ],
             [
              0.1111111111111111,
              "#46039f"
             ],
             [
              0.2222222222222222,
              "#7201a8"
             ],
             [
              0.3333333333333333,
              "#9c179e"
             ],
             [
              0.4444444444444444,
              "#bd3786"
             ],
             [
              0.5555555555555556,
              "#d8576b"
             ],
             [
              0.6666666666666666,
              "#ed7953"
             ],
             [
              0.7777777777777778,
              "#fb9f3a"
             ],
             [
              0.8888888888888888,
              "#fdca26"
             ],
             [
              1,
              "#f0f921"
             ]
            ],
            "type": "histogram2dcontour"
           }
          ],
          "mesh3d": [
           {
            "colorbar": {
             "outlinewidth": 0,
             "ticks": ""
            },
            "type": "mesh3d"
           }
          ],
          "parcoords": [
           {
            "line": {
             "colorbar": {
              "outlinewidth": 0,
              "ticks": ""
             }
            },
            "type": "parcoords"
           }
          ],
          "pie": [
           {
            "automargin": true,
            "type": "pie"
           }
          ],
          "scatter": [
           {
            "fillpattern": {
             "fillmode": "overlay",
             "size": 10,
             "solidity": 0.2
            },
            "type": "scatter"
           }
          ],
          "scatter3d": [
           {
            "line": {
             "colorbar": {
              "outlinewidth": 0,
              "ticks": ""
             }
            },
            "marker": {
             "colorbar": {
              "outlinewidth": 0,
              "ticks": ""
             }
            },
            "type": "scatter3d"
           }
          ],
          "scattercarpet": [
           {
            "marker": {
             "colorbar": {
              "outlinewidth": 0,
              "ticks": ""
             }
            },
            "type": "scattercarpet"
           }
          ],
          "scattergeo": [
           {
            "marker": {
             "colorbar": {
              "outlinewidth": 0,
              "ticks": ""
             }
            },
            "type": "scattergeo"
           }
          ],
          "scattergl": [
           {
            "marker": {
             "colorbar": {
              "outlinewidth": 0,
              "ticks": ""
             }
            },
            "type": "scattergl"
           }
          ],
          "scattermapbox": [
           {
            "marker": {
             "colorbar": {
              "outlinewidth": 0,
              "ticks": ""
             }
            },
            "type": "scattermapbox"
           }
          ],
          "scatterpolar": [
           {
            "marker": {
             "colorbar": {
              "outlinewidth": 0,
              "ticks": ""
             }
            },
            "type": "scatterpolar"
           }
          ],
          "scatterpolargl": [
           {
            "marker": {
             "colorbar": {
              "outlinewidth": 0,
              "ticks": ""
             }
            },
            "type": "scatterpolargl"
           }
          ],
          "scatterternary": [
           {
            "marker": {
             "colorbar": {
              "outlinewidth": 0,
              "ticks": ""
             }
            },
            "type": "scatterternary"
           }
          ],
          "surface": [
           {
            "colorbar": {
             "outlinewidth": 0,
             "ticks": ""
            },
            "colorscale": [
             [
              0,
              "#0d0887"
             ],
             [
              0.1111111111111111,
              "#46039f"
             ],
             [
              0.2222222222222222,
              "#7201a8"
             ],
             [
              0.3333333333333333,
              "#9c179e"
             ],
             [
              0.4444444444444444,
              "#bd3786"
             ],
             [
              0.5555555555555556,
              "#d8576b"
             ],
             [
              0.6666666666666666,
              "#ed7953"
             ],
             [
              0.7777777777777778,
              "#fb9f3a"
             ],
             [
              0.8888888888888888,
              "#fdca26"
             ],
             [
              1,
              "#f0f921"
             ]
            ],
            "type": "surface"
           }
          ],
          "table": [
           {
            "cells": {
             "fill": {
              "color": "#EBF0F8"
             },
             "line": {
              "color": "white"
             }
            },
            "header": {
             "fill": {
              "color": "#C8D4E3"
             },
             "line": {
              "color": "white"
             }
            },
            "type": "table"
           }
          ]
         },
         "layout": {
          "annotationdefaults": {
           "arrowcolor": "#2a3f5f",
           "arrowhead": 0,
           "arrowwidth": 1
          },
          "autotypenumbers": "strict",
          "coloraxis": {
           "colorbar": {
            "outlinewidth": 0,
            "ticks": ""
           }
          },
          "colorscale": {
           "diverging": [
            [
             0,
             "#8e0152"
            ],
            [
             0.1,
             "#c51b7d"
            ],
            [
             0.2,
             "#de77ae"
            ],
            [
             0.3,
             "#f1b6da"
            ],
            [
             0.4,
             "#fde0ef"
            ],
            [
             0.5,
             "#f7f7f7"
            ],
            [
             0.6,
             "#e6f5d0"
            ],
            [
             0.7,
             "#b8e186"
            ],
            [
             0.8,
             "#7fbc41"
            ],
            [
             0.9,
             "#4d9221"
            ],
            [
             1,
             "#276419"
            ]
           ],
           "sequential": [
            [
             0,
             "#0d0887"
            ],
            [
             0.1111111111111111,
             "#46039f"
            ],
            [
             0.2222222222222222,
             "#7201a8"
            ],
            [
             0.3333333333333333,
             "#9c179e"
            ],
            [
             0.4444444444444444,
             "#bd3786"
            ],
            [
             0.5555555555555556,
             "#d8576b"
            ],
            [
             0.6666666666666666,
             "#ed7953"
            ],
            [
             0.7777777777777778,
             "#fb9f3a"
            ],
            [
             0.8888888888888888,
             "#fdca26"
            ],
            [
             1,
             "#f0f921"
            ]
           ],
           "sequentialminus": [
            [
             0,
             "#0d0887"
            ],
            [
             0.1111111111111111,
             "#46039f"
            ],
            [
             0.2222222222222222,
             "#7201a8"
            ],
            [
             0.3333333333333333,
             "#9c179e"
            ],
            [
             0.4444444444444444,
             "#bd3786"
            ],
            [
             0.5555555555555556,
             "#d8576b"
            ],
            [
             0.6666666666666666,
             "#ed7953"
            ],
            [
             0.7777777777777778,
             "#fb9f3a"
            ],
            [
             0.8888888888888888,
             "#fdca26"
            ],
            [
             1,
             "#f0f921"
            ]
           ]
          },
          "colorway": [
           "#636efa",
           "#EF553B",
           "#00cc96",
           "#ab63fa",
           "#FFA15A",
           "#19d3f3",
           "#FF6692",
           "#B6E880",
           "#FF97FF",
           "#FECB52"
          ],
          "font": {
           "color": "#2a3f5f"
          },
          "geo": {
           "bgcolor": "white",
           "lakecolor": "white",
           "landcolor": "#E5ECF6",
           "showlakes": true,
           "showland": true,
           "subunitcolor": "white"
          },
          "hoverlabel": {
           "align": "left"
          },
          "hovermode": "closest",
          "mapbox": {
           "style": "light"
          },
          "paper_bgcolor": "white",
          "plot_bgcolor": "#E5ECF6",
          "polar": {
           "angularaxis": {
            "gridcolor": "white",
            "linecolor": "white",
            "ticks": ""
           },
           "bgcolor": "#E5ECF6",
           "radialaxis": {
            "gridcolor": "white",
            "linecolor": "white",
            "ticks": ""
           }
          },
          "scene": {
           "xaxis": {
            "backgroundcolor": "#E5ECF6",
            "gridcolor": "white",
            "gridwidth": 2,
            "linecolor": "white",
            "showbackground": true,
            "ticks": "",
            "zerolinecolor": "white"
           },
           "yaxis": {
            "backgroundcolor": "#E5ECF6",
            "gridcolor": "white",
            "gridwidth": 2,
            "linecolor": "white",
            "showbackground": true,
            "ticks": "",
            "zerolinecolor": "white"
           },
           "zaxis": {
            "backgroundcolor": "#E5ECF6",
            "gridcolor": "white",
            "gridwidth": 2,
            "linecolor": "white",
            "showbackground": true,
            "ticks": "",
            "zerolinecolor": "white"
           }
          },
          "shapedefaults": {
           "line": {
            "color": "#2a3f5f"
           }
          },
          "ternary": {
           "aaxis": {
            "gridcolor": "white",
            "linecolor": "white",
            "ticks": ""
           },
           "baxis": {
            "gridcolor": "white",
            "linecolor": "white",
            "ticks": ""
           },
           "bgcolor": "#E5ECF6",
           "caxis": {
            "gridcolor": "white",
            "linecolor": "white",
            "ticks": ""
           }
          },
          "title": {
           "x": 0.05
          },
          "xaxis": {
           "automargin": true,
           "gridcolor": "white",
           "linecolor": "white",
           "ticks": "",
           "title": {
            "standoff": 15
           },
           "zerolinecolor": "white",
           "zerolinewidth": 2
          },
          "yaxis": {
           "automargin": true,
           "gridcolor": "white",
           "linecolor": "white",
           "ticks": "",
           "title": {
            "standoff": 15
           },
           "zerolinecolor": "white",
           "zerolinewidth": 2
          }
         }
        },
        "title": {
         "text": "T셀파 30차시 가격 점유율"
        }
       }
      },
      "text/html": [
       "<div>                            <div id=\"cadb7285-9fba-407b-9042-ffe82c4f1e7b\" class=\"plotly-graph-div\" style=\"height:525px; width:100%;\"></div>            <script type=\"text/javascript\">                require([\"plotly\"], function(Plotly) {                    window.PLOTLYENV=window.PLOTLYENV || {};                                    if (document.getElementById(\"cadb7285-9fba-407b-9042-ffe82c4f1e7b\")) {                    Plotly.newPlot(                        \"cadb7285-9fba-407b-9042-ffe82c4f1e7b\",                        [{\"domain\":{\"x\":[0.0,1.0],\"y\":[0.0,1.0]},\"hovertemplate\":\"label=%{label}<br>value=%{value}<extra></extra>\",\"labels\":[\"0\",\"70000\"],\"legendgroup\":\"\",\"name\":\"\",\"showlegend\":true,\"values\":[2,76],\"type\":\"pie\"}],                        {\"template\":{\"data\":{\"histogram2dcontour\":[{\"type\":\"histogram2dcontour\",\"colorbar\":{\"outlinewidth\":0,\"ticks\":\"\"},\"colorscale\":[[0.0,\"#0d0887\"],[0.1111111111111111,\"#46039f\"],[0.2222222222222222,\"#7201a8\"],[0.3333333333333333,\"#9c179e\"],[0.4444444444444444,\"#bd3786\"],[0.5555555555555556,\"#d8576b\"],[0.6666666666666666,\"#ed7953\"],[0.7777777777777778,\"#fb9f3a\"],[0.8888888888888888,\"#fdca26\"],[1.0,\"#f0f921\"]]}],\"choropleth\":[{\"type\":\"choropleth\",\"colorbar\":{\"outlinewidth\":0,\"ticks\":\"\"}}],\"histogram2d\":[{\"type\":\"histogram2d\",\"colorbar\":{\"outlinewidth\":0,\"ticks\":\"\"},\"colorscale\":[[0.0,\"#0d0887\"],[0.1111111111111111,\"#46039f\"],[0.2222222222222222,\"#7201a8\"],[0.3333333333333333,\"#9c179e\"],[0.4444444444444444,\"#bd3786\"],[0.5555555555555556,\"#d8576b\"],[0.6666666666666666,\"#ed7953\"],[0.7777777777777778,\"#fb9f3a\"],[0.8888888888888888,\"#fdca26\"],[1.0,\"#f0f921\"]]}],\"heatmap\":[{\"type\":\"heatmap\",\"colorbar\":{\"outlinewidth\":0,\"ticks\":\"\"},\"colorscale\":[[0.0,\"#0d0887\"],[0.1111111111111111,\"#46039f\"],[0.2222222222222222,\"#7201a8\"],[0.3333333333333333,\"#9c179e\"],[0.4444444444444444,\"#bd3786\"],[0.5555555555555556,\"#d8576b\"],[0.6666666666666666,\"#ed7953\"],[0.7777777777777778,\"#fb9f3a\"],[0.8888888888888888,\"#fdca26\"],[1.0,\"#f0f921\"]]}],\"heatmapgl\":[{\"type\":\"heatmapgl\",\"colorbar\":{\"outlinewidth\":0,\"ticks\":\"\"},\"colorscale\":[[0.0,\"#0d0887\"],[0.1111111111111111,\"#46039f\"],[0.2222222222222222,\"#7201a8\"],[0.3333333333333333,\"#9c179e\"],[0.4444444444444444,\"#bd3786\"],[0.5555555555555556,\"#d8576b\"],[0.6666666666666666,\"#ed7953\"],[0.7777777777777778,\"#fb9f3a\"],[0.8888888888888888,\"#fdca26\"],[1.0,\"#f0f921\"]]}],\"contourcarpet\":[{\"type\":\"contourcarpet\",\"colorbar\":{\"outlinewidth\":0,\"ticks\":\"\"}}],\"contour\":[{\"type\":\"contour\",\"colorbar\":{\"outlinewidth\":0,\"ticks\":\"\"},\"colorscale\":[[0.0,\"#0d0887\"],[0.1111111111111111,\"#46039f\"],[0.2222222222222222,\"#7201a8\"],[0.3333333333333333,\"#9c179e\"],[0.4444444444444444,\"#bd3786\"],[0.5555555555555556,\"#d8576b\"],[0.6666666666666666,\"#ed7953\"],[0.7777777777777778,\"#fb9f3a\"],[0.8888888888888888,\"#fdca26\"],[1.0,\"#f0f921\"]]}],\"surface\":[{\"type\":\"surface\",\"colorbar\":{\"outlinewidth\":0,\"ticks\":\"\"},\"colorscale\":[[0.0,\"#0d0887\"],[0.1111111111111111,\"#46039f\"],[0.2222222222222222,\"#7201a8\"],[0.3333333333333333,\"#9c179e\"],[0.4444444444444444,\"#bd3786\"],[0.5555555555555556,\"#d8576b\"],[0.6666666666666666,\"#ed7953\"],[0.7777777777777778,\"#fb9f3a\"],[0.8888888888888888,\"#fdca26\"],[1.0,\"#f0f921\"]]}],\"mesh3d\":[{\"type\":\"mesh3d\",\"colorbar\":{\"outlinewidth\":0,\"ticks\":\"\"}}],\"scatter\":[{\"fillpattern\":{\"fillmode\":\"overlay\",\"size\":10,\"solidity\":0.2},\"type\":\"scatter\"}],\"parcoords\":[{\"type\":\"parcoords\",\"line\":{\"colorbar\":{\"outlinewidth\":0,\"ticks\":\"\"}}}],\"scatterpolargl\":[{\"type\":\"scatterpolargl\",\"marker\":{\"colorbar\":{\"outlinewidth\":0,\"ticks\":\"\"}}}],\"bar\":[{\"error_x\":{\"color\":\"#2a3f5f\"},\"error_y\":{\"color\":\"#2a3f5f\"},\"marker\":{\"line\":{\"color\":\"#E5ECF6\",\"width\":0.5},\"pattern\":{\"fillmode\":\"overlay\",\"size\":10,\"solidity\":0.2}},\"type\":\"bar\"}],\"scattergeo\":[{\"type\":\"scattergeo\",\"marker\":{\"colorbar\":{\"outlinewidth\":0,\"ticks\":\"\"}}}],\"scatterpolar\":[{\"type\":\"scatterpolar\",\"marker\":{\"colorbar\":{\"outlinewidth\":0,\"ticks\":\"\"}}}],\"histogram\":[{\"marker\":{\"pattern\":{\"fillmode\":\"overlay\",\"size\":10,\"solidity\":0.2}},\"type\":\"histogram\"}],\"scattergl\":[{\"type\":\"scattergl\",\"marker\":{\"colorbar\":{\"outlinewidth\":0,\"ticks\":\"\"}}}],\"scatter3d\":[{\"type\":\"scatter3d\",\"line\":{\"colorbar\":{\"outlinewidth\":0,\"ticks\":\"\"}},\"marker\":{\"colorbar\":{\"outlinewidth\":0,\"ticks\":\"\"}}}],\"scattermapbox\":[{\"type\":\"scattermapbox\",\"marker\":{\"colorbar\":{\"outlinewidth\":0,\"ticks\":\"\"}}}],\"scatterternary\":[{\"type\":\"scatterternary\",\"marker\":{\"colorbar\":{\"outlinewidth\":0,\"ticks\":\"\"}}}],\"scattercarpet\":[{\"type\":\"scattercarpet\",\"marker\":{\"colorbar\":{\"outlinewidth\":0,\"ticks\":\"\"}}}],\"carpet\":[{\"aaxis\":{\"endlinecolor\":\"#2a3f5f\",\"gridcolor\":\"white\",\"linecolor\":\"white\",\"minorgridcolor\":\"white\",\"startlinecolor\":\"#2a3f5f\"},\"baxis\":{\"endlinecolor\":\"#2a3f5f\",\"gridcolor\":\"white\",\"linecolor\":\"white\",\"minorgridcolor\":\"white\",\"startlinecolor\":\"#2a3f5f\"},\"type\":\"carpet\"}],\"table\":[{\"cells\":{\"fill\":{\"color\":\"#EBF0F8\"},\"line\":{\"color\":\"white\"}},\"header\":{\"fill\":{\"color\":\"#C8D4E3\"},\"line\":{\"color\":\"white\"}},\"type\":\"table\"}],\"barpolar\":[{\"marker\":{\"line\":{\"color\":\"#E5ECF6\",\"width\":0.5},\"pattern\":{\"fillmode\":\"overlay\",\"size\":10,\"solidity\":0.2}},\"type\":\"barpolar\"}],\"pie\":[{\"automargin\":true,\"type\":\"pie\"}]},\"layout\":{\"autotypenumbers\":\"strict\",\"colorway\":[\"#636efa\",\"#EF553B\",\"#00cc96\",\"#ab63fa\",\"#FFA15A\",\"#19d3f3\",\"#FF6692\",\"#B6E880\",\"#FF97FF\",\"#FECB52\"],\"font\":{\"color\":\"#2a3f5f\"},\"hovermode\":\"closest\",\"hoverlabel\":{\"align\":\"left\"},\"paper_bgcolor\":\"white\",\"plot_bgcolor\":\"#E5ECF6\",\"polar\":{\"bgcolor\":\"#E5ECF6\",\"angularaxis\":{\"gridcolor\":\"white\",\"linecolor\":\"white\",\"ticks\":\"\"},\"radialaxis\":{\"gridcolor\":\"white\",\"linecolor\":\"white\",\"ticks\":\"\"}},\"ternary\":{\"bgcolor\":\"#E5ECF6\",\"aaxis\":{\"gridcolor\":\"white\",\"linecolor\":\"white\",\"ticks\":\"\"},\"baxis\":{\"gridcolor\":\"white\",\"linecolor\":\"white\",\"ticks\":\"\"},\"caxis\":{\"gridcolor\":\"white\",\"linecolor\":\"white\",\"ticks\":\"\"}},\"coloraxis\":{\"colorbar\":{\"outlinewidth\":0,\"ticks\":\"\"}},\"colorscale\":{\"sequential\":[[0.0,\"#0d0887\"],[0.1111111111111111,\"#46039f\"],[0.2222222222222222,\"#7201a8\"],[0.3333333333333333,\"#9c179e\"],[0.4444444444444444,\"#bd3786\"],[0.5555555555555556,\"#d8576b\"],[0.6666666666666666,\"#ed7953\"],[0.7777777777777778,\"#fb9f3a\"],[0.8888888888888888,\"#fdca26\"],[1.0,\"#f0f921\"]],\"sequentialminus\":[[0.0,\"#0d0887\"],[0.1111111111111111,\"#46039f\"],[0.2222222222222222,\"#7201a8\"],[0.3333333333333333,\"#9c179e\"],[0.4444444444444444,\"#bd3786\"],[0.5555555555555556,\"#d8576b\"],[0.6666666666666666,\"#ed7953\"],[0.7777777777777778,\"#fb9f3a\"],[0.8888888888888888,\"#fdca26\"],[1.0,\"#f0f921\"]],\"diverging\":[[0,\"#8e0152\"],[0.1,\"#c51b7d\"],[0.2,\"#de77ae\"],[0.3,\"#f1b6da\"],[0.4,\"#fde0ef\"],[0.5,\"#f7f7f7\"],[0.6,\"#e6f5d0\"],[0.7,\"#b8e186\"],[0.8,\"#7fbc41\"],[0.9,\"#4d9221\"],[1,\"#276419\"]]},\"xaxis\":{\"gridcolor\":\"white\",\"linecolor\":\"white\",\"ticks\":\"\",\"title\":{\"standoff\":15},\"zerolinecolor\":\"white\",\"automargin\":true,\"zerolinewidth\":2},\"yaxis\":{\"gridcolor\":\"white\",\"linecolor\":\"white\",\"ticks\":\"\",\"title\":{\"standoff\":15},\"zerolinecolor\":\"white\",\"automargin\":true,\"zerolinewidth\":2},\"scene\":{\"xaxis\":{\"backgroundcolor\":\"#E5ECF6\",\"gridcolor\":\"white\",\"linecolor\":\"white\",\"showbackground\":true,\"ticks\":\"\",\"zerolinecolor\":\"white\",\"gridwidth\":2},\"yaxis\":{\"backgroundcolor\":\"#E5ECF6\",\"gridcolor\":\"white\",\"linecolor\":\"white\",\"showbackground\":true,\"ticks\":\"\",\"zerolinecolor\":\"white\",\"gridwidth\":2},\"zaxis\":{\"backgroundcolor\":\"#E5ECF6\",\"gridcolor\":\"white\",\"linecolor\":\"white\",\"showbackground\":true,\"ticks\":\"\",\"zerolinecolor\":\"white\",\"gridwidth\":2}},\"shapedefaults\":{\"line\":{\"color\":\"#2a3f5f\"}},\"annotationdefaults\":{\"arrowcolor\":\"#2a3f5f\",\"arrowhead\":0,\"arrowwidth\":1},\"geo\":{\"bgcolor\":\"white\",\"landcolor\":\"#E5ECF6\",\"subunitcolor\":\"white\",\"showland\":true,\"showlakes\":true,\"lakecolor\":\"white\"},\"title\":{\"x\":0.05},\"mapbox\":{\"style\":\"light\"}}},\"legend\":{\"tracegroupgap\":0},\"title\":{\"text\":\"T\\uc140\\ud30c 30\\ucc28\\uc2dc \\uac00\\uaca9 \\uc810\\uc720\\uc728\"}},                        {\"responsive\": true}                    ).then(function(){\n",
       "                            \n",
       "var gd = document.getElementById('cadb7285-9fba-407b-9042-ffe82c4f1e7b');\n",
       "var x = new MutationObserver(function (mutations, observer) {{\n",
       "        var display = window.getComputedStyle(gd).display;\n",
       "        if (!display || display === 'none') {{\n",
       "            console.log([gd, 'removed!']);\n",
       "            Plotly.purge(gd);\n",
       "            observer.disconnect();\n",
       "        }}\n",
       "}});\n",
       "\n",
       "// Listen for the removal of the full notebook cells\n",
       "var notebookContainer = gd.closest('#notebook-container');\n",
       "if (notebookContainer) {{\n",
       "    x.observe(notebookContainer, {childList: true});\n",
       "}}\n",
       "\n",
       "// Listen for the clearing of the current output cell\n",
       "var outputEl = gd.closest('.output');\n",
       "if (outputEl) {{\n",
       "    x.observe(outputEl, {childList: true});\n",
       "}}\n",
       "\n",
       "                        })                };                });            </script>        </div>"
      ]
     },
     "metadata": {},
     "output_type": "display_data"
    }
   ],
   "source": [
    "px.pie(values=time_30_count['제목'], names=time_30_count.index, title='T셀파 30차시 가격 점유율')"
   ]
  }
 ],
 "metadata": {
  "kernelspec": {
   "display_name": "Python 3 (ipykernel)",
   "language": "python",
   "name": "python3"
  },
  "language_info": {
   "codemirror_mode": {
    "name": "ipython",
    "version": 3
   },
   "file_extension": ".py",
   "mimetype": "text/x-python",
   "name": "python",
   "nbconvert_exporter": "python",
   "pygments_lexer": "ipython3",
   "version": "3.11.7"
  }
 },
 "nbformat": 4,
 "nbformat_minor": 5
}
